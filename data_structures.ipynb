{
 "cells": [
  {
   "cell_type": "code",
   "execution_count": null,
   "id": "cfed566e",
   "metadata": {},
   "outputs": [],
   "source": [
    "pushed = [1, 2, 3, 4, 5]\n",
    "popped = [1, 3, 5, 4, 2]\n",
    "\n",
    "push_ind = pop_ind = 0\n",
    "stack = list()\n",
    "\n",
    "while push_ind < len(pushed):\n",
    "    stack.append(pushed[push_ind])\n",
    "    \n",
    "    while stack[-1] == popped[pop_ind]:\n",
    "        stack.pop()\n",
    "        pop_ind += 1\n",
    "        \n",
    "    push_ind += 1"
   ]
  },
  {
   "cell_type": "code",
   "execution_count": 4,
   "id": "828d770d",
   "metadata": {},
   "outputs": [
    {
     "name": "stdout",
     "output_type": "stream",
     "text": [
      "1 2 3\n",
      "3 1 2\n",
      "False\n"
     ]
    }
   ],
   "source": [
    "def validate_pushed_popped(pushed: list, popped: list) -> bool:\n",
    "    push_ind = pop_ind = 0\n",
    "    stack = list()\n",
    "\n",
    "    while push_ind < len(pushed):\n",
    "        stack.append(pushed[push_ind])\n",
    "\n",
    "        while len(stack) > 0 and stack[-1] == popped[pop_ind]:\n",
    "            stack.pop()\n",
    "            pop_ind += 1\n",
    "\n",
    "        push_ind += 1\n",
    "        \n",
    "    return len(stack) == 0\n",
    "\n",
    "\n",
    "def solution():\n",
    "    pushed = list(map(int, input().split()))\n",
    "    popped = list(map(int, input().split()))\n",
    "    result = validate_pushed_popped(pushed, popped)\n",
    "    print(result)\n",
    "\n",
    "solution()"
   ]
  },
  {
   "cell_type": "code",
   "execution_count": 12,
   "id": "83f49ffd",
   "metadata": {},
   "outputs": [
    {
     "name": "stdout",
     "output_type": "stream",
     "text": [
      "100 10 40 50 60 100 90\n",
      "1 1 2 3 4 6 1\n"
     ]
    }
   ],
   "source": [
    "def calculate_stock_spans(prices: list) -> list:\n",
    "    spans = [0] * len(prices)\n",
    "    max_price = float('-inf')\n",
    "    \n",
    "    for i, price in enumerate(prices):\n",
    "        if i == 0:\n",
    "            spans[i] = 1\n",
    "            max_price = price\n",
    "        else:\n",
    "            prev_price = prices[i-1]\n",
    "            \n",
    "            if price < prev_price:\n",
    "                spans[i] = 1\n",
    "            elif price == prev_price:\n",
    "                spans[i] = spans[i-1] + 1\n",
    "            else:\n",
    "                span = spans[i-1] + 1\n",
    "                j = i - span\n",
    "                \n",
    "                while j >= 0 and prices[j] <= price:\n",
    "                    span += spans[j]\n",
    "                    j -= spans[j]\n",
    "                \n",
    "                spans[i] = span\n",
    "                \n",
    "    return spans\n",
    "\n",
    "def solution():\n",
    "    prices = list(map(int, input().split()))\n",
    "    spans = calculate_stock_spans(prices)\n",
    "    print(' '.join(map(str, spans)))\n",
    "\n",
    "solution()"
   ]
  },
  {
   "cell_type": "code",
   "execution_count": 19,
   "id": "b0a11c43",
   "metadata": {},
   "outputs": [
    {
     "name": "stdout",
     "output_type": "stream",
     "text": [
      "True\n",
      "True\n",
      "True\n",
      "True\n",
      "True\n",
      "True\n"
     ]
    }
   ],
   "source": [
    "def check_rotation(arr: list) -> int:\n",
    "    default_elem = arr[len(arr) - 1]\n",
    "    prev_ind = 0\n",
    "    next_ind = (len(arr) - 1) // 2\n",
    "    start = 0\n",
    "    end = len(arr) - 1\n",
    "    \n",
    "    while prev_ind != next_ind:\n",
    "#         print(prev_ind, next_ind, start, end)\n",
    "        if arr[next_ind] < default_elem:\n",
    "            if prev_ind < next_ind:\n",
    "                start = prev_ind\n",
    "                temp = next_ind\n",
    "                next_ind = (prev_ind + next_ind) // 2\n",
    "                prev_ind = temp\n",
    "            else:\n",
    "                temp = next_ind\n",
    "                next_ind = (start + next_ind) // 2\n",
    "                prev_ind = temp\n",
    "        else:\n",
    "            if prev_ind > next_ind:\n",
    "                end = prev_ind\n",
    "                temp = next_ind\n",
    "                next_ind = (prev_ind + next_ind) // 2\n",
    "                prev_ind = temp\n",
    "            else:\n",
    "                temp = next_ind\n",
    "                next_ind = (end + next_ind) // 2\n",
    "                prev_ind = temp\n",
    "    \n",
    "    return prev_ind + (prev_ind + 1 == end)\n",
    "\n",
    "\n",
    "print(check_rotation([1]) == 0)\n",
    "print(check_rotation([14, 16, 19, 2, 5, 7, 9]) == 3)\n",
    "print(check_rotation([7, 9, 14, 16, 19, 20, 2, 5]) == 6)\n",
    "print(check_rotation([1, 2, 3, 4, 5, 6, 7, 8, 9, 10]) == 0)\n",
    "print(check_rotation([3, 1, 2]) == 1)\n",
    "print(check_rotation([3, 4, 1, 2]) == 2)"
   ]
  },
  {
   "cell_type": "code",
   "execution_count": 29,
   "id": "6f71f290",
   "metadata": {},
   "outputs": [
    {
     "name": "stdout",
     "output_type": "stream",
     "text": [
      "True\n",
      "True\n",
      "True\n",
      "True\n",
      "True\n",
      "True\n"
     ]
    }
   ],
   "source": [
    "def find_elem_in_arr(arr: list, elem: int) -> int:\n",
    "    left, right = 0, len(arr) - 1\n",
    "    rotation = 0\n",
    "    \n",
    "    while arr[left] > arr[right]:\n",
    "        rotation = right\n",
    "        temp = (left + right) // 2\n",
    "        \n",
    "        if arr[left] >= arr[temp]:\n",
    "            right = temp\n",
    "        elif arr[left] < arr[temp]:\n",
    "            left = temp\n",
    "            \n",
    "    elem_borders = (0, rotation) if elem > arr[-1] else (rotation, len(arr))\n",
    "    left, right = elem_borders\n",
    "    \n",
    "    if elem > arr[right-1] or elem < arr[left]:\n",
    "        return -1\n",
    "    \n",
    "    while left < right:\n",
    "        temp = (left + right) // 2\n",
    "        \n",
    "        if arr[temp] > elem:\n",
    "            right = temp\n",
    "        elif arr[temp] < elem:\n",
    "            left = temp\n",
    "        else:\n",
    "            return temp\n",
    "        \n",
    "        if right - left == 1 and arr[left] != elem:\n",
    "            break\n",
    "        \n",
    "    return -1\n",
    "\n",
    "\n",
    "print(find_elem_in_arr([1], 1) == 0)\n",
    "print(find_elem_in_arr([14, 16, 19, 2, 5, 7, 9], 15) == -1)\n",
    "print(find_elem_in_arr([7, 9, 14, 16, 19, 20, 2, 5], 2) == 6)\n",
    "print(find_elem_in_arr([1, 2, 3, 4, 5, 6, 7, 8, 9, 10], 0) == -1)\n",
    "print(find_elem_in_arr([3, 1, 2], 4) == -1)\n",
    "print(find_elem_in_arr([3, 4, 1, 2], 3) == 0)"
   ]
  }
 ],
 "metadata": {
  "kernelspec": {
   "display_name": "Python 3 (ipykernel)",
   "language": "python",
   "name": "python3"
  },
  "language_info": {
   "codemirror_mode": {
    "name": "ipython",
    "version": 3
   },
   "file_extension": ".py",
   "mimetype": "text/x-python",
   "name": "python",
   "nbconvert_exporter": "python",
   "pygments_lexer": "ipython3",
   "version": "3.9.7"
  }
 },
 "nbformat": 4,
 "nbformat_minor": 5
}
