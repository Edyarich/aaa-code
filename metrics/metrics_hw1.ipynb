{
 "cells": [
  {
   "cell_type": "markdown",
   "metadata": {},
   "source": [
    "## Imports"
   ]
  },
  {
   "cell_type": "code",
   "execution_count": 70,
   "metadata": {},
   "outputs": [],
   "source": [
    "import pandas as pd\n",
    "import numpy as np\n",
    "import matplotlib.pyplot as plt\n",
    "import seaborn as sns\n",
    "\n",
    "\n",
    "pd.set_option('mode.chained_assignment', None)\n",
    "\n",
    "plt.rcParams['font.family'] = 'DejaVu Serif'\n",
    "plt.rcParams['lines.linewidth'] = 2\n",
    "plt.rcParams['lines.markersize'] = 12\n",
    "plt.rcParams['xtick.labelsize'] = 20\n",
    "plt.rcParams['ytick.labelsize'] = 20\n",
    "plt.rcParams['legend.fontsize'] = 20\n",
    "plt.rcParams['axes.titlesize'] = 24\n",
    "plt.rcParams['axes.labelsize'] = 20\n",
    "plt.rcParams[\"figure.figsize\"] = (14, 8)"
   ]
  },
  {
   "cell_type": "markdown",
   "metadata": {},
   "source": [
    "## Task1"
   ]
  },
  {
   "cell_type": "markdown",
   "metadata": {},
   "source": [
    "**Чтение и вывод данных**"
   ]
  },
  {
   "cell_type": "code",
   "execution_count": 4,
   "metadata": {},
   "outputs": [],
   "source": [
    "def print_df_info(dataframe: pd.DataFrame) -> None:\n",
    "    print(dataframe.shape)\n",
    "    print(dataframe.sample(5))"
   ]
  },
  {
   "cell_type": "code",
   "execution_count": 5,
   "metadata": {},
   "outputs": [
    {
     "name": "stdout",
     "output_type": "stream",
     "text": [
      "(541909, 10)\n",
      "       InvoiceNo StockCode                        Description  Quantity  \\\n",
      "404572    571682     22867            HAND WARMER BIRD DESIGN         2   \n",
      "455487    575623     23263  SET OF 3 WOODEN HEART DECORATIONS        24   \n",
      "237172    557804     23029    DRAWER KNOB CRACKLE GLAZE GREEN        12   \n",
      "67420     541830     22135         MINI LADLE LOVE HEART PINK         1   \n",
      "524777    580610     22889       NUMBER TILE VINTAGE FONT No          1   \n",
      "\n",
      "               InvoiceDate  UnitPrice  CustomerID         Country  \\\n",
      "404572 2011-10-18 14:00:00       2.10     14179.0  United Kingdom   \n",
      "455487 2011-11-10 13:14:00       1.25     14064.0  United Kingdom   \n",
      "237172 2011-06-23 10:24:00       1.65     18198.0  United Kingdom   \n",
      "67420  2011-01-21 17:09:00       0.42         NaN  United Kingdom   \n",
      "524777 2011-12-05 11:48:00       4.13         NaN  United Kingdom   \n",
      "\n",
      "        InvoiceYearMonth  Revenue  \n",
      "404572            201110     4.20  \n",
      "455487            201111    30.00  \n",
      "237172            201106    19.80  \n",
      "67420             201101     0.42  \n",
      "524777            201112     4.13  \n"
     ]
    }
   ],
   "source": [
    "df = pd.read_csv('OnlineRetail.csv', encoding = \"ISO-8859-1\")\n",
    "df['InvoiceDate'] = pd.to_datetime(df['InvoiceDate'])\n",
    "df['InvoiceYearMonth'] = df['InvoiceDate'].map(lambda date: 100*date.year + date.month)\n",
    "df['Revenue'] = df['UnitPrice'] * df['Quantity']\n",
    "\n",
    "print_df_info(df)"
   ]
  },
  {
   "cell_type": "markdown",
   "metadata": {},
   "source": [
    "**Для каждого покупателя находим первый момент совершения покупки**"
   ]
  },
  {
   "cell_type": "code",
   "execution_count": 6,
   "metadata": {},
   "outputs": [
    {
     "name": "stdout",
     "output_type": "stream",
     "text": [
      "(4372, 2)\n",
      "      CustomerID  FirstInvoice\n",
      "476      12953.0        201111\n",
      "4198     18056.0        201102\n",
      "1567     14466.0        201012\n",
      "3463     17037.0        201109\n",
      "1264     14047.0        201012\n"
     ]
    }
   ],
   "source": [
    "df_fp = df.groupby('CustomerID').InvoiceYearMonth.min().reset_index()\n",
    "df_fp.columns = ['CustomerID', 'FirstInvoice']\n",
    "\n",
    "print_df_info(df_fp)"
   ]
  },
  {
   "cell_type": "markdown",
   "metadata": {},
   "source": [
    "**Соединяем полученную таблицу с основной по `CustomerID`**"
   ]
  },
  {
   "cell_type": "code",
   "execution_count": 7,
   "metadata": {},
   "outputs": [
    {
     "name": "stdout",
     "output_type": "stream",
     "text": [
      "(406829, 11)\n",
      "       InvoiceNo StockCode                     Description  Quantity  \\\n",
      "98004     541950     21524  DOORMAT SPOTTY HOME SWEET HOME        10   \n",
      "197532    568670     22112      CHOCOLATE HOT WATER BOTTLE         2   \n",
      "406637    581142     22532  MAGIC DRAWING SLATE LEAP FROG          4   \n",
      "15675     579188     22041    RECORD FRAME 7\" SINGLE SIZE          4   \n",
      "157069    539008     22127   PARTY CONES CARNIVAL ASSORTED        24   \n",
      "\n",
      "               InvoiceDate  UnitPrice  CustomerID         Country  \\\n",
      "98004  2011-01-24 12:13:00       6.75     15498.0  United Kingdom   \n",
      "197532 2011-09-28 13:07:00       4.95     14978.0  United Kingdom   \n",
      "406637 2011-12-07 13:38:00       0.42     14204.0  United Kingdom   \n",
      "15675  2011-11-28 15:34:00       2.55     12748.0  United Kingdom   \n",
      "157069 2010-12-15 13:21:00       1.25     17033.0  United Kingdom   \n",
      "\n",
      "        InvoiceYearMonth  Revenue  FirstInvoice  \n",
      "98004             201101    67.50        201012  \n",
      "197532            201109     9.90        201101  \n",
      "406637            201112     1.68        201112  \n",
      "15675             201111    10.20        201012  \n",
      "157069            201012    30.00        201012  \n"
     ]
    }
   ],
   "source": [
    "df = pd.merge(df, df_fp, how='inner', on='CustomerID')\n",
    "print_df_info(df)"
   ]
  },
  {
   "cell_type": "markdown",
   "metadata": {},
   "source": [
    "**Получаем метрики, по которым будет строиться Retention Table**"
   ]
  },
  {
   "cell_type": "code",
   "execution_count": 8,
   "metadata": {},
   "outputs": [
    {
     "name": "stdout",
     "output_type": "stream",
     "text": [
      "(13675, 5)\n",
      "      CustomerID  FirstInvoice  InvoiceYearMonth  Revenue  InvoiceNo\n",
      "8938     16175.0        201104            201105   194.12         13\n",
      "3892     13993.0        201101            201109   361.55         12\n",
      "5316     14551.0        201105            201111    60.80          3\n",
      "8494     15985.0        201104            201108   242.84         10\n",
      "3457     13798.0        201012            201111  2377.89         38\n"
     ]
    }
   ],
   "source": [
    "df_users = df.groupby(['CustomerID', 'FirstInvoice', 'InvoiceYearMonth'])\\\n",
    "    .agg({'Revenue':'sum', 'InvoiceNo':'count'}).reset_index()\n",
    "\n",
    "print_df_info(df_users)"
   ]
  },
  {
   "cell_type": "markdown",
   "metadata": {},
   "source": [
    "**Строим вспомогательную таблицу**"
   ]
  },
  {
   "cell_type": "code",
   "execution_count": 10,
   "metadata": {},
   "outputs": [],
   "source": [
    "def get_crosstab(df, value_column):\n",
    "    df_crosstab = pd.crosstab(df.CustomerID, df.InvoiceYearMonth, values=df[value_column], aggfunc=sum)\\\n",
    "        .reset_index()\n",
    "    df_crosstab = pd.merge(df_crosstab, df_fp, how='inner', on='CustomerID')\n",
    "    del df_crosstab['CustomerID']\n",
    "    return df_crosstab\n",
    "\n",
    "\n",
    "df_crosstab_revenue = get_crosstab(df_users, 'Revenue')\n",
    "df_crosstab_invoice = get_crosstab(df_users, 'InvoiceNo')"
   ]
  },
  {
   "cell_type": "code",
   "execution_count": 11,
   "metadata": {},
   "outputs": [
    {
     "name": "stdout",
     "output_type": "stream",
     "text": [
      "(4372, 14)\n",
      "       201012   201101   201102   201103  201104   201105   201106   201107  \\\n",
      "803   3001.85  1799.42   786.00  1490.77  2071.9  1871.22  1790.97  2337.47   \n",
      "2245      NaN      NaN  1019.42      NaN     NaN   555.85   524.00      NaN   \n",
      "2712      NaN      NaN      NaN      NaN     NaN      NaN      NaN      NaN   \n",
      "1810      NaN      NaN      NaN      NaN     NaN      NaN      NaN      NaN   \n",
      "503       NaN      NaN      NaN      NaN     NaN      NaN      NaN      NaN   \n",
      "\n",
      "       201108   201109   201110   201111   201112  FirstInvoice  \n",
      "803   1944.55  2863.07  2137.21  4003.11  1389.87        201012  \n",
      "2245      NaN  2582.78      NaN  1245.81      NaN        201102  \n",
      "2712      NaN      NaN   211.88      NaN      NaN        201110  \n",
      "1810      NaN      NaN      NaN   228.99   -14.85        201111  \n",
      "503       NaN   200.72      NaN      NaN      NaN        201109  \n"
     ]
    }
   ],
   "source": [
    "print_df_info(df_crosstab_revenue)"
   ]
  },
  {
   "cell_type": "code",
   "execution_count": 12,
   "metadata": {},
   "outputs": [
    {
     "name": "stdout",
     "output_type": "stream",
     "text": [
      "(4372, 14)\n",
      "      201012  201101  201102  201103  201104  201105  201106  201107  201108  \\\n",
      "1021     NaN     NaN     NaN    21.0     NaN     NaN     NaN     NaN     NaN   \n",
      "1778    32.0     3.0     NaN     NaN     NaN    19.0     NaN     NaN    24.0   \n",
      "606     14.0     NaN     NaN     NaN    12.0     NaN     NaN     7.0     NaN   \n",
      "3541    16.0     NaN     NaN    17.0     NaN     NaN     NaN     NaN     2.0   \n",
      "963      NaN    38.0     NaN     NaN    35.0     NaN     NaN     NaN    20.0   \n",
      "\n",
      "      201109  201110  201111  201112  FirstInvoice  \n",
      "1021     NaN     NaN     NaN     NaN        201103  \n",
      "1778     NaN     NaN    14.0     NaN        201012  \n",
      "606     14.0     8.0     8.0     NaN        201012  \n",
      "3541     NaN     NaN     NaN     NaN        201012  \n",
      "963     63.0     NaN    32.0     NaN        201101  \n"
     ]
    }
   ],
   "source": [
    "print_df_info(df_crosstab_invoice)"
   ]
  },
  {
   "cell_type": "markdown",
   "metadata": {},
   "source": [
    "**Построение Revenue и Transaction Retention Tables**"
   ]
  },
  {
   "cell_type": "code",
   "execution_count": 14,
   "metadata": {},
   "outputs": [],
   "source": [
    "def get_retention(df):\n",
    "    df_triangle = df.groupby(['FirstInvoice']).sum().reset_index()\n",
    "    df_triangle['Base'] = np.diag(df_triangle.iloc[:,1:])\n",
    "    df_retention = pd.DataFrame(df_triangle[['FirstInvoice', 'Base']])\n",
    "    df_retention.columns = ['Cohort', 'Base']\n",
    "\n",
    "    for col in df_triangle.columns[1:-1]:\n",
    "        df_retention[col] = round(df_triangle[col] / df_triangle['Base'], 3)\n",
    "\n",
    "    for i in range(2, len(df_retention.columns)):\n",
    "        df_retention.iloc[i-1:, i] = None\n",
    "        \n",
    "    return df_retention\n",
    "\n",
    "revenue_retention = get_retention(df_crosstab_revenue)\n",
    "invoice_retention = get_retention(df_crosstab_invoice)"
   ]
  },
  {
   "cell_type": "markdown",
   "metadata": {},
   "source": [
    "### Revenue retention"
   ]
  },
  {
   "cell_type": "code",
   "execution_count": 95,
   "metadata": {},
   "outputs": [
    {
     "data": {
      "image/png": "[encoded data removed]",
      "text/plain": [
       "<Figure size 1224x576 with 2 Axes>"
      ]
     },
     "metadata": {
      "needs_background": "light"
     },
     "output_type": "display_data"
    }
   ],
   "source": [
    "revenue_by_month = df.groupby('InvoiceYearMonth')['Revenue'].sum()\n",
    "revenue_by_first_month = df.groupby('FirstInvoice')['Revenue'].sum()\n",
    "k_month = len(revenue_by_month)\n",
    "\n",
    "fig, axes = plt.subplots(1, 2, figsize=(17, 8))\n",
    "\n",
    "axes[0].bar(x=range(k_month), height=revenue_by_month)\n",
    "axes[0].set_title(\"Total revenue by month\")\n",
    "axes[0].set_xticks(range(k_month))\n",
    "axes[0].set_xticklabels(\n",
    "    labels=revenue_by_month.index,\n",
    "    rotation=90\n",
    ")\n",
    "\n",
    "axes[1].bar(x=range(k_month), height=revenue_by_first_month)\n",
    "axes[1].set_title(\"Total revenue by first month\")\n",
    "axes[1].set_xticks(range(k_month))\n",
    "axes[1].set_xticklabels(\n",
    "    labels=revenue_by_first_month.index,\n",
    "    rotation=90\n",
    ")\n",
    "\n",
    "plt.show()"
   ]
  },
  {
   "cell_type": "code",
   "execution_count": 72,
   "metadata": {
    "scrolled": false
   },
   "outputs": [
    {
     "data": {
      "image/png": "[encoded data removed]",
      "text/plain": [
       "<Figure size 720x720 with 2 Axes>"
      ]
     },
     "metadata": {
      "needs_background": "light"
     },
     "output_type": "display_data"
    }
   ],
   "source": [
    "plt.figure(figsize=(10, 10))\n",
    "sns.heatmap(\n",
    "    revenue_retention.iloc[:, 2:],\n",
    "    annot=True,\n",
    "    ax=plt.gca(),\n",
    "    center=1.0\n",
    ");"
   ]
  },
  {
   "cell_type": "markdown",
   "metadata": {},
   "source": [
    "### Transaction retention"
   ]
  },
  {
   "cell_type": "code",
   "execution_count": 116,
   "metadata": {},
   "outputs": [
    {
     "data": {
      "image/png": "[encoded data removed]",
      "text/plain": [
       "<Figure size 1224x576 with 2 Axes>"
      ]
     },
     "metadata": {
      "needs_background": "light"
     },
     "output_type": "display_data"
    }
   ],
   "source": [
    "trans_by_month = df_crosstab_invoice.iloc[:, :-1].sum()\n",
    "trans_by_first_month = df_crosstab_invoice.groupby('FirstInvoice').sum().sum(axis=1)\n",
    "k_month = len(trans_by_month)\n",
    "\n",
    "fig, axes = plt.subplots(1, 2, figsize=(17, 8))\n",
    "\n",
    "axes[0].bar(x=range(k_month), height=trans_by_month)\n",
    "axes[0].set_title(\"Total transactions by month\")\n",
    "axes[0].set_xticks(range(k_month))\n",
    "axes[0].set_xticklabels(\n",
    "    labels=trans_by_month.index,\n",
    "    rotation=90\n",
    ")\n",
    "\n",
    "axes[1].bar(x=range(k_month), height=trans_by_first_month)\n",
    "axes[1].set_title(\"Total transactions by first month\")\n",
    "axes[1].set_xticks(range(k_month))\n",
    "axes[1].set_xticklabels(\n",
    "    labels=trans_by_month.index,\n",
    "    rotation=90\n",
    ")\n",
    "\n",
    "plt.show()"
   ]
  },
  {
   "cell_type": "code",
   "execution_count": 17,
   "metadata": {
    "scrolled": false
   },
   "outputs": [
    {
     "data": {
      "image/png": "[encoded data removed]",
      "text/plain": [
       "<Figure size 720x720 with 2 Axes>"
      ]
     },
     "metadata": {
      "needs_background": "light"
     },
     "output_type": "display_data"
    }
   ],
   "source": [
    "plt.figure(figsize=(10, 10))\n",
    "sns.heatmap(\n",
    "    invoice_retention.iloc[:, 2:],\n",
    "    annot=True,\n",
    "    ax=plt.gca(),\n",
    "    center=1.0\n",
    ");"
   ]
  },
  {
   "cell_type": "markdown",
   "metadata": {},
   "source": [
    "## Ответ"
   ]
  },
  {
   "cell_type": "markdown",
   "metadata": {},
   "source": [
    "1. Sales и transaction retention за декабрь 2011 года ХУЖЕ, чем за декабрь 2010 года\n",
    "2. \"Старые\" клиенты (то есть покупатели, совершившие первую покупку в декабре 2011 года) совершают 53% годового товарооборота ==> мало новых активных покупателей\n",
    "3. По неизвестной причине осенью наблюдался подъём покупательской активности. В этот период проявили повышенный интерес декабрьская, январская и августовская когорты."
   ]
  },
  {
   "cell_type": "code",
   "execution_count": 124,
   "metadata": {},
   "outputs": [
    {
     "name": "stdout",
     "output_type": "stream",
     "text": [
      "53.1203492695582\n"
     ]
    }
   ],
   "source": [
    "print(100 * revenue_by_first_month.values[0] / sum(revenue_by_first_month))"
   ]
  },
  {
   "cell_type": "markdown",
   "metadata": {},
   "source": [
    "## Task 2"
   ]
  },
  {
   "cell_type": "markdown",
   "metadata": {},
   "source": [
    "**Чтение и вывод данных**"
   ]
  },
  {
   "cell_type": "code",
   "execution_count": 18,
   "metadata": {},
   "outputs": [],
   "source": [
    "df_orders = pd.read_csv('orders.csv')\n",
    "df_orders['order_month'] = df_orders['order_date'].apply(lambda x: x[0:7])\n",
    "df_orders['order_year'] = df_orders['order_date'].apply(lambda x: x[0:4])\n",
    "\n",
    "df_customers = pd.read_csv('customers.csv')\n",
    "cols = ['customer_id']\n",
    "cols.extend(df_customers.columns[1:])\n",
    "df_customers.columns = cols"
   ]
  },
  {
   "cell_type": "code",
   "execution_count": 19,
   "metadata": {},
   "outputs": [
    {
     "name": "stdout",
     "output_type": "stream",
     "text": [
      "(5009, 7)\n",
      "          id  order_date ship_mode customer_id    sales order_month order_year\n",
      "2808  100426  2017-06-04  Standard    DC-12850   12.480     2017-06       2017\n",
      "1628  163440  2015-03-22     First    RD-19900   15.984     2015-03       2015\n",
      "4426  136476  2015-04-05  Standard    GG-14650  157.794     2015-04       2015\n",
      "1450  149342  2015-04-20  Standard    TS-21160  896.310     2015-04       2015\n",
      "1653  165554  2015-05-18  Standard    AJ-10780   10.860     2015-05       2015\n"
     ]
    }
   ],
   "source": [
    "print_df_info(df_orders)"
   ]
  },
  {
   "cell_type": "code",
   "execution_count": 20,
   "metadata": {},
   "outputs": [
    {
     "name": "stdout",
     "output_type": "stream",
     "text": [
      "(793, 5)\n",
      "    customer_id              name      segment        state     city\n",
      "26     TB-21055   Ted Butterfield     Consumer     New York     Troy\n",
      "349    SW-20275  Scott Williamson     Consumer  Mississippi  Jackson\n",
      "46     RB-19465      Rick Bensley  Home Office     Illinois  Chicago\n",
      "434    CP-12085    Cathy Prescott    Corporate  Connecticut  Norwich\n",
      "765    JK-16090     Juliana Krohn     Consumer     Nebraska    Omaha\n"
     ]
    }
   ],
   "source": [
    "print_df_info(df_customers)"
   ]
  },
  {
   "cell_type": "markdown",
   "metadata": {},
   "source": [
    "**Соединяем две таблицы**"
   ]
  },
  {
   "cell_type": "code",
   "execution_count": 22,
   "metadata": {},
   "outputs": [
    {
     "name": "stdout",
     "output_type": "stream",
     "text": [
      "(5009, 11)\n",
      "          id  order_date ship_mode customer_id    sales order_month  \\\n",
      "2792  122945  2017-11-16  Standard    MB-18085   17.310     2017-11   \n",
      "3705  133536  2015-03-28    Second    JH-15820   22.920     2015-03   \n",
      "4754  116799  2016-03-03     First    JG-15310  606.214     2016-03   \n",
      "614   106971  2014-09-02  Standard    BM-11785  475.944     2014-09   \n",
      "1716  153948  2017-11-06  Same Day    FM-14290  190.050     2017-11   \n",
      "\n",
      "     order_year          name      segment         state         city  \n",
      "2792       2017    Mick Brown     Consumer    New Jersey     Vineland  \n",
      "3705       2015   John Huston     Consumer          Ohio         Kent  \n",
      "4754       2016   Jason Gross    Corporate  Rhode Island   Providence  \n",
      "614        2014   Bryan Mills     Consumer          Ohio     Columbus  \n",
      "1716       2017  Frank Merwin  Home Office    California  Los Angeles  \n"
     ]
    }
   ],
   "source": [
    "df_merge = pd.merge(df_orders, df_customers, 'inner', on='customer_id')\n",
    "print_df_info(df_merge)"
   ]
  },
  {
   "cell_type": "markdown",
   "metadata": {},
   "source": [
    "**Для каждого покупателя находим первый момент совершения покупки**"
   ]
  },
  {
   "cell_type": "code",
   "execution_count": 23,
   "metadata": {},
   "outputs": [
    {
     "name": "stdout",
     "output_type": "stream",
     "text": [
      "(793, 2)\n",
      "    customer_id first_order\n",
      "507    MG-18145        2014\n",
      "154    CM-11815        2014\n",
      "34     AH-10690        2014\n",
      "169    CR-12820        2015\n",
      "133    CC-12475        2014\n"
     ]
    }
   ],
   "source": [
    "df_first = df_merge.groupby('customer_id')['order_year'].min().reset_index()\n",
    "df_first.columns = ['customer_id', 'first_order']\n",
    "print_df_info(df_first)"
   ]
  },
  {
   "cell_type": "markdown",
   "metadata": {},
   "source": [
    "**Соединяем полученную таблицу с основной по `CustomerID`**"
   ]
  },
  {
   "cell_type": "code",
   "execution_count": 24,
   "metadata": {},
   "outputs": [
    {
     "name": "stdout",
     "output_type": "stream",
     "text": [
      "(5009, 12)\n",
      "          id  order_date ship_mode customer_id    sales order_month  \\\n",
      "590   125682  2014-11-22     First    RB-19645    9.960     2014-11   \n",
      "2759  140200  2015-07-26     First    CA-12775  393.165     2015-07   \n",
      "1080  122539  2017-12-01  Standard    SC-20305  422.909     2017-12   \n",
      "3591  134915  2017-11-12  Same Day    EM-14140  972.080     2017-11   \n",
      "3826  101161  2016-10-13  Standard    BW-11110  279.670     2016-10   \n",
      "\n",
      "     order_year              name      segment      state             city  \\\n",
      "590        2014    Robert Barroso    Corporate     Nevada  North Las Vegas   \n",
      "2759       2015   Cynthia Arntzen     Consumer    Florida            Tampa   \n",
      "1080       2017  Sean Christensen     Consumer   Michigan  Rochester Hills   \n",
      "3591       2017      Eugene Moren  Home Office    Arizona         Glendale   \n",
      "3826       2016      Bart Watters    Corporate  Wisconsin        Milwaukee   \n",
      "\n",
      "     first_order  \n",
      "590         2014  \n",
      "2759        2014  \n",
      "1080        2014  \n",
      "3591        2014  \n",
      "3826        2015  \n"
     ]
    }
   ],
   "source": [
    "df_full = pd.merge(df_merge, df_first, 'inner', on='customer_id')\n",
    "print_df_info(df_full)"
   ]
  },
  {
   "cell_type": "markdown",
   "metadata": {},
   "source": [
    "**Получаем метрики, по которым будет строиться Retention Table**"
   ]
  },
  {
   "cell_type": "code",
   "execution_count": 25,
   "metadata": {},
   "outputs": [
    {
     "name": "stdout",
     "output_type": "stream",
     "text": [
      "(3685, 7)\n",
      "     customer_id first_order order_year ship_mode      segment    sales  id\n",
      "2692    NZ-18565        2014       2017  Standard  Home Office  330.980   2\n",
      "3147    SC-20680        2014       2017  Standard  Home Office   71.980   1\n",
      "2944    RD-19660        2015       2015     First  Home Office  454.272   1\n",
      "2717    PB-19150        2014       2016  Standard     Consumer  383.800   1\n",
      "2756    PJ-18835        2014       2017  Standard    Corporate   90.512   2\n"
     ]
    }
   ],
   "source": [
    "df_users = df_full.groupby(['customer_id', 'first_order', 'order_year', 'ship_mode', 'segment'])\\\n",
    "    .agg({'sales':'sum', 'id':'count'}).reset_index()\n",
    "print_df_info(df_users)"
   ]
  },
  {
   "cell_type": "markdown",
   "metadata": {},
   "source": [
    "**Функция для построения Retention Table**"
   ]
  },
  {
   "cell_type": "code",
   "execution_count": 26,
   "metadata": {},
   "outputs": [],
   "source": [
    "def get_crosstab(df, value_column):\n",
    "    df_crosstab = pd.crosstab(df.customer_id, df.order_year, values=df[value_column], aggfunc=sum)\\\n",
    "        .reset_index()\n",
    "    df_crosstab = pd.merge(df_crosstab, df_first, how='inner', on='customer_id')\n",
    "    del df_crosstab['customer_id']\n",
    "    return df_crosstab\n",
    "\n",
    "\n",
    "def get_retention(df):\n",
    "    df_triangle = df.groupby(['first_order']).sum().reset_index()\n",
    "    df_triangle['Base'] = np.diag(df_triangle.iloc[:,1:])\n",
    "    df_retention = pd.DataFrame(df_triangle[['first_order', 'Base']])\n",
    "    df_retention.columns = ['Cohort', 'Base']\n",
    "\n",
    "    for col in df_triangle.columns[1:-1]:\n",
    "        df_retention[col] = round(df_triangle[col] / df_triangle['Base'], 3)\n",
    "\n",
    "    for i in range(2, len(df_retention.columns)):\n",
    "        df_retention.iloc[i-1:, i] = None\n",
    "        \n",
    "    return df_retention"
   ]
  },
  {
   "cell_type": "markdown",
   "metadata": {},
   "source": [
    "### Sales retention"
   ]
  },
  {
   "cell_type": "code",
   "execution_count": 27,
   "metadata": {},
   "outputs": [
    {
     "data": {
      "text/html": [
       "<div>\n",
       "<style scoped>\n",
       "    .dataframe tbody tr th:only-of-type {\n",
       "        vertical-align: middle;\n",
       "    }\n",
       "\n",
       "    .dataframe tbody tr th {\n",
       "        vertical-align: top;\n",
       "    }\n",
       "\n",
       "    .dataframe thead th {\n",
       "        text-align: right;\n",
       "    }\n",
       "</style>\n",
       "<table border=\"1\" class=\"dataframe\">\n",
       "  <thead>\n",
       "    <tr style=\"text-align: right;\">\n",
       "      <th></th>\n",
       "      <th>Cohort</th>\n",
       "      <th>Base</th>\n",
       "      <th>2014</th>\n",
       "      <th>2015</th>\n",
       "      <th>2016</th>\n",
       "      <th>2017</th>\n",
       "    </tr>\n",
       "  </thead>\n",
       "  <tbody>\n",
       "    <tr>\n",
       "      <th>0</th>\n",
       "      <td>2014</td>\n",
       "      <td>484247.4981</td>\n",
       "      <td>1.0</td>\n",
       "      <td>0.754</td>\n",
       "      <td>0.939</td>\n",
       "      <td>1.101</td>\n",
       "    </tr>\n",
       "    <tr>\n",
       "      <th>1</th>\n",
       "      <td>2015</td>\n",
       "      <td>105388.4962</td>\n",
       "      <td>NaN</td>\n",
       "      <td>1.000</td>\n",
       "      <td>0.944</td>\n",
       "      <td>1.250</td>\n",
       "    </tr>\n",
       "    <tr>\n",
       "      <th>2</th>\n",
       "      <td>2016</td>\n",
       "      <td>54803.6200</td>\n",
       "      <td>NaN</td>\n",
       "      <td>NaN</td>\n",
       "      <td>1.000</td>\n",
       "      <td>1.111</td>\n",
       "    </tr>\n",
       "    <tr>\n",
       "      <th>3</th>\n",
       "      <td>2017</td>\n",
       "      <td>7511.8050</td>\n",
       "      <td>NaN</td>\n",
       "      <td>NaN</td>\n",
       "      <td>NaN</td>\n",
       "      <td>1.000</td>\n",
       "    </tr>\n",
       "  </tbody>\n",
       "</table>\n",
       "</div>"
      ],
      "text/plain": [
       "  Cohort         Base  2014   2015   2016   2017\n",
       "0   2014  484247.4981   1.0  0.754  0.939  1.101\n",
       "1   2015  105388.4962   NaN  1.000  0.944  1.250\n",
       "2   2016   54803.6200   NaN    NaN  1.000  1.111\n",
       "3   2017    7511.8050   NaN    NaN    NaN  1.000"
      ]
     },
     "execution_count": 27,
     "metadata": {},
     "output_type": "execute_result"
    }
   ],
   "source": [
    "get_retention(get_crosstab(df_users, 'sales'))"
   ]
  },
  {
   "cell_type": "markdown",
   "metadata": {},
   "source": [
    "### Transaction retention"
   ]
  },
  {
   "cell_type": "code",
   "execution_count": 28,
   "metadata": {},
   "outputs": [
    {
     "data": {
      "text/html": [
       "<div>\n",
       "<style scoped>\n",
       "    .dataframe tbody tr th:only-of-type {\n",
       "        vertical-align: middle;\n",
       "    }\n",
       "\n",
       "    .dataframe tbody tr th {\n",
       "        vertical-align: top;\n",
       "    }\n",
       "\n",
       "    .dataframe thead th {\n",
       "        text-align: right;\n",
       "    }\n",
       "</style>\n",
       "<table border=\"1\" class=\"dataframe\">\n",
       "  <thead>\n",
       "    <tr style=\"text-align: right;\">\n",
       "      <th></th>\n",
       "      <th>Cohort</th>\n",
       "      <th>Base</th>\n",
       "      <th>2014</th>\n",
       "      <th>2015</th>\n",
       "      <th>2016</th>\n",
       "      <th>2017</th>\n",
       "    </tr>\n",
       "  </thead>\n",
       "  <tbody>\n",
       "    <tr>\n",
       "      <th>0</th>\n",
       "      <td>2014</td>\n",
       "      <td>969.0</td>\n",
       "      <td>1.0</td>\n",
       "      <td>0.833</td>\n",
       "      <td>1.028</td>\n",
       "      <td>1.288</td>\n",
       "    </tr>\n",
       "    <tr>\n",
       "      <th>1</th>\n",
       "      <td>2015</td>\n",
       "      <td>231.0</td>\n",
       "      <td>NaN</td>\n",
       "      <td>1.000</td>\n",
       "      <td>0.931</td>\n",
       "      <td>1.268</td>\n",
       "    </tr>\n",
       "    <tr>\n",
       "      <th>2</th>\n",
       "      <td>2016</td>\n",
       "      <td>104.0</td>\n",
       "      <td>NaN</td>\n",
       "      <td>NaN</td>\n",
       "      <td>1.000</td>\n",
       "      <td>1.221</td>\n",
       "    </tr>\n",
       "    <tr>\n",
       "      <th>3</th>\n",
       "      <td>2017</td>\n",
       "      <td>19.0</td>\n",
       "      <td>NaN</td>\n",
       "      <td>NaN</td>\n",
       "      <td>NaN</td>\n",
       "      <td>1.000</td>\n",
       "    </tr>\n",
       "  </tbody>\n",
       "</table>\n",
       "</div>"
      ],
      "text/plain": [
       "  Cohort   Base  2014   2015   2016   2017\n",
       "0   2014  969.0   1.0  0.833  1.028  1.288\n",
       "1   2015  231.0   NaN  1.000  0.931  1.268\n",
       "2   2016  104.0   NaN    NaN  1.000  1.221\n",
       "3   2017   19.0   NaN    NaN    NaN  1.000"
      ]
     },
     "execution_count": 28,
     "metadata": {},
     "output_type": "execute_result"
    }
   ],
   "source": [
    "get_retention(get_crosstab(df_users, 'id'))"
   ]
  },
  {
   "cell_type": "markdown",
   "metadata": {},
   "source": [
    "### Sales retention by segment"
   ]
  },
  {
   "cell_type": "code",
   "execution_count": 72,
   "metadata": {},
   "outputs": [
    {
     "name": "stdout",
     "output_type": "stream",
     "text": [
      "\n",
      "Segment: Consumer\n",
      "  Cohort         Base  2014   2015   2016   2017\n",
      "0   2014  266096.8126   1.0  0.789  0.818  0.906\n",
      "1   2015   56590.8551   NaN  1.000  0.832  0.817\n",
      "2   2016   32119.4550   NaN    NaN  1.000  1.229\n",
      "3   2017    4985.0760   NaN    NaN    NaN  1.000\n",
      "\n",
      "Segment: Home Office\n",
      "  Cohort        Base  2014   2015   2016   2017\n",
      "0   2014  89715.8118   1.0  0.616  0.874  1.296\n",
      "1   2015  19942.1216   NaN  1.000  1.120  1.475\n",
      "2   2016   4483.5420   NaN    NaN  1.000  2.905\n",
      "3   2017    729.6480   NaN    NaN    NaN  1.000\n",
      "\n",
      "Segment: Corporate\n",
      "  Cohort         Base  2014   2015   2016   2017\n",
      "0   2014  128434.8737   1.0  0.778  1.237  1.367\n",
      "1   2015   28855.5195   NaN  1.000  1.043  1.944\n",
      "2   2016   18200.6230   NaN    NaN  1.000  0.462\n",
      "3   2017    1797.0810   NaN    NaN    NaN  1.000\n"
     ]
    }
   ],
   "source": [
    "for segment in df_users.segment.unique():\n",
    "    print(f'\\nSegment: {segment}')\n",
    "    print(get_retention(get_crosstab(df_users[df_users.segment==segment], 'sales')))"
   ]
  },
  {
   "cell_type": "markdown",
   "metadata": {},
   "source": [
    "### Sales retention by ship_mode"
   ]
  },
  {
   "cell_type": "code",
   "execution_count": 73,
   "metadata": {},
   "outputs": [
    {
     "name": "stdout",
     "output_type": "stream",
     "text": [
      "\n",
      "Ship_mode: Standard\n",
      "  Cohort         Base  2014   2015   2016   2017\n",
      "0   2014  305621.3196   1.0  0.716  0.921  0.935\n",
      "1   2015   65723.8550   NaN  1.000  0.791  1.142\n",
      "2   2016   38855.4240   NaN    NaN  1.000  0.752\n",
      "3   2017    5644.8960   NaN    NaN    NaN  1.000\n",
      "\n",
      "Ship_mode: First\n",
      "  Cohort        Base  2014   2015   2016   2017\n",
      "0   2014  59769.2645   1.0  0.997  1.010  1.590\n",
      "1   2015   9644.0606   NaN  1.000  1.632  2.143\n",
      "2   2016   6153.2850   NaN    NaN  1.000  3.814\n",
      "3   2017    955.7840   NaN    NaN    NaN  1.000\n",
      "\n",
      "Ship_mode: Second\n",
      "  Cohort         Base  2014   2015   2016   2017\n",
      "0   2014  101386.7800   1.0  0.642  0.811  1.105\n",
      "1   2015   23970.2056   NaN  1.000  1.180  1.216\n",
      "2   2016    9537.8710   NaN    NaN  1.000  0.697\n",
      "3   2017     911.1250   NaN    NaN    NaN  1.000\n",
      "\n",
      "Ship_mode: Same Day\n",
      "  Cohort       Base  2014   2015   2016   2017\n",
      "0   2014  17470.134   1.0  1.234  1.759  2.308\n",
      "1   2015   6050.375   NaN  1.000  0.581  1.136\n",
      "2   2016    257.040   NaN    NaN  1.000  6.163\n"
     ]
    }
   ],
   "source": [
    "for ship_mode in df_users.ship_mode.unique():\n",
    "    print(f'\\nShip_mode: {ship_mode}')\n",
    "    print(get_retention(get_crosstab(df_users[df_users.ship_mode==ship_mode], 'sales')))"
   ]
  },
  {
   "cell_type": "markdown",
   "metadata": {},
   "source": [
    "### Transaction retention by segment"
   ]
  },
  {
   "cell_type": "code",
   "execution_count": 74,
   "metadata": {},
   "outputs": [
    {
     "name": "stdout",
     "output_type": "stream",
     "text": [
      "\n",
      "Segment: Consumer\n",
      "  Cohort   Base  2014   2015   2016   2017\n",
      "0   2014  524.0   1.0  0.817  0.954  1.265\n",
      "1   2015  107.0   NaN  1.000  0.869  1.215\n",
      "2   2016   58.0   NaN    NaN  1.000  1.207\n",
      "3   2017   13.0   NaN    NaN    NaN  1.000\n",
      "\n",
      "Segment: Home Office\n",
      "  Cohort   Base  2014   2015   2016   2017\n",
      "0   2014  158.0   1.0  0.899  1.095  1.405\n",
      "1   2015   49.0   NaN  1.000  1.122  1.429\n",
      "2   2016   14.0   NaN    NaN  1.000  1.786\n",
      "3   2017    1.0   NaN    NaN    NaN  1.000\n",
      "\n",
      "Segment: Corporate\n",
      "  Cohort   Base  2014   2015   2016   2017\n",
      "0   2014  287.0   1.0  0.826  1.125  1.265\n",
      "1   2015   75.0   NaN  1.000  0.893  1.240\n",
      "2   2016   32.0   NaN    NaN  1.000  1.000\n",
      "3   2017    5.0   NaN    NaN    NaN  1.000\n"
     ]
    }
   ],
   "source": [
    "for segment in df_users.segment.unique():\n",
    "    print(f'\\nSegment: {segment}')\n",
    "    print(get_retention(get_crosstab(df_users[df_users.segment==segment], 'id')))"
   ]
  },
  {
   "cell_type": "markdown",
   "metadata": {},
   "source": [
    "### Transaction retention by ship_mode"
   ]
  },
  {
   "cell_type": "code",
   "execution_count": 75,
   "metadata": {},
   "outputs": [
    {
     "name": "stdout",
     "output_type": "stream",
     "text": [
      "\n",
      "Ship_mode: Standard\n",
      "  Cohort   Base  2014   2015   2016   2017\n",
      "0   2014  586.0   1.0  0.845  1.002  1.229\n",
      "1   2015  141.0   NaN  1.000  0.943  1.284\n",
      "2   2016   62.0   NaN    NaN  1.000  1.242\n",
      "3   2017   12.0   NaN    NaN    NaN  1.000\n",
      "\n",
      "Ship_mode: First\n",
      "  Cohort   Base  2014   2015   2016   2017\n",
      "0   2014  145.0   1.0  0.772  1.103  1.448\n",
      "1   2015   31.0   NaN  1.000  1.194  1.516\n",
      "2   2016   18.0   NaN    NaN  1.000  1.278\n",
      "3   2017    4.0   NaN    NaN    NaN  1.000\n",
      "\n",
      "Ship_mode: Second\n",
      "  Cohort   Base  2014   2015   2016   2017\n",
      "0   2014  190.0   1.0  0.826  0.995  1.311\n",
      "1   2015   49.0   NaN  1.000  0.673  1.020\n",
      "2   2016   22.0   NaN    NaN  1.000  1.000\n",
      "3   2017    3.0   NaN    NaN    NaN  1.000\n",
      "\n",
      "Ship_mode: Same Day\n",
      "  Cohort  Base  2014   2015  2016   2017\n",
      "0   2014  48.0   1.0  0.896  1.25  1.438\n",
      "1   2015  10.0   NaN  1.000  1.20  1.500\n",
      "2   2016   2.0   NaN    NaN  1.00  2.500\n"
     ]
    }
   ],
   "source": [
    "for ship_mode in df_users.ship_mode.unique():\n",
    "    print(f'\\nShip_mode: {ship_mode}')\n",
    "    print(get_retention(get_crosstab(df_users[df_users.ship_mode==ship_mode], 'id')))"
   ]
  },
  {
   "cell_type": "markdown",
   "metadata": {},
   "source": [
    "## Ответ\n",
    "#### 1. Тотально sales и transaction ретеншены 2016 лучше 2015\n",
    "#### 2. Но есть слабые когорты, где хуже: \n",
    "#### - Для sales-retention это:\n",
    "    - Segment: Consumer, first order=2015\n",
    "    - Ship_mode: Standard, first order=2015\n",
    "#### - Для transaction-retention это:\n",
    "    - Segment: Consumer, first order=2015\n",
    "    - Segment: Corporate, first order=2015\n",
    "    - Ship_mode: Standard, first order=2015\n",
    "    - Ship_mode: Second, first order=2015\n"
   ]
  }
 ],
 "metadata": {
  "kernelspec": {
   "display_name": "Python 3 (ipykernel)",
   "language": "python",
   "name": "python3"
  },
  "language_info": {
   "codemirror_mode": {
    "name": "ipython",
    "version": 3
   },
   "file_extension": ".py",
   "mimetype": "text/x-python",
   "name": "python",
   "nbconvert_exporter": "python",
   "pygments_lexer": "ipython3",
   "version": "3.9.13"
  }
 },
 "nbformat": 4,
 "nbformat_minor": 4
}
