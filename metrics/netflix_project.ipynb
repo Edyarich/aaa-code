{
 "cells": [
  {
   "cell_type": "code",
   "execution_count": 1,
   "metadata": {},
   "outputs": [],
   "source": [
    "import pandas as pd\n",
    "import numpy as np\n",
    "import matplotlib.pyplot as plt\n",
    "import seaborn as sns\n",
    "\n",
    "sns.set(font_scale=1.2, palette='RdBu')\n",
    "\n",
    "plt.rcParams['font.family'] = 'DejaVu Serif'\n",
    "plt.rcParams['lines.linewidth'] = 2\n",
    "plt.rcParams['lines.markersize'] = 12\n",
    "plt.rcParams['xtick.labelsize'] = 24\n",
    "plt.rcParams['ytick.labelsize'] = 24\n",
    "plt.rcParams['legend.fontsize'] = 24\n",
    "plt.rcParams['axes.titlesize'] = 30\n",
    "plt.rcParams['axes.labelsize'] = 24\n",
    "plt.rcParams[\"figure.figsize\"] = (14, 8)"
   ]
  },
  {
   "cell_type": "code",
   "execution_count": 2,
   "metadata": {},
   "outputs": [],
   "source": [
    "d = {\n",
    "    'Revenue': [7_868_000_000, 7_970_141_000, 7_925_589_000, 7_852_053_000],\n",
    "    'Churn_rate': [3.3, 4.5, 2.9, 2.4],\n",
    "    'Avg_Paid_Memberships': [221_640_000, 220_672_000, 221_879_000, 229_000_000],\n",
    "    'Lifetime': [30.3, 22, 34, 41],\n",
    "    'ARPU': [8.67, 11.94, 11.9, 11.38],\n",
    "    'LTV': [262.701, 262.68, 404.6, 466.58],\n",
    "    'New_memberships': [4_892_550, 6_345_153, 8_489_176, 13_555_491],\n",
    "    'Spend_on_marketing': [555_978_000, 574_960_000, 567_954_000, 831_610_000],\n",
    "    'CAC': [113.64, 90.6, 66.9, 61.35],\n",
    "    'ROI': [1.31, 1.9, 6.04, 6.6],\n",
    "    'Quarters 2022': ['Q1', 'Q2', 'Q3', 'Q4']\n",
    "}"
   ]
  },
  {
   "cell_type": "code",
   "execution_count": 3,
   "metadata": {},
   "outputs": [],
   "source": [
    "df = pd.DataFrame(d)"
   ]
  },
  {
   "cell_type": "code",
   "execution_count": 4,
   "metadata": {},
   "outputs": [
    {
     "data": {
      "text/html": [
       "<div>\n",
       "<style scoped>\n",
       "    .dataframe tbody tr th:only-of-type {\n",
       "        vertical-align: middle;\n",
       "    }\n",
       "\n",
       "    .dataframe tbody tr th {\n",
       "        vertical-align: top;\n",
       "    }\n",
       "\n",
       "    .dataframe thead th {\n",
       "        text-align: right;\n",
       "    }\n",
       "</style>\n",
       "<table border=\"1\" class=\"dataframe\">\n",
       "  <thead>\n",
       "    <tr style=\"text-align: right;\">\n",
       "      <th></th>\n",
       "      <th>Revenue</th>\n",
       "      <th>Churn_rate</th>\n",
       "      <th>Avg_Paid_Memberships</th>\n",
       "      <th>Lifetime</th>\n",
       "      <th>ARPU</th>\n",
       "      <th>LTV</th>\n",
       "      <th>New_memberships</th>\n",
       "      <th>Spend_on_marketing</th>\n",
       "      <th>CAC</th>\n",
       "      <th>ROI</th>\n",
       "      <th>Quarters 2022</th>\n",
       "    </tr>\n",
       "  </thead>\n",
       "  <tbody>\n",
       "    <tr>\n",
       "      <th>0</th>\n",
       "      <td>7868000000</td>\n",
       "      <td>3.3</td>\n",
       "      <td>221640000</td>\n",
       "      <td>30.3</td>\n",
       "      <td>8.67</td>\n",
       "      <td>262.701</td>\n",
       "      <td>4892550</td>\n",
       "      <td>555978000</td>\n",
       "      <td>113.64</td>\n",
       "      <td>1.31</td>\n",
       "      <td>Q1</td>\n",
       "    </tr>\n",
       "    <tr>\n",
       "      <th>1</th>\n",
       "      <td>7970141000</td>\n",
       "      <td>4.5</td>\n",
       "      <td>220672000</td>\n",
       "      <td>22.0</td>\n",
       "      <td>11.94</td>\n",
       "      <td>262.680</td>\n",
       "      <td>6345153</td>\n",
       "      <td>574960000</td>\n",
       "      <td>90.60</td>\n",
       "      <td>1.90</td>\n",
       "      <td>Q2</td>\n",
       "    </tr>\n",
       "    <tr>\n",
       "      <th>2</th>\n",
       "      <td>7925589000</td>\n",
       "      <td>2.9</td>\n",
       "      <td>221879000</td>\n",
       "      <td>34.0</td>\n",
       "      <td>11.90</td>\n",
       "      <td>404.600</td>\n",
       "      <td>8489176</td>\n",
       "      <td>567954000</td>\n",
       "      <td>66.90</td>\n",
       "      <td>6.04</td>\n",
       "      <td>Q3</td>\n",
       "    </tr>\n",
       "    <tr>\n",
       "      <th>3</th>\n",
       "      <td>7852053000</td>\n",
       "      <td>2.4</td>\n",
       "      <td>229000000</td>\n",
       "      <td>41.0</td>\n",
       "      <td>11.38</td>\n",
       "      <td>466.580</td>\n",
       "      <td>13555491</td>\n",
       "      <td>831610000</td>\n",
       "      <td>61.35</td>\n",
       "      <td>6.60</td>\n",
       "      <td>Q4</td>\n",
       "    </tr>\n",
       "  </tbody>\n",
       "</table>\n",
       "</div>"
      ],
      "text/plain": [
       "      Revenue  Churn_rate  Avg_Paid_Memberships  Lifetime   ARPU      LTV  \\\n",
       "0  7868000000         3.3             221640000      30.3   8.67  262.701   \n",
       "1  7970141000         4.5             220672000      22.0  11.94  262.680   \n",
       "2  7925589000         2.9             221879000      34.0  11.90  404.600   \n",
       "3  7852053000         2.4             229000000      41.0  11.38  466.580   \n",
       "\n",
       "   New_memberships  Spend_on_marketing     CAC   ROI Quarters 2022  \n",
       "0          4892550           555978000  113.64  1.31            Q1  \n",
       "1          6345153           574960000   90.60  1.90            Q2  \n",
       "2          8489176           567954000   66.90  6.04            Q3  \n",
       "3         13555491           831610000   61.35  6.60            Q4  "
      ]
     },
     "execution_count": 4,
     "metadata": {},
     "output_type": "execute_result"
    }
   ],
   "source": [
    "df"
   ]
  },
  {
   "cell_type": "code",
   "execution_count": 5,
   "metadata": {},
   "outputs": [
    {
     "data": {
      "text/html": [
       "<div>\n",
       "<style scoped>\n",
       "    .dataframe tbody tr th:only-of-type {\n",
       "        vertical-align: middle;\n",
       "    }\n",
       "\n",
       "    .dataframe tbody tr th {\n",
       "        vertical-align: top;\n",
       "    }\n",
       "\n",
       "    .dataframe thead th {\n",
       "        text-align: right;\n",
       "    }\n",
       "</style>\n",
       "<table border=\"1\" class=\"dataframe\">\n",
       "  <thead>\n",
       "    <tr style=\"text-align: right;\">\n",
       "      <th></th>\n",
       "      <th>Revenue</th>\n",
       "      <th>Churn_rate</th>\n",
       "      <th>Avg_Paid_Memberships</th>\n",
       "      <th>Lifetime</th>\n",
       "      <th>ARPU</th>\n",
       "      <th>LTV</th>\n",
       "      <th>New_memberships</th>\n",
       "      <th>Spend_on_marketing</th>\n",
       "      <th>CAC</th>\n",
       "      <th>ROI</th>\n",
       "    </tr>\n",
       "    <tr>\n",
       "      <th>Quarters 2022</th>\n",
       "      <th></th>\n",
       "      <th></th>\n",
       "      <th></th>\n",
       "      <th></th>\n",
       "      <th></th>\n",
       "      <th></th>\n",
       "      <th></th>\n",
       "      <th></th>\n",
       "      <th></th>\n",
       "      <th></th>\n",
       "    </tr>\n",
       "  </thead>\n",
       "  <tbody>\n",
       "    <tr>\n",
       "      <th>Q1</th>\n",
       "      <td>7868000000</td>\n",
       "      <td>3.3</td>\n",
       "      <td>221640000</td>\n",
       "      <td>30.3</td>\n",
       "      <td>8.67</td>\n",
       "      <td>262.701</td>\n",
       "      <td>4892550</td>\n",
       "      <td>555978000</td>\n",
       "      <td>113.64</td>\n",
       "      <td>1.31</td>\n",
       "    </tr>\n",
       "    <tr>\n",
       "      <th>Q2</th>\n",
       "      <td>7970141000</td>\n",
       "      <td>4.5</td>\n",
       "      <td>220672000</td>\n",
       "      <td>22.0</td>\n",
       "      <td>11.94</td>\n",
       "      <td>262.680</td>\n",
       "      <td>6345153</td>\n",
       "      <td>574960000</td>\n",
       "      <td>90.60</td>\n",
       "      <td>1.90</td>\n",
       "    </tr>\n",
       "    <tr>\n",
       "      <th>Q3</th>\n",
       "      <td>7925589000</td>\n",
       "      <td>2.9</td>\n",
       "      <td>221879000</td>\n",
       "      <td>34.0</td>\n",
       "      <td>11.90</td>\n",
       "      <td>404.600</td>\n",
       "      <td>8489176</td>\n",
       "      <td>567954000</td>\n",
       "      <td>66.90</td>\n",
       "      <td>6.04</td>\n",
       "    </tr>\n",
       "    <tr>\n",
       "      <th>Q4</th>\n",
       "      <td>7852053000</td>\n",
       "      <td>2.4</td>\n",
       "      <td>229000000</td>\n",
       "      <td>41.0</td>\n",
       "      <td>11.38</td>\n",
       "      <td>466.580</td>\n",
       "      <td>13555491</td>\n",
       "      <td>831610000</td>\n",
       "      <td>61.35</td>\n",
       "      <td>6.60</td>\n",
       "    </tr>\n",
       "  </tbody>\n",
       "</table>\n",
       "</div>"
      ],
      "text/plain": [
       "                  Revenue  Churn_rate  Avg_Paid_Memberships  Lifetime   ARPU  \\\n",
       "Quarters 2022                                                                  \n",
       "Q1             7868000000         3.3             221640000      30.3   8.67   \n",
       "Q2             7970141000         4.5             220672000      22.0  11.94   \n",
       "Q3             7925589000         2.9             221879000      34.0  11.90   \n",
       "Q4             7852053000         2.4             229000000      41.0  11.38   \n",
       "\n",
       "                   LTV  New_memberships  Spend_on_marketing     CAC   ROI  \n",
       "Quarters 2022                                                              \n",
       "Q1             262.701          4892550           555978000  113.64  1.31  \n",
       "Q2             262.680          6345153           574960000   90.60  1.90  \n",
       "Q3             404.600          8489176           567954000   66.90  6.04  \n",
       "Q4             466.580         13555491           831610000   61.35  6.60  "
      ]
     },
     "execution_count": 5,
     "metadata": {},
     "output_type": "execute_result"
    }
   ],
   "source": [
    "df.set_index('Quarters 2022')"
   ]
  },
  {
   "cell_type": "code",
   "execution_count": 8,
   "metadata": {},
   "outputs": [
    {
     "data": {
      "image/png": "[encoded data removed]",
      "text/plain": [
       "<Figure size 1008x576 with 1 Axes>"
      ]
     },
     "metadata": {},
     "output_type": "display_data"
    }
   ],
   "source": [
    "paid_net_delta = [-0.2, -0.97, 2.41, 7.66]\n",
    "\n",
    "plt.bar(range(4), paid_net_delta)\n",
    "plt.title('Paid Net Addition')\n",
    "plt.xticks(range(4), ['Q1', 'Q2', 'Q3', 'Q4'])\n",
    "plt.ylabel('millions')\n",
    "plt.show()"
   ]
  },
  {
   "cell_type": "code",
   "execution_count": 9,
   "metadata": {},
   "outputs": [
    {
     "data": {
      "image/png": "[encoded data removed]",
      "text/plain": [
       "<Figure size 1008x576 with 1 Axes>"
      ]
     },
     "metadata": {},
     "output_type": "display_data"
    }
   ],
   "source": [
    "paid_net_total = [221.64, 220.67, 223.09, 230.73]\n",
    "\n",
    "plt.bar(range(4), paid_net_total)\n",
    "plt.title('Paid Memberships')\n",
    "plt.xticks(range(4), ['Q1', 'Q2', 'Q3', 'Q4'])\n",
    "plt.ylabel('millions')\n",
    "plt.show()"
   ]
  }
 ],
 "metadata": {
  "kernelspec": {
   "display_name": "Python 3 (ipykernel)",
   "language": "python",
   "name": "python3"
  },
  "language_info": {
   "codemirror_mode": {
    "name": "ipython",
    "version": 3
   },
   "file_extension": ".py",
   "mimetype": "text/x-python",
   "name": "python",
   "nbconvert_exporter": "python",
   "pygments_lexer": "ipython3",
   "version": "3.9.13"
  }
 },
 "nbformat": 4,
 "nbformat_minor": 2
}
