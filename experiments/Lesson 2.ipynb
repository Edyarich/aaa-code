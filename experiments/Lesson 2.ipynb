{
 "cells": [
  {
   "cell_type": "code",
   "execution_count": 24,
   "metadata": {},
   "outputs": [],
   "source": [
    "import numpy as np\n",
    "import seaborn as sns; sns.set()\n",
    "import matplotlib.pyplot as plt\n",
    "import pandas as pd\n",
    "import random\n",
    "from itertools import combinations\n",
    "import hashlib\n",
    "from scipy import stats"
   ]
  },
  {
   "cell_type": "code",
   "execution_count": 25,
   "metadata": {},
   "outputs": [],
   "source": [
    "def test_test(test_function, array_function1, array_function2): \n",
    "    tmp_array = []\n",
    "    for i in range(1000):\n",
    "        x1 = array_function1() #функции, которые получаем в выборке для тестирования критериев\n",
    "        x2 = array_function2()\n",
    "        tmp_array.append(test_function(x1,x2))\n",
    "    return np.array(tmp_array)"
   ]
  },
  {
   "cell_type": "code",
   "execution_count": 29,
   "metadata": {},
   "outputs": [],
   "source": [
    "def normal_smp(): \n",
    "    return np.random.normal(100,10,1000)\n",
    "\n",
    "def normal_smp1(): \n",
    "    return np.random.normal(100,10,1000)\n",
    "\n",
    "def ttest(x1,x2): \n",
    "    return stats.ttest_ind(x1,x2)[1]"
   ]
  },
  {
   "cell_type": "code",
   "execution_count": 30,
   "metadata": {},
   "outputs": [],
   "source": [
    "p_vaule_array = test_test(ttest,normal_smp,normal_smp1)"
   ]
  },
  {
   "cell_type": "code",
   "execution_count": 31,
   "metadata": {},
   "outputs": [
    {
     "data": {
      "text/plain": [
       "<matplotlib.axes._subplots.AxesSubplot at 0x7fb5f06123d0>"
      ]
     },
     "execution_count": 31,
     "metadata": {},
     "output_type": "execute_result"
    },
    {
     "data": {
      "image/png": "[encoded data removed]",
      "text/plain": [
       "<Figure size 432x288 with 1 Axes>"
      ]
     },
     "metadata": {},
     "output_type": "display_data"
    }
   ],
   "source": [
    "sns.distplot(p_vaule_array, bins=10,hist=True, kde=False,axlabel='p-value') #распределение t-теста"
   ]
  },
  {
   "cell_type": "code",
   "execution_count": 32,
   "metadata": {},
   "outputs": [
    {
     "data": {
      "text/plain": [
       "BinomTestResult(k=41, n=1000, alternative='two-sided', proportion_estimate=0.041, pvalue=0.2168576924970875)"
      ]
     },
     "execution_count": 32,
     "metadata": {},
     "output_type": "execute_result"
    }
   ],
   "source": [
    "stats.binomtest(p_vaule_array[p_vaule_array<0.05].shape[0], n=1000, p=0.05, alternative='two-sided')"
   ]
  },
  {
   "cell_type": "code",
   "execution_count": null,
   "metadata": {},
   "outputs": [],
   "source": []
  },
  {
   "cell_type": "code",
   "execution_count": null,
   "metadata": {},
   "outputs": [],
   "source": []
  },
  {
   "cell_type": "code",
   "execution_count": 3,
   "metadata": {},
   "outputs": [],
   "source": [
    "df = pd.read_csv('2_conversion.csv') # загружаем данные\n",
    "def date_converter(x):\n",
    "    return datetime.datetime.strptime(x,'%Y-%m-%d')\n",
    "df['event_date']=df.event_date.apply(date_converter) #приводим дату к нужному формату"
   ]
  },
  {
   "cell_type": "code",
   "execution_count": 4,
   "metadata": {},
   "outputs": [],
   "source": [
    "def choose_date(data, start_date, delta, share): \n",
    "    tmp = data[(data.event_date>=start_date)&(data.event_date<=start_date+datetime.timedelta(days=delta))]\n",
    "    tmp=tmp.groupby(['cookie_id']).sum().reset_index()\n",
    "    x = tmp[(tmp.cookie_id)%100<=int(100*share)].reset_index()\n",
    "    return x"
   ]
  },
  {
   "cell_type": "code",
   "execution_count": 18,
   "metadata": {},
   "outputs": [],
   "source": [
    "x1 =choose_date(df, datetime.datetime(2020, 11, 21, 0, 0),15,0.1) #получаем необходимую подвыборку\n",
    "\n",
    "from statsmodels.stats.power import tt_ind_solve_power\n",
    " \n",
    "mean = x1.item_views.mean()\n",
    "std = x1.item_views.std()\n",
    " \n",
    "alpha = 0.01\n",
    "power = 0.8\n",
    "result_effect = 0.04 # целевой размер относительного отклоенения исходной метрики\n",
    "effect_size = (mean /std) * result_effect\n",
    " "
   ]
  }
 ],
 "metadata": {
  "kernelspec": {
   "display_name": "Python 3",
   "language": "python",
   "name": "python3"
  },
  "language_info": {
   "codemirror_mode": {
    "name": "ipython",
    "version": 3
   },
   "file_extension": ".py",
   "mimetype": "text/x-python",
   "name": "python",
   "nbconvert_exporter": "python",
   "pygments_lexer": "ipython3",
   "version": "3.8.3"
  }
 },
 "nbformat": 4,
 "nbformat_minor": 4
}
