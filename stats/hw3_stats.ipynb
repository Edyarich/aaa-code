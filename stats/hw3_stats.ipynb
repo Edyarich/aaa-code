{
 "cells": [
  {
   "cell_type": "markdown",
   "metadata": {
    "id": "AIMdeu-Nb5RI"
   },
   "source": [
    "# Прикладная статистика. ДЗ 3.\n",
    "# Академия Аналитиков Авито\n",
    "\n",
    "\n",
    "__Правила:__\n",
    "- Жесткий дедлайн: **2022-02-27 17:59:59**. \n",
    "- Ответ и обсуждение решения — в телеграме.\n",
    "\n",
    "- Выполненную работу нужно отправить\n",
    "    - в чатик HW3-<ваше имя> через бота @AAA_stats23_bot\n",
    "- В качестве решения нужно отправить файл ipynb. Ссылка на интернет-ресурсы не принимается. Не публикуйте решения в открытом доступе!\n",
    "- Для выполнения задания используйте этот ноутбук в качествие основы, ничего не удаляя из него. **При этом можно добавлять новые ячейки!**\n",
    "- в ячейках с комменарием `#Автопроверка` нужно заполнить содержимое функций и классов (если есть), которые будут уже объявлены в этой ячейке. При этом:\n",
    "    - Нельзя убрирать или переставять `#Автопроверка` в ячейке. \n",
    "    - Нельзя менять сигнатуру и возвращаемое значение функций. То есть добавлять любой код можно, но удалять, что уже написано - нельзя.\n",
    "    - Нельзя ничего импортировать в таких ячейках. Все доступные для использования библиотеки будут указаны заранее. Такие слова, как `import`, `globals`, `locals`, `eval`, `exec` также нельзя использовать внутри ячеек.\n",
    "    - Нельзя использовать библиотеки, кроме тех, что указаны в задании. Ваш код должен работать именно с эти набором библиотек без любого дополнительного импорта!\n",
    "    - Нельзя использовать код из других ячеек ноутбука (кроме ячейки с импортом, в которой указаны все доступные библиотеки). Единственное исключение - если вы проставите в начало такой ячейки слово `#Автопроверка`. Тогда вы можете использовать код из этой ячейки.\n",
    "    - В случае нарушения этого правила автопроверка будет провалена и вы не получите часть баллов за задачу. \n",
    "    - В случае, если есть несколько ячеек автопроверки, то в каждой такой ячейке можно использовать созданные вами функции (или классы) из других ячеек автопроверки."
   ]
  },
  {
   "cell_type": "markdown",
   "metadata": {
    "id": "LhTUcigUcdMP"
   },
   "source": [
    "## Задача 1 (2 балла)\n",
    "\n",
    "### На зачет\n",
    "\n",
    "Мы проводили промо-акцию два раза.\n",
    "\n",
    "- В первый раз мы отправили 38 писем, из них 26 получателей перешли по ссылке.\n",
    "\n",
    "- Во второй раз мы отправили уже 98 писем, и из получателей по ссылке перешли 42.\n",
    "\n",
    "С помощью критерия хи-квадрат определить, насколько значимо изменение CTR между акциями. Можем ли мы делать вывод о том, что информирование во второй промо-акции хуже, чем информирование в первой? Почему?"
   ]
  },
  {
   "cell_type": "code",
   "execution_count": 1,
   "metadata": {
    "id": "b5i8hr9_bykQ"
   },
   "outputs": [],
   "source": [
    "import numpy as np\n",
    "from scipy.stats import chi2, chi2_contingency"
   ]
  },
  {
   "cell_type": "markdown",
   "metadata": {},
   "source": [
    "**Применение критерия хи-квадрат для проверки гипотезы однородности выборок промо-акций**"
   ]
  },
  {
   "cell_type": "code",
   "execution_count": 2,
   "metadata": {},
   "outputs": [
    {
     "name": "stdout",
     "output_type": "stream",
     "text": [
      "count_table=array([[26, 12],\n",
      "       [42, 56]])\n",
      "pvalue=0.012979820360836461\n"
     ]
    }
   ],
   "source": [
    "count_table = np.array([[26, 38-26], [42, 98-42]])\n",
    "print(f'{count_table=}')\n",
    "\n",
    "_, pvalue, _, _ = chi2_contingency(count_table)\n",
    "print(f'{pvalue=}')"
   ]
  },
  {
   "cell_type": "markdown",
   "metadata": {},
   "source": [
    "**Вывод:** \n",
    "На уровне значимости 5% гипотеза однородности отвергается.  \n",
    "Однако по имеющимся данным нельзя сказать, что вторая промо-акция хуже, чем первая, так как нет информации о тех людях, которым рассылались письма.\n",
    "Возможно, 1ая группа людей более восприимчива к разного рода акциям, или у 2ой группы людей низкий заработок."
   ]
  },
  {
   "cell_type": "markdown",
   "metadata": {
    "id": "IpKAZ3Ync-Qw"
   },
   "source": [
    "## Задача 2 (4 балла)\n",
    "\n",
    "Реализовать критерий хи-квадрат для таблиц сопряженности $N \\cdot M$.\n",
    "\n",
    "- Условия применимости прверять не надо,  критерий будет проверяться на выборках больших размеров. "
   ]
  },
  {
   "cell_type": "markdown",
   "metadata": {
    "id": "PnVfrS2XdDIO"
   },
   "source": [
    "Какими библиотеками вы можете пользоваться:\n",
    "```\n",
    "import numpy as np\n",
    "from collections import namedtuple\n",
    "from scipy.stats import chi2\n",
    "```"
   ]
  },
  {
   "cell_type": "code",
   "execution_count": 5,
   "metadata": {
    "id": "WKLsvhTEdGdQ"
   },
   "outputs": [],
   "source": [
    "import numpy as np\n",
    "from collections import namedtuple\n",
    "from scipy.stats import chi2"
   ]
  },
  {
   "cell_type": "code",
   "execution_count": 6,
   "metadata": {
    "id": "DtrZr-m7dHhf"
   },
   "outputs": [],
   "source": [
    "#Автопроверка\n",
    "\n",
    "MyСhi2Results = namedtuple('MyСhi2Results', ['is_rejected', 'pvalue'])\n",
    "\n",
    "\n",
    "def my_chi2_for_contingency_tables(sample_A: list, sample_B: list, alpha: float = 0.05):\n",
    "    \"\"\"\n",
    "    Параметры:\n",
    "    - sample_A: первая выборка сэмплированных значений\n",
    "    - sample_B: вторая выборка, её значения -- номера выборок\n",
    "    - alpha: уровень значимости критерия.\n",
    "        \n",
    "    Возвращает:\n",
    "    - MyСhi2Results с полями:\n",
    "        - is_rejected: bool\n",
    "            - отверглась или нет гипотеза H_0 на уровне значимости alpha\n",
    "        - pvalue: float\n",
    "    \"\"\"\n",
    "    is_rejected = None\n",
    "    pvalue = None\n",
    "    total_size = len(sample_A)\n",
    "    \n",
    "    uniq_values = set(sample_A)\n",
    "    k_elements = len(uniq_values)\n",
    "    \n",
    "    uniq_samples = set(sample_B)\n",
    "    k_samples = len(uniq_samples)\n",
    "    \n",
    "    # Создание таблицы частотности\n",
    "    elem_to_id = dict(zip(uniq_values, range(len(uniq_values))))\n",
    "    sample_to_id = dict(zip(uniq_samples, range(len(uniq_samples))))\n",
    "    count_table = np.zeros((k_samples, k_elements), dtype=np.uint32)\n",
    "    \n",
    "    for elem, sample in zip(sample_A, sample_B):\n",
    "        elem_id = elem_to_id[elem]\n",
    "        sample_id = sample_to_id[sample]\n",
    "        \n",
    "        count_table[sample_id, elem_id] += 1\n",
    "    \n",
    "    # ОМП вероятности выпадения value_j\n",
    "    # probas.shape = (k_samples, k_elements)\n",
    "    # sample_sizes.shape = (k_samples, k_elements)\n",
    "    probas = count_table.sum(axis=0, keepdims=True) / total_size\n",
    "    sample_sizes = count_table.sum(axis=1, keepdims=True)\n",
    "    \n",
    "    probas = np.broadcast_to(probas, count_table.shape)\n",
    "    sample_sizes = np.broadcast_to(sample_sizes, count_table.shape)\n",
    "    \n",
    "    prob_times_sample_size = probas * sample_sizes\n",
    "    stat = np.sum(\n",
    "        np.square(count_table - prob_times_sample_size) / prob_times_sample_size\n",
    "    )\n",
    "    \n",
    "    dof = (k_elements - 1) * (k_samples - 1)\n",
    "    pvalue = 1 - chi2.cdf(stat, dof)\n",
    "    is_rejected = pvalue < alpha\n",
    "    \n",
    "    return MyСhi2Results(is_rejected, pvalue)"
   ]
  },
  {
   "cell_type": "markdown",
   "metadata": {},
   "source": [
    "**Тесты**"
   ]
  },
  {
   "cell_type": "code",
   "execution_count": 12,
   "metadata": {},
   "outputs": [
    {
     "name": "stdout",
     "output_type": "stream",
     "text": [
      "True\n",
      "True\n",
      "True\n"
     ]
    }
   ],
   "source": [
    "import scipy.stats as sps\n",
    "\n",
    "\n",
    "def get_count_table(sample_A: list, sample_B: list) -> np.ndarray:\n",
    "    total_size = len(sample_A)\n",
    "    \n",
    "    uniq_values = set(sample_A)\n",
    "    k_elements = len(uniq_values)\n",
    "    \n",
    "    uniq_samples = set(sample_B)\n",
    "    k_samples = len(uniq_samples)\n",
    "    \n",
    "    # Создание таблицы частотности\n",
    "    elem_to_id = dict(zip(uniq_values, range(len(uniq_values))))\n",
    "    sample_to_id = dict(zip(uniq_samples, range(len(uniq_samples))))\n",
    "    count_table = np.zeros((k_samples, k_elements), dtype=np.uint32)\n",
    "    \n",
    "    for elem, sample in zip(sample_A, sample_B):\n",
    "        elem_id = elem_to_id[elem]\n",
    "        sample_id = sample_to_id[sample]\n",
    "        \n",
    "        count_table[sample_id, elem_id] += 1\n",
    "        \n",
    "    return count_table\n",
    "\n",
    "\n",
    "def test_my_chi2_criterion(sample_1: list, sample_2: list):\n",
    "    count_table = get_count_table(sample_1, sample_2)\n",
    "\n",
    "    _, pvalue = my_chi2_for_contingency_tables(sample_1, sample_2)\n",
    "    _, true_pvalue, _, _ = chi2_contingency(count_table, correction=False)\n",
    "    \n",
    "    print(abs(pvalue - true_pvalue) < 1e-6)\n",
    "\n",
    "\n",
    "np.random.seed(1234)\n",
    "\n",
    "n = 1000\n",
    "\n",
    "sample_1 = np.random.randint(1, 6, n)\n",
    "sample_2 = np.random.randint(1, 4, n)\n",
    "test_my_chi2_criterion(sample_1.tolist(), sample_2.tolist())\n",
    "\n",
    "xk = np.arange(1, 6)\n",
    "pk = (0.15, 0.2, 0.3, 0.15, 0.2)\n",
    "custm = sps.rv_discrete(name='custm', values=(xk, pk))\n",
    "\n",
    "sample_3 = custm.rvs(size=n)\n",
    "sample_4 = np.zeros(n).tolist() + np.ones(n).tolist()\n",
    "sample_13 = sample_1.tolist() + sample_3.tolist()\n",
    "\n",
    "test_my_chi2_criterion(sample_3.tolist(), sample_2.tolist())\n",
    "test_my_chi2_criterion(sample_13, sample_4)"
   ]
  },
  {
   "cell_type": "markdown",
   "metadata": {
    "id": "qLL1HXUcdmbN"
   },
   "source": [
    "## Задача 3 (3 балла)\n",
    "\n",
    "### На зачет\n",
    "\n",
    "Компьютер периодически отправляет запросы на сервер. Иногда сервер бывает недоступен, поэтому компьютер с некоторым интервалом повторяет запросы до тех пор, пока сервер не ответит. Известно, что 52 запроса дошли с первой попытки, 31 &mdash; со второй, 3 &mdash;  с третьей, а для доставки еще 5 запросов потребовалось более 4  попыток. Верно ли, что сервер получает запросы с вероятностью 2/3?\n",
    "\n",
    "**Задачу нужно решить теоретически!**\n",
    "\n",
    "Можно воспользоваться лишь библиотекой `from scipy.stats import chi2`."
   ]
  },
  {
   "cell_type": "markdown",
   "metadata": {},
   "source": [
    "**Решение:**  \n",
    "Применим критерий хи-квадрат для проверки простой гипотезы о совпадении теоретического и эмпирического распределений, которые соответствуют строкам в этой таблице:\n",
    "\n",
    "<u> Напоминание:</u> $\\xi \\sim 1 + \\text{Poiss}(\\theta), \n",
    "\\quad P(\\xi = m) = \\dfrac{\\theta^{m-1} \\cdot \\exp(-\\theta)}{(m-1)!}$\n",
    "\n",
    "|  | 1 attempt | 2 attempts | 3 attempts | >= 4 attempts |\n",
    "|---|---|---|---|---|\n",
    "| Sampled | $\\dfrac{52}{91}$ | $\\dfrac{31}{91}$ | $\\dfrac{3}{91}$ | $\\dfrac{5}{91}$ |\n",
    "| $$1 + Poiss(2/3)$$ | $$\\exp(-2/3)$$ | $$\\dfrac{2}{3} \\cdot \\exp(-2/3)$$ | $$\\dfrac{2}{9} \\cdot \\exp(-2/3)$$ | $$1 - \\dfrac{17}{9} \\cdot \\exp(-2/3)$$ |\n",
    "\n",
    "Число степеней свободы = 4 - 1 = 3"
   ]
  },
  {
   "cell_type": "code",
   "execution_count": 111,
   "metadata": {
    "id": "8_VOLDWndp1m"
   },
   "outputs": [
    {
     "name": "stdout",
     "output_type": "stream",
     "text": [
      "pvalue=0.05289640738966783\n"
     ]
    }
   ],
   "source": [
    "from scipy.stats import chi2\n",
    "\n",
    "\n",
    "n = 52 + 31 + 3 + 5\n",
    "empirical_proba = np.array([52/n, 31/n, 3/n, 5/n])\n",
    "exp23 = np.exp(-2/3)\n",
    "theoretical_proba = np.array([exp23, 2/3*exp23, 2/9*exp23, 1 - 17/9*exp23])\n",
    "\n",
    "stat = n * np.sum(np.square(empirical_proba - theoretical_proba) / theoretical_proba)\n",
    "dof = 3\n",
    "pvalue = 1 - chi2.cdf(stat, dof)\n",
    "print(f'{pvalue=}')"
   ]
  },
  {
   "cell_type": "markdown",
   "metadata": {},
   "source": [
    "**Вывод:**\n",
    "\n",
    "На уровне значимости $\\alpha = 0.05$ гипотеза не отвергается"
   ]
  },
  {
   "cell_type": "markdown",
   "metadata": {
    "id": "9S-_7iU5dshW"
   },
   "source": [
    "## Задача 4 (4 балла)\n",
    "\n",
    "\n",
    "Компания по производству коромов для попугаев провела опрос среди 5000 владельцев попугаев о том, что предпочитают есть их питомцы. По результатам опроса оказалось, что 1010 птиц предпочитают глазированные сырки, 2200 &mdash; фрукты, 950 &mdash; семечки и крупы, а все остальные предпочитают колбасу. Компания сделала предположение, что вероятности предпочтения этих видов еды равны $\\theta, 2\\theta, \\theta, 1-4\\theta$, где $\\theta \\in (0, 1/4)$. Верно ли данное предположение?\n",
    "\n",
    "**Задачу нужно решить теоретически!**\n",
    "\n",
    "Можно воспользоваться лишь библиотекой `from scipy.stats import chisquare`.\n",
    "\n",
    "P.S. Задача появилась из рациона попугая составителя домашнего задания..."
   ]
  },
  {
   "cell_type": "markdown",
   "metadata": {
    "id": "2GFqj4RUds4v"
   },
   "source": [
    "**Решение:**\n",
    "\n",
    "Применим критерий хи-квадрат для проверки сложной гипотезы о попадании эмпирического распределения в заданный класс распределений\n",
    "\n",
    "$n = 5000$  \n",
    "$[n_1, n_2, n_3, n_4] = [1010, 2200, 950, 840]$  \n",
    "$\\bigl[ p_1(\\theta), p_2(\\theta), p_3(\\theta), p_4(\\theta) \\bigr] = \\bigl[ \\theta, 2 \\theta, \\theta, 1 - 4 \\theta \\bigr]$\n",
    "\n",
    "Статистика критерия имеет следующий вид:  \n",
    "$\\large\n",
    "\\widehat{\\chi} = \\sum\\limits_{i=1}^4 \\dfrac{(n_j - n p_j(\\hat{\\theta}))^2}{n p_j(\\hat{\\theta})}$,\n",
    "\n",
    "где $\\hat{\\theta}$ ~--- оценка максимального правдоподобия.  \n",
    "Она вычисляется след. образом: $\\normalsize \\underset{\\theta}{\\text{argmax}} \\sum\\limits_{i=1}^4 n_j \\ln{p_j(\\theta)}$\n",
    "\n",
    "Приравняв производную к нулю, получаем такое равенство:  \n",
    "\n",
    "$\\dfrac{1010}{\\theta} + \\dfrac{2200}{\\theta} + \\dfrac{950}{\\theta} - 4 \\dfrac{840}{1 - 4\\theta} = 0$\n",
    "\n",
    "$\\dfrac{4160}{\\theta} - \\dfrac{3360}{1 - 4\\theta} = 0$\n",
    "\n",
    "$4160 - (4160 \\cdot 4 + 3360) \\theta = 0$\n",
    "\n",
    "$\\theta = \\dfrac{4160}{20000} = 0.208$\n",
    "\n",
    "Проверим, что данная точка является максимумом функции правдоподобия"
   ]
  },
  {
   "cell_type": "code",
   "execution_count": 107,
   "metadata": {},
   "outputs": [
    {
     "data": {
      "image/png": "[encoded data removed]",
      "text/plain": [
       "<Figure size 432x288 with 1 Axes>"
      ]
     },
     "metadata": {
      "needs_background": "light"
     },
     "output_type": "display_data"
    }
   ],
   "source": [
    "import matplotlib.pyplot as plt\n",
    "\n",
    "\n",
    "def likelihood(theta: float) -> float:\n",
    "    return \\\n",
    "        1010*np.log(theta) + \\\n",
    "        2200*np.log(2*theta) + \\\n",
    "        950*np.log(theta) + \\\n",
    "        840*np.log(1-4*theta)\n",
    "\n",
    "ticks = np.linspace(0.001, 0.249, 500)\n",
    "values = list(map(likelihood, ticks))\n",
    "\n",
    "plt.title('Log Likelihood Curve')\n",
    "plt.plot(ticks, values)\n",
    "plt.xlabel('theta')\n",
    "plt.ylabel('log-likelihood')\n",
    "plt.grid(True)\n",
    "plt.show()"
   ]
  },
  {
   "cell_type": "markdown",
   "metadata": {},
   "source": [
    "Вычисляем статистику и применяем критерий"
   ]
  },
  {
   "cell_type": "code",
   "execution_count": 126,
   "metadata": {},
   "outputs": [
    {
     "name": "stdout",
     "output_type": "stream",
     "text": [
      "Theoretical = [1040. 2080. 1040.  840.]\n",
      "Empirical = [1010 2200  950  840]\n",
      "pvalue = 0.00041449007074133005\n"
     ]
    }
   ],
   "source": [
    "from scipy.stats import chisquare\n",
    "\n",
    "\n",
    "n = 5000\n",
    "sampled = np.array([1010, 2200, 950, 840])\n",
    "theta_mle = 0.208\n",
    "\n",
    "probas = np.array([theta_mle, 2*theta_mle, theta_mle, 1-4*theta_mle])\n",
    "_, pvalue = chisquare(sampled, probas*n, ddof=1)\n",
    "\n",
    "print(f'Theoretical = {probas*n}')\n",
    "print(f'Empirical = {sampled}')\n",
    "print(f'{pvalue = }')"
   ]
  },
  {
   "cell_type": "markdown",
   "metadata": {},
   "source": [
    "**Вывод:**  \n",
    "При любом разумном уровне значимости нулевая гипотеза отвергается"
   ]
  },
  {
   "cell_type": "markdown",
   "metadata": {
    "id": "jmDVIBYKdtQe"
   },
   "source": [
    "## Задача 5 (4 балла) \n",
    "\n",
    "Критерий назовается состоятельным, если его мощность сходится к 1 при $n \\rightarrow +\\infty$ при любом распределении, соответсвущем альтернативной гипотезе. Докажите сотсоятельность критериев согласия\n",
    "- A) (2 балла) Колмогорова и\n",
    "- B*) (2 балла) Хи-квадрат,\n",
    "\n",
    "проверяющих\n",
    "\n",
    "$$H_0: F = F_0$$\n",
    "\n",
    "Где F - функция распределения текущей выборки, $F_0$ - предполагаемая функция распределения.\n",
    "\n",
    "**Задачу нужно решить теоретически!**"
   ]
  },
  {
   "cell_type": "markdown",
   "metadata": {
    "id": "3aW4-eQeehfY"
   },
   "source": [
    "**Решение А:**  \n",
    "$\\normalsize F \\neq F_0 ==> \\exists x_0 \\; |F(x_0) - F_0(x_0)| = C > 0$\n",
    "\n",
    "$\\normalsize D_n = \\underset{x}{\\text{sup }} |F_n^*(x) - F_0(x)| \\geqslant |F_n^*(x_0) - F_0(x_0)| \\underset{n \\rightarrow +\\infty}{\\longrightarrow} |F(x_0) - F_0(x_0)| = C > 0$\n",
    "\n",
    "Значит, при $n > N \\quad \\sqrt{n}D_n \\geqslant \\sqrt{n} \\dfrac{C}{2} \\rightarrow +\\infty$, то есть $\\sqrt{n}D_n$ принимает сколь угодно большие значения\n",
    "\n",
    "Теперь вспомним, что критическое множество имеет такой вид: $\\bigl\\{ \\sqrt{n}D_n > K_{1-\\alpha} \\bigr\\}$\n",
    "\n",
    "Отсюда делаем вывод, что критерий состоятелен, поскольку почти наверное значение статистики попадает в критическое множество\n",
    "\n",
    "**Решение В:**  \n",
    "Обозначим за $\\widehat{p_j}$ частотную оценку вероятности, $p_j^0$ ~--- вероятности из нулевой гипотезы, $P(\\xi = a_j) = p_j$ ~--- истинные значения вероятностей\n",
    "\n",
    "Вспомним, как выглядит статистика этого критерия:  \n",
    "$\\normalsize X_n^2 = n \\sum\\limits_{j=1}^K \\dfrac{1}{p_j^0} (\\widehat{p_j} - p_j^0)^2$\n",
    "\n",
    "Если верна альтернатива и носители функций плотности равны (иначе нет смысла проверять гипотезу, разные носители ~--- разные распределения), то существует индекс $i$ такой, что $\\normalsize p_i^0 \\neq p_i \\text{ и } p_i^0 > 0$.\n",
    "\n",
    "Тогда по УЗБЧ и теореме о наследовании сходимости $\\normalsize (\\widehat{p_ш} - p_i^0)^2 \\underset{n \\rightarrow +\\infty}{\\longrightarrow} (p_i - p_i^0)^2 = C > 0$\n",
    "\n",
    "Значит, $\\normalsize X_n^2 \\geqslant nC \\rightarrow +\\infty$\n",
    "\n",
    "Критическое множество имеет вид: $\\bigl\\{ X_n^2 > \\chi_{1 - \\alpha} \\bigr\\}$\n",
    "\n",
    "Такми образом, доказали состоятельность критерия."
   ]
  },
  {
   "cell_type": "markdown",
   "metadata": {
    "id": "6G3tDJb9fpzZ"
   },
   "source": [
    "## Задача 6.A (2 балла)\n",
    "\n",
    "### На зачет\n",
    "\n",
    "Какие критерии однородности вы можете привести на текущий момент? Приведите минимум 4 примера и в каких случаях можно использовать каждый из них?"
   ]
  },
  {
   "cell_type": "markdown",
   "metadata": {
    "id": "ZhJMwuQ2hlHz"
   },
   "source": [
    "<font size='3'>\n",
    "$\\normalsize H_0: F \\equiv G$ - однородности  \n",
    "\n",
    "$\\normalsize H_1: \\exists x \\quad F(x) \\neq G(x)$ - неоднородности  \n",
    "\n",
    "$\\normalsize H_2: G(x) \\leqslant F(x) \\Rightarrow P(Y \\geqslant t) \\geqslant P(X \\geqslant t) \\Rightarrow Y \\geqslant X$ - доминирования  \n",
    "\n",
    "$\\normalsize H_3: G(x) = F(x - \\theta), \\; \\theta > 0$ - сдвига\n",
    "    \n",
    "<u> Замечание:</u> Для всех критериев предполагаем независимость $(X_1, \\ldots, X_n, Y_1, \\ldots, Y_m)$ и $\\dfrac{n}{n + m} \\rightarrow \\gamma \\in (0, 1)$\n",
    "\n",
    "1. **Критерий Смирнова** ($H_1$)  \n",
    "    <u>Границы применимости:</u> непрерывность распр-ий, $n, m \\geqslant 20$\n",
    "    $\\normalsize D_{nm} = \\underset{x}{\\sup} |\\hat{F_n}(x) - \\hat{G_m}(x)| = \\max(D_{nm}^+, D_{nm}^-)$  \n",
    "    $\\normalsize D_{nm}^+ = \\underset{1 \\leqslant i \\leqslant n}{\\max}(\\dfrac{i}{n} - \\hat{G_m}(X_{(i)}))$  \n",
    "    $\\normalsize D_{nm}^- = \\underset{1 \\leqslant j \\leqslant m}{\\max}(\\dfrac{j}{m} - \\hat{F_n}(Y_{(j)}))$  \n",
    "    Если $H_0$ - верна, то $\\normalsize P\\biggl( \\sqrt{\\dfrac{nm}{n+m}} D_{nm} \\leqslant x\\biggr) \\underset{n, m \\rightarrow \\infty}{\\longrightarrow} K(x)$  \n",
    "    Критическое множество: $\\normalsize \\biggl\\{ \\sqrt{\\dfrac{nm}{n+m}} D_{nm} \\geqslant K_{1 - \\alpha} \\biggr\\}$  \n",
    "    <u> Замечание: </u> В случае $H_2$ надо применять односторонний критерий, основанный на статистике $D_{nm}^+$  \n",
    "    $P(\\sqrt{nm / (n+m)} D_{nm}^+ \\leqslant t) \\longrightarrow 1 - \\exp{(-2t^2)} \\text{ при } n, m \\rightarrow +\\infty$  \n",
    "    \n",
    "    <u> Поправка:</u> $S_{CM} = \\sqrt{nm / (n+m)} \\bigl( D_{nm} + \\dfrac{m+n}{4.6 mn} \\bigr)$\n",
    "2. **Критерий Розенблатта (Андерсена-Дарлинга)** ($H_1$)  \n",
    "    <u>Границы применимости:</u> непрерывность распр-ий, $n, m \\geqslant 20$  \n",
    "    $\\normalsize \\omega_{nm} = \\int\\limits_{-\\infty}^{+ \\infty} (\\hat{F_n}(x) - \\hat{G_m}(x))d\\hat{H_{n+m}}(x) \\text{, где } \\hat{H_{n+m}}(x) = \\dfrac{n}{n+m} \\hat{F_n}(x) + \\dfrac{m}{n + m}\\hat{G_m}(x)$  \n",
    "    $\\normalsize \\omega_{nm}$ можно выразить через ранги $X_i$ и $Y_j$ в совместном вариационном ряду (лень техать формулу)  \n",
    "    $Z = Z_{nm} = \\dfrac{nm}{n+m}\\omega_{nm}^2$  \n",
    "    Если $H_0$ верна, то $\\normalsize P(Z \\leqslant x) \\underset{n, m \\rightarrow \\infty}{\\longrightarrow} A_1(x)$  \n",
    "    Критическое множество: $\\normalsize \\bigl\\{ Z \\geqslant A_{1 - \\alpha} \\bigr\\}$\n",
    "    \n",
    "    Для маленьких выборок применяют следующую поправку (хорошо при n, m >= 7):  \n",
    "    \n",
    "    $Z^* = \\dfrac{Z - EZ}{\\sqrt{45 DZ}} + \\dfrac{1}{6}$\n",
    "3. **Критерий Манна-Уитни для случая различных элементов в выборке** ($H_2, H_3$)  \n",
    "    <u>Границы применимости:</u>  \n",
    "        - для непрерывных распределений: n, m >= 20  \n",
    "        - для дискретных распределений: проверить методом Монте-Карло при каких n, m распределение статистики станет похоже на нормальное\n",
    "    \n",
    "    Пусть $S_j$ - ранг $Y_j, \\quad V = S_1 + \\ldots + S_m$  \n",
    "    Статистика критерия: $U = \\sum\\limits_{i=1}^n \\sum\\limits_{j=1}^m I(X_i < Y_j) = V - \\dfrac{m(m+1)}{2}$  \n",
    "    $EU = \\dfrac{nm}{2}, \\; DU = \\dfrac{1}{12}nm(n+m+1)$  \n",
    "    Если $H_0$ - верна, то $U^* = \\dfrac{U - EU}{\\sqrt{DU}} \\overset{d}{\\longrightarrow} Z \\sim \\mathcal{N}(0, 1)$  \n",
    "    Критическое множество: $\\normalsize \\bigl\\{ |U^*| \\geqslant z_{1 - \\alpha/2} \\bigr\\}$  \n",
    "    В случае отвержения $H_0$ сдвиг $\\theta$ можно оценить как $MED(Y_j - X_i)$\n",
    "4. **Однородность норм.выборок** ($H_1$)  \n",
    "    <u>Границы применимости:</u> никогда. Почему?  \n",
    "        - критические значения статистики F существенно изменяются при небольших возмущениях модели\n",
    "        - критерий Стьюдента становится менее эффективным при отклонении от строгой нормальности\n",
    "    $X_i \\sim \\mathcal{N}(\\mu_1, \\sigma_1^2), \\; Y_j \\sim \\mathcal{N}(\\mu_2, \\sigma_2^2), X_i \\text{ и } Y_j \\text{независимы}$  \n",
    "    $S_1^2, S_2^2$ - несмещённая выборочная дисперсия\n",
    "    \n",
    "    1) **Критерий Фишера**  \n",
    "    $\\normalsize H': \\sigma_1 = \\sigma_2, \\mu_1 \\text{ и } \\mu_2 - \\text{ любые}$\n",
    "    \n",
    "    Если $H'$ верна, то $\\normalsize \\dfrac{S_1^2}{S_2^2} \\sim F_{n-1, m-1}$  \n",
    "    Критическое множество: $\\normalsize \\bigl\\{ F \\geqslant f_{1 - \\alpha} \\bigr\\}$\n",
    "    \n",
    "    Если $H'$ не отвергается, то остаётся проверить гипотезу $\\normalsize H'': \\mu_1 = \\mu_2$ \n",
    "    \n",
    "    2) **Критерий Стьюдента**  \n",
    "    $\\normalsize S_{tot}^2 = \\dfrac{n-1}{n+m-2} S_1^2 + \\dfrac{m-1}{n+m-2} S_2^2$  \n",
    "    \n",
    "    $\\normalsize H'': \\mu_1 = \\mu_2$  \n",
    "    \n",
    "    $\\normalsize T = \\dfrac{\\overline{X} - \\overline{Y}}{S_{tot} \\sqrt{\\frac{1}{n} + \\frac{1}{m}}} \\sim t_{n+m-2}$  \n",
    "    Критическое множество: $\\normalsize \\bigl\\{ T \\geqslant t_{1 - \\alpha} \\bigr\\}$\n",
    "    \n",
    "5. **Критерий хи-квадрат для двух выборок** ($H_1$)  \n",
    "    <u>Границы применимости:</u> дискретное распределение, все элементы таблицы >= 5, всего элементов >= 50, размеры выборок не должны сильно отличаться друг от друга (иначе может возникнуть парадокс Симпсона)\n",
    "</font>    "
   ]
  },
  {
   "cell_type": "markdown",
   "metadata": {
    "id": "Vi7y1K2zg9sP"
   },
   "source": [
    "## Задача 6.B (4 балла)\n",
    "\n",
    "Какой критерий однородности вы стали бы использовать на практике и в каких случаях?\n",
    "\n",
    "От вас ожидаетя практический ответ на вопрос: будете ли вы в работе использовать этот критерий в качестве критерия однородности? Рассмотрите разные случаи и выборки. \n",
    "\n",
    "Сделайте финальный выбор."
   ]
  },
  {
   "cell_type": "markdown",
   "metadata": {},
   "source": [
    "**Решение:**  \n",
    "    1. Для дискретных распределений однозначно применяем хи-квадрат. Однако к результатам стоит относиться с осторожностью. Например, может оказаться так, что метрика выросла отдельно по каждой когорте, но при объединении групп окажется, что метрика никак не улучшилась. Этот эффект вызван непропорциональном размере когорт.  \n",
    "    2. Критерии Смирнова и Розенблатта разработаны таким образом, чтобы быть чувствительными ко всем возможным типам различий. По этой причине их лучше использовать в случае, когда необходимо задетектировать сильные различия в законах, соответствующих выборкам. То есть их лучше не использовать в случае, когда хотим обнаружить незначительный прирост метрики.  \n",
    "    У дефолтного критерия Смирнова есть несколько недостатков. Во-первых, это медленная скорость сходимости к распр-ию Колмогорова. У критерия Розенблатта распределение статистики очень быстро сходится к распр-ию $A_1(x)$, Во-вторых, значения статистики $D_{nm}$ образуют решётку с шагом $1 / \\text{lcm}(n, m)$, где lcm - наименьшее общее кратное. Поэтому, лучше брать взаимно простые $m$ и $n$ или применить поправку, указанную выше. [Источник](https://ami.nstu.ru/~headrd/seminar/publik_html/Izm_T_8.htm)  \n",
    "    На практике лучше использовать критерий Смирнова с указанными выше поправками, поскольку статистика вычисляется проще, чем статистика Розенблатта, и предельное распределение имеет явную формулу в отличие от Розенблатта.  \n",
    "    3. Критерий Манна-Уитни стоит применять в случае, когда заранее известно, что внесённое изменение полностью сдвигает функцию распределения. В частности, когда тестовая выборка сдвинута на некоторое положительное значение или отмасштабирована. В [конце статьи](https://habr.com/ru/company/avito/blog/709596/) приводится пример с синтетической выборкой, в которой показывается большая чувствительность критерия Смирнова по сравнению с критерием Манна-Уитни, но пример ниже показывает, что это не всегда так.   "
   ]
  },
  {
   "cell_type": "markdown",
   "metadata": {},
   "source": [
    "**Статистика критерия Смирнова и её поправки**"
   ]
  },
  {
   "cell_type": "code",
   "execution_count": 410,
   "metadata": {},
   "outputs": [
    {
     "data": {
      "image/png": "[encoded data removed]",
      "text/plain": [
       "<Figure size 1008x576 with 1 Axes>"
      ]
     },
     "metadata": {
      "needs_background": "light"
     },
     "output_type": "display_data"
    }
   ],
   "source": [
    "import scipy.stats as sps\n",
    "from statsmodels.distributions.empirical_distribution import ECDF\n",
    "from scipy.special import kolmogorov\n",
    "\n",
    "\n",
    "EDF_LEFT_LIMIT = 0\n",
    "EDF_RIGHT_LIMIT = 2.5\n",
    "\n",
    "def get_edf_points(\n",
    "        sample: np.ndarray,\n",
    "        xmin: float = EDF_LEFT_LIMIT,\n",
    "        xmax: float = EDF_RIGHT_LIMIT) -> (np.ndarray, np.ndarray):\n",
    "    edf_arr = ECDF(sample)\n",
    "    edf_x_arr = np.copy(edf_arr.x)\n",
    "    edf_x_arr[0] = xmin\n",
    "    edf_x_arr = np.append(edf_x_arr, xmax)\n",
    "    edf_y_arr = np.append(np.copy(edf_arr.y), 1)\n",
    "    \n",
    "    return edf_x_arr, edf_y_arr\n",
    "\n",
    "    \n",
    "np.random.seed(2022)\n",
    "\n",
    "distr_1 = sps.expon(loc=2, scale=5)\n",
    "distr_2 = sps.expon(loc=2, scale=5)\n",
    "k_experiments = 5000\n",
    "n_common = 50\n",
    "m, n = 51, 49\n",
    "ks_stats_common = []\n",
    "ks_stats_mut_simple = []\n",
    "ks_stats_mod_common = []\n",
    "ks_stats_modified = []\n",
    "\n",
    "alpha = 0.05\n",
    "threshold = sps.kstwobign.ppf(1-alpha)\n",
    "fp_ratios = [0, 0, 0, 0]\n",
    "\n",
    "for _ in range(k_experiments):\n",
    "    sample_1 = distr_1.rvs(n_common)\n",
    "    sample_2 = distr_2.rvs(n_common)\n",
    "    sample_3 = distr_1.rvs(m)\n",
    "    sample_4 = distr_2.rvs(n)\n",
    "    \n",
    "    d_nn_common, _ = sps.ks_2samp(sample_1, sample_2)\n",
    "    d_nn_mod_common = np.sqrt(n_common/2) * (d_nn_common + 1.0/(2.3*n_common))\n",
    "    d_nn_common *= np.sqrt(n_common/2)\n",
    "    \n",
    "    d_mn, _ = sps.ks_2samp(sample_3, sample_4)\n",
    "    d_mn_modified = np.sqrt(n*m/(n+m)) * (d_mn + (m+n)/(4.6*m*n))\n",
    "    d_mn *= np.sqrt(n*m/(n+m))\n",
    "    \n",
    "    ks_stats_common.append(d_nn_common)\n",
    "    ks_stats_mut_simple.append(d_mn)\n",
    "    ks_stats_mod_common.append(d_nn_mod_common)\n",
    "    ks_stats_modified.append(d_mn_modified)\n",
    "    \n",
    "    fp_ratios[0] += float(d_nn_common > threshold) / k_experiments\n",
    "    fp_ratios[1] += float(d_mn > threshold) / k_experiments\n",
    "    fp_ratios[2] += float(d_nn_mod_common > threshold) / k_experiments\n",
    "    fp_ratios[3] += float(d_mn_modified > threshold) / k_experiments\n",
    "\n",
    "ticks = np.linspace(EDF_LEFT_LIMIT, EDF_RIGHT_LIMIT, 1000)\n",
    "common_x, common_y = get_edf_points(ks_stats_common)\n",
    "mut_simple_x, mut_simple_y = get_edf_points(ks_stats_mut_simple)\n",
    "mod_common_x, mod_common_y = get_edf_points(ks_stats_mod_common)\n",
    "modified_x, modified_y = get_edf_points(ks_stats_modified)\n",
    "\n",
    "plt.figure(figsize=(14, 8))\n",
    "\n",
    "plt.step(common_x, common_y, where='post',\n",
    "         label=f'Smirnov m = n = {n_common}')\n",
    "plt.step(mut_simple_x, mut_simple_y, where='post',\n",
    "         label=f'Smirnov m = {m}, n = {n}')\n",
    "plt.step(mod_common_x, mod_common_y, where='post',\n",
    "         label=f'Modified Smirnov m = n = {n_common}')\n",
    "plt.step(modified_x, modified_y, where='post',\n",
    "         label=f'Modified Smirnov m = {m}, n = {n}')\n",
    "plt.plot(ticks, sps.kstwobign.cdf(ticks),\n",
    "         label='Kolmogorov distribution')\n",
    "\n",
    "plt.grid(True)\n",
    "plt.legend(fontsize=14)\n",
    "plt.show()"
   ]
  },
  {
   "cell_type": "code",
   "execution_count": 415,
   "metadata": {},
   "outputs": [
    {
     "name": "stdout",
     "output_type": "stream",
     "text": [
      "Smirnov m = n = 50: fp_ratio = 0.038\n",
      "CI = (0.03288703253198343, 0.04351296746801633)\n",
      "Smirnov m = 51, n = 49: fp_ratio = 0.038\n",
      "CI = (0.032700408154408486, 0.043299591845591276)\n",
      "Modified Smirnov m = n = 50: fp_ratio = 0.038\n",
      "CI = (0.03288703253198343, 0.04351296746801633)\n",
      "Modified Smirnov m = 51, n = 49: fp_ratio = 0.048\n",
      "CI = (0.042451424386517375, 0.05434857561348226)\n"
     ]
    }
   ],
   "source": [
    "from statsmodels.stats.proportion import proportion_confint\n",
    "\n",
    "\n",
    "print(f'Smirnov m = n = {n_common}: fp_ratio = {fp_ratios[0]:.3f}')\n",
    "print(f'CI = {proportion_confint(fp_ratios[0]*k_experiments, k_experiments, alpha)}')\n",
    "\n",
    "print(f'Smirnov m = {m}, n = {n}: fp_ratio = {fp_ratios[1]:.3f}')\n",
    "print(f'CI = {proportion_confint(fp_ratios[1]*k_experiments, k_experiments, alpha)}')\n",
    "\n",
    "print(f'Modified Smirnov m = n = {n_common}: fp_ratio = {fp_ratios[2]:.3f}')\n",
    "print(f'CI = {proportion_confint(fp_ratios[2]*k_experiments, k_experiments, alpha)}')\n",
    "\n",
    "print(f'Modified Smirnov m = {m}, n = {n}: fp_ratio = {fp_ratios[3]:.3f}')\n",
    "print(f'CI = {proportion_confint(fp_ratios[3]*k_experiments, k_experiments, alpha)}')"
   ]
  },
  {
   "cell_type": "markdown",
   "metadata": {},
   "source": [
    "Как видно из графиков, статистика из критерия Cмирнова при равных размерах выборок имеет сильно ступенчатый вид, а также она расположена строго выше ФР Колмогорова ==> её значения в среднем меньше значений предельного распределения.  \n",
    "При взятии взаимно простых m и n график становится более гладким, однако gap между эмпирической и предельной ФР по-прежнему сохранился.  \n",
    "При рассмотрении поправленной статистики Смирнова ступенчатость сохраняется, но зато решается проблема с gap-ом.  \n",
    "При внедрений обоих улучшений теоретическая и эмпирическая cdf практически неотличимы друг от друга. Вследствие этого, полученное fp_ratio близко к alpha = 5% ==> его мощность будет максимальной среди прочих критериев Смирнова."
   ]
  },
  {
   "cell_type": "markdown",
   "metadata": {},
   "source": [
    "**Пример с критерием Розенблатта**"
   ]
  },
  {
   "cell_type": "code",
   "execution_count": 429,
   "metadata": {},
   "outputs": [
    {
     "name": "stdout",
     "output_type": "stream",
     "text": [
      "fp_ratio = 0.0506\n",
      "CI = (0.04452476669055467, 0.05667523330944533)\n"
     ]
    },
    {
     "data": {
      "image/png": "[encoded data removed]",
      "text/plain": [
       "<Figure size 1008x576 with 1 Axes>"
      ]
     },
     "metadata": {
      "needs_background": "light"
     },
     "output_type": "display_data"
    }
   ],
   "source": [
    "np.random.seed(2022)\n",
    "cvm_stats = []\n",
    "fp_count = 0\n",
    "\n",
    "for _ in range(k_experiments):\n",
    "    sample_1 = distr_1.rvs(n_common)\n",
    "    sample_2 = distr_2.rvs(n_common)\n",
    "    \n",
    "    res = sps.cramervonmises_2samp(sample_1, sample_2)\n",
    "    stat = res.statistic\n",
    "    pval = res.pvalue\n",
    "    cvm_stats.append(stat)\n",
    "    \n",
    "    fp_count += int(pval < alpha)\n",
    "\n",
    "print(f'fp_ratio = {fp_count/k_experiments:.3}')\n",
    "print(f'CI = {proportion_confint(fp_count, k_experiments, alpha)}')\n",
    "\n",
    "plt.figure(figsize=(14, 8))\n",
    "plt.hist(cvm_stats, bins=20, label=f'Cramer Von Mizes m = n = {n_common}')\n",
    "plt.grid(True)\n",
    "plt.legend(fontsize=14)\n",
    "plt.show()"
   ]
  },
  {
   "cell_type": "markdown",
   "metadata": {},
   "source": [
    "**Пример с критерием Манна-Уитни и критерием Смирнова**"
   ]
  },
  {
   "cell_type": "code",
   "execution_count": 328,
   "metadata": {},
   "outputs": [
    {
     "data": {
      "application/vnd.jupyter.widget-view+json": {
       "model_id": "6f54940d187e4ea5be2e816cf10cd927",
       "version_major": 2,
       "version_minor": 0
      },
      "text/plain": [
       "  0%|          | 0/50000 [00:00<?, ?it/s]"
      ]
     },
     "metadata": {},
     "output_type": "display_data"
    },
    {
     "name": "stdout",
     "output_type": "stream",
     "text": [
      "Mann-whitneyu: 0.1599\n",
      "Kolmogorov-Smirnov: 0.1091\n",
      "T-test: 0.0633\n"
     ]
    }
   ],
   "source": [
    "from tqdm.notebook import tqdm\n",
    "from statsmodels.stats.proportion import proportion_confint\n",
    " \n",
    "\n",
    "mann_bad_cnt = 0\n",
    "ks_bad_cnt = 0\n",
    "ttest_bad_cnt = 0\n",
    "sz = 50000\n",
    "alpha = 0.01\n",
    "\n",
    "np.random.seed(42)\n",
    " \n",
    "for i in tqdm(range(sz)):\n",
    "    test = sps.expon(loc=2, scale=10).rvs(500)\n",
    "    control = sps.expon(loc=2, scale=10).rvs(500)\n",
    "    test += 0.5\n",
    "     \n",
    "    mann_pvalue = sps.mannwhitneyu(control, test, alternative='less').pvalue\n",
    "    ks_pvalue = sps.ks_2samp(control, test, alternative='greater').pvalue # Потому что он сравнивает F_T > F_C. А в этот момент ET < EC. Поэтому и другая альтернатива\n",
    "    ttest_pvalue = sps.ttest_ind(control, test, alternative='less').pvalue\n",
    "    if mann_pvalue < alpha:\n",
    "        mann_bad_cnt += 1\n",
    " \n",
    "    if ks_pvalue < alpha:\n",
    "        ks_bad_cnt += 1\n",
    "     \n",
    "    if ttest_pvalue < alpha:\n",
    "        ttest_bad_cnt += 1\n",
    "\n",
    "# Выводим полученные мощности\n",
    "print(f\"Mann-whitneyu: {round(mann_bad_cnt / sz, 4)}\")\n",
    "print(f\"Kolmogorov-Smirnov: {round(ks_bad_cnt / sz, 4)}\")\n",
    "print(f\"T-test: {round(ttest_bad_cnt / sz, 4)}\")"
   ]
  },
  {
   "cell_type": "markdown",
   "metadata": {},
   "source": [
    "## Задача 7* (2 балла)\n",
    "\n",
    "Мы знаем, что критерий согласия Колмогорова не работает для дискретных распределений.\n",
    "\n",
    "Как модифицировать этот критерий, чтобы он начал работать с равномерным дискретным распределением `scipy.stats.randint(1, 7)`? А как поступить с другими распределениями?"
   ]
  }
 ],
 "metadata": {
  "colab": {
   "provenance": []
  },
  "kernelspec": {
   "display_name": "Python 3",
   "language": "python",
   "name": "python3"
  },
  "language_info": {
   "codemirror_mode": {
    "name": "ipython",
    "version": 3
   },
   "file_extension": ".py",
   "mimetype": "text/x-python",
   "name": "python",
   "nbconvert_exporter": "python",
   "pygments_lexer": "ipython3",
   "version": "3.7.3"
  }
 },
 "nbformat": 4,
 "nbformat_minor": 1
}
