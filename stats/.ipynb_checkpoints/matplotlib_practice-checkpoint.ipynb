{
 "cells": [
  {
   "cell_type": "markdown",
   "id": "6ecbc569",
   "metadata": {},
   "source": [
    "# Практическое применение Matplotlib и Seaborn"
   ]
  },
  {
   "cell_type": "markdown",
   "id": "2277acf8",
   "metadata": {},
   "source": [
    "### Подгатавливаем всё для работы"
   ]
  },
  {
   "cell_type": "code",
   "execution_count": null,
   "id": "ba932d4a",
   "metadata": {},
   "outputs": [],
   "source": [
    "# Импортируем matplotlip\n",
    "import matplotlib.pyplot as plt\n",
    "\n",
    "# Импортируем seaborn\n",
    "import seaborn as sns\n",
    "\n",
    "# NumPy нам тоже снова понадобится\n",
    "import numpy as np"
   ]
  },
  {
   "cell_type": "code",
   "execution_count": null,
   "id": "ba668d79",
   "metadata": {},
   "outputs": [],
   "source": [
    "# Загружаем данные и сразу смотрим на них\n",
    "import pandas as pd\n",
    "orig_wines = pd.read_csv('data/red.csv')\n",
    "orig_wines.head()"
   ]
  },
  {
   "cell_type": "markdown",
   "id": "5422b5e7",
   "metadata": {},
   "source": [
    "### Корректируем данные"
   ]
  },
  {
   "cell_type": "markdown",
   "id": "7882a085",
   "metadata": {},
   "source": [
    "Для начала посмотрим как распределены вина по цене, для этого нам пригодится гистограмма."
   ]
  },
  {
   "cell_type": "code",
   "execution_count": null,
   "id": "a3b766c4",
   "metadata": {},
   "outputs": [],
   "source": [
    "# Распределение цен\n",
    "x = orig_wines['Price']\n",
    "plt.hist(x)"
   ]
  },
  {
   "cell_type": "markdown",
   "id": "0ff5edfc",
   "metadata": {},
   "source": [
    "Здесь мы можем наглядно увидеть, что цены распределены крайне неравномерно. В таком случае нам не помешает срезать данные, которые явно выбиваются из средних.  \n",
    "Сейчас нам придется сделать довольно замословатые преобразования при помощи pandas."
   ]
  },
  {
   "cell_type": "code",
   "execution_count": null,
   "id": "65295242",
   "metadata": {},
   "outputs": [],
   "source": [
    "# Берём 95 персентиль и заодно уберём вина, за которые голосовало меньше 200 людей\n",
    "wines = orig_wines[(orig_wines['Price'] < orig_wines['Price'].quantile(.95)) & (orig_wines['NumberOfRatings'] < 200)]"
   ]
  },
  {
   "cell_type": "markdown",
   "id": "4b9d2a04",
   "metadata": {},
   "source": [
    "Теперь в наших данных не будет черезчур дорогих вин, которые портят статистику. Посмотрим что осталось."
   ]
  },
  {
   "cell_type": "code",
   "execution_count": null,
   "id": "98c28062",
   "metadata": {},
   "outputs": [],
   "source": [
    "x = wines['Price']\n",
    "plt.hist(x)"
   ]
  },
  {
   "cell_type": "markdown",
   "id": "8bb0b3d3",
   "metadata": {},
   "source": [
    "Да, теперь данные выглядят намного лучше.   \n",
    "Теперь проверим нормальность этого распределения (хотя и так понятно что оно не особо нормальное).  \n",
    "Подробнее про значения Skewness и Kurtosis смотрите здесь: https://medium.com/@atanudan/kurtosis-skew-function-in-pandas-aa63d72e20de"
   ]
  },
  {
   "cell_type": "code",
   "execution_count": null,
   "id": "b24ab72d",
   "metadata": {},
   "outputs": [],
   "source": [
    "print(\"Skewness: %f\" % wines['Price'].skew())\n",
    "print(\"Kurtosis: %f\" % wines['Price'].kurt())"
   ]
  },
  {
   "cell_type": "markdown",
   "id": "a5ecb4db",
   "metadata": {},
   "source": [
    "### Ищем корреляции\n",
    "Визуализация данных лучше всего поможет нам определить есть ли среди наших данных корреляции. Возможно значения в одном стобце напрямую связаны со значениями из другого столбца?"
   ]
  },
  {
   "cell_type": "code",
   "execution_count": null,
   "id": "dcb2dd44",
   "metadata": {},
   "outputs": [],
   "source": [
    "# Посмотрим на зависимость цены от года производства\n",
    "\n",
    "fig, ax = plt.subplots()\n",
    "\n",
    "x = wines['Year']\n",
    "y = wines['Price']\n",
    "ax.scatter(x, y, alpha=0.1)\n",
    "plt.xticks(rotation=45)\n",
    "\n",
    "plt.show()"
   ]
  },
  {
   "cell_type": "markdown",
   "id": "bb990eb7",
   "metadata": {},
   "source": [
    "Видим, что цена вина хоть и зависит от года производста, но не так сильно, как этого можно было ожидать.  \n",
    "Попробуем поискать в другом месте."
   ]
  },
  {
   "cell_type": "code",
   "execution_count": null,
   "id": "079b389a",
   "metadata": {},
   "outputs": [],
   "source": [
    "# Посмотрим на зависимость цены от рейтинга\n",
    "\n",
    "fig, ax = plt.subplots()\n",
    "\n",
    "x = wines['Rating']\n",
    "y = wines['Price']\n",
    "ax.scatter(x, y, alpha=0.1)\n",
    "plt.xticks(rotation=45)\n",
    "\n",
    "plt.show()"
   ]
  },
  {
   "cell_type": "markdown",
   "id": "40c2b41b",
   "metadata": {},
   "source": [
    "Здесь результаты явно имеют закономерность и цена растёт вместе с оценкой опрошенных людей. Теперь мы знаем, что людям нравятся вина подороже."
   ]
  },
  {
   "cell_type": "markdown",
   "id": "8e0c196a",
   "metadata": {},
   "source": [
    "### Появление Seaborn\n",
    "Seaborn - это надстройка над Matplotlib, которая позволяет строить графики легче и меньше задумываться над подготовкой данных. Кроме того, внутри Seaborn содержится много красивых и довольно сложных графиков для очень разных исследований.  \n",
    "Мы рассмотрим пару из них."
   ]
  },
  {
   "cell_type": "markdown",
   "id": "77f70e2f",
   "metadata": {},
   "source": [
    "Попробуем посмотреть на зависимость цены от рейтинга через призму BoxPlot.  \n",
    "Для того чтобы создать BoxPlot распределения цен по качеству с помощью matplotlib нам пришлось бы подготавливать данные сложным образом. Seaborn уже сделал всё за нас!"
   ]
  },
  {
   "cell_type": "code",
   "execution_count": null,
   "id": "f34c83d1",
   "metadata": {},
   "outputs": [],
   "source": [
    "# Смотрим на более наглядное распределение цен по рейтингу\n",
    "plt.subplots(figsize=(10, 8))\n",
    "fig = sns.boxplot(x='Rating', y=\"Price\", data=wines)\n",
    "fig.axis(ymin=0, ymax=140)"
   ]
  },
  {
   "cell_type": "markdown",
   "id": "e3001f3c",
   "metadata": {},
   "source": [
    "Теперь закономерность стала ещё очевиднее. Мы можем заметить, что при низкой оценке высокая цена это единичные случаи, которые не попадают в околомедианные значения. На простом графике из точек это было не так заметно.  \n",
    "Но попробуем закрепить наши догадки с помощью тепловой карты!"
   ]
  },
  {
   "cell_type": "code",
   "execution_count": null,
   "id": "7dab770d",
   "metadata": {},
   "outputs": [],
   "source": [
    "cnged_wines = wines.copy(deep=True)\n",
    "# Здесь мы переворачиваем значение года т.к. зависимость цены от года ожидается обратная.\n",
    "cnged_wines['Year'] = -wines['Year']\n",
    "\n",
    "# Строим матрицу корреляции\n",
    "corr = cnged_wines.corr(numeric_only=True)\n",
    "sns.heatmap(corr, annot=True)"
   ]
  },
  {
   "cell_type": "markdown",
   "id": "deca5cab",
   "metadata": {},
   "source": [
    "Сейчас мы видим симметричную карту, половина значений для нас бесполезна. Можно откинуть лишнее."
   ]
  },
  {
   "cell_type": "code",
   "execution_count": null,
   "id": "5fa72a35",
   "metadata": {},
   "outputs": [],
   "source": [
    "# Здесь нам снова пригодился numpy с его методами для работы с матрицами\n",
    "matrix = np.triu(corr)\n",
    "sns.heatmap(corr, annot=True, mask=matrix)"
   ]
  },
  {
   "cell_type": "markdown",
   "id": "f8873d06",
   "metadata": {},
   "source": [
    "Вот теперь всё окончательно встаёт на свои места. Мы видим, что действительно сильнее всёго связаны рейтинг вина и его цена, а вот год производства почти не повлиял на оценку опрошенных людей."
   ]
  },
  {
   "cell_type": "markdown",
   "id": "3580a8b1",
   "metadata": {},
   "source": [
    "### Что ещё умеет Seaborn?\n",
    "Для начала предлагаю посмотреть на парочку простых графиков, которые теперь выглядят намного лучше"
   ]
  },
  {
   "cell_type": "code",
   "execution_count": null,
   "id": "8de03e0f",
   "metadata": {},
   "outputs": [],
   "source": [
    "# Уже знакомая нам гистограмма\n",
    "f, ax = plt.subplots(figsize=(10, 6))\n",
    "sns.histplot(wines['Price'], kde=True);"
   ]
  },
  {
   "cell_type": "markdown",
   "id": "a7ce60f3",
   "metadata": {},
   "source": [
    "Зависимость цены от года легко построить с красивым указанием погрешности"
   ]
  },
  {
   "cell_type": "code",
   "execution_count": null,
   "id": "bc2e03ca",
   "metadata": {},
   "outputs": [],
   "source": [
    "sns.lineplot(x=\"Year\", y=\"Price\", data=wines)"
   ]
  },
  {
   "cell_type": "markdown",
   "id": "ab95a8aa",
   "metadata": {},
   "source": [
    "Но пора сделать что-нибудь поинтереснее...  "
   ]
  },
  {
   "cell_type": "markdown",
   "id": "cde4cfb5",
   "metadata": {},
   "source": [
    "### Работа с категориями данных в Seaborn (несколько наборов данных на одной фигуре)\n",
    "Чтобы двигаться дальше нам нужно выделить из данных интересующие нас категории внутри данных. Для начала узнаем три страны с самым большим количеством опрошенных людей.  \n",
    "Тут снова придется использовать магию pandas (смотрите в шпаргалку)."
   ]
  },
  {
   "cell_type": "code",
   "execution_count": null,
   "id": "ce3466fc",
   "metadata": {},
   "outputs": [],
   "source": [
    "# Группируем строки по названию страны и заполняем столбцы количеством строк попавших в группу\n",
    "wines.groupby(['Country']).count()"
   ]
  },
  {
   "cell_type": "code",
   "execution_count": null,
   "id": "d7b3a9bb",
   "metadata": {},
   "outputs": [],
   "source": [
    "# Делаем то же самое, но только для одного столбца\n",
    "grp_data = wines.groupby(['Country'])['Country'].count()\n",
    "grp_data"
   ]
  },
  {
   "cell_type": "code",
   "execution_count": null,
   "id": "7d0a529a",
   "metadata": {},
   "outputs": [],
   "source": [
    "# Берём три самых больших значения\n",
    "top_countries = grp_data.nlargest(3)\n",
    "print(top_countries)"
   ]
  },
  {
   "cell_type": "markdown",
   "id": "d1f1b0d0",
   "metadata": {},
   "source": [
    "Итак, мы узнали 3 самых популярных страны их опроса.\n",
    "Теперь попробуем применить subplots из Matplotlib для Seaborn. Разместим внутри каждого сабплота простой график об изменении цены в зависимости от времени выпуска вина."
   ]
  },
  {
   "cell_type": "code",
   "execution_count": null,
   "id": "fddab0d8",
   "metadata": {},
   "outputs": [],
   "source": [
    "# Подготовим subplots\n",
    "fig = plt.figure()\n",
    "ax_italy = fig.add_subplot(2, 2, 1, title=\"Italy\")\n",
    "ax_france = fig.add_subplot(2, 2, 2, title=\"France\")\n",
    "ax_spain = fig.add_subplot(2, 2, 3, title=\"Spain\")\n",
    "\n",
    "sns.lineplot(ax=ax_italy, x=\"Year\", y=\"Price\", data=wines[wines['Country'] == 'Italy'])\n",
    "sns.lineplot(ax=ax_france, x=\"Year\", y=\"Price\", data=wines[wines['Country'] == 'France'])\n",
    "sns.lineplot(ax=ax_spain, x=\"Year\", y=\"Price\", data=wines[wines['Country'] == 'Spain'])\n",
    "\n",
    "# Подгоняем отступы чтобы всем графикам хватило места\n",
    "fig.tight_layout() \n",
    "\n",
    "plt.show()"
   ]
  },
  {
   "cell_type": "markdown",
   "id": "583d452d",
   "metadata": {},
   "source": [
    "Многие графики, используя праметр hue позволяют нам разбить данные на категории и построить по каждой из них свой график на одних координатных осях. \n",
    "Ниже приведен простейший случай. Как видно, он не особо нагляден и мы поищем более удачный способ одновременного рассмотрения нескольких групп данных."
   ]
  },
  {
   "cell_type": "code",
   "execution_count": null,
   "id": "874f2d69",
   "metadata": {},
   "outputs": [],
   "source": [
    "top_country_wines = wines.loc[wines['Country'].isin(top_countries.index)]"
   ]
  },
  {
   "cell_type": "code",
   "execution_count": null,
   "id": "064f73cb",
   "metadata": {},
   "outputs": [],
   "source": [
    "sns.lineplot(data=top_country_wines, x=\"Year\", y=\"Price\", hue='Country', errorbar=None)"
   ]
  },
  {
   "cell_type": "markdown",
   "id": "bf84c698",
   "metadata": {},
   "source": [
    "Некотоые из наиболее продвинутых графиков в seaborn являются Figure-level графиками. Это значит, что их нельзя разместить как subplots внутри одной общей фигуры. Они и есть фигура из нескольких сабплотов.\n",
    "Такие графики зачастую наиболее сложные и красивые.  "
   ]
  },
  {
   "cell_type": "markdown",
   "id": "bfab21eb",
   "metadata": {},
   "source": [
    "Сейчас мы попробуем посмотреть на наши данные с помощью одного из них - **Joint plot**.  \n",
    "Но для начала подготовим уменьшенный набор данных. Оставим только те страны, по котором у нас больше всего инфорации. Эти страны мы узнали чуть выше."
   ]
  },
  {
   "cell_type": "markdown",
   "id": "25cc74f5",
   "metadata": {},
   "source": [
    "С помощью __Joint plot__ можно увидеть как данные распределены по параметрам и на пересечении каких значений самое большое скопление строк. При разбиении на группы можно наглядно сравнить каждую группу с любой другой."
   ]
  },
  {
   "cell_type": "markdown",
   "id": "e7f06152",
   "metadata": {},
   "source": [
    "Здесь для своего удобства я использую особую палитру. Подробнее про палитры можно почитать здесь https://seaborn.pydata.org/generated/seaborn.color_palette.html"
   ]
  },
  {
   "cell_type": "code",
   "execution_count": null,
   "id": "743718a0",
   "metadata": {},
   "outputs": [],
   "source": [
    "with sns.color_palette(\"colorblind\"):\n",
    "    sns.jointplot(\n",
    "        data=top_country_wines,\n",
    "        x=\"Rating\", y=\"Price\", hue=\"Country\",\n",
    "        kind=\"kde\"\n",
    "    )"
   ]
  },
  {
   "cell_type": "markdown",
   "id": "8fd9e861",
   "metadata": {},
   "source": [
    "Здесь к примеру мы видим, что больше всего вина продаётся приблизительно за $10 и с оценкой около 3.5. А самое дорогое вино можно встретить во Франции.  \n",
    "Посмотрим ещё один пример:"
   ]
  },
  {
   "cell_type": "code",
   "execution_count": null,
   "id": "0d0840a2",
   "metadata": {},
   "outputs": [],
   "source": [
    "with sns.color_palette(\"colorblind\"):\n",
    "    sns.jointplot(\n",
    "        data=top_country_wines,\n",
    "        x=\"Rating\", y=\"Year\", hue=\"Country\",\n",
    "        kind=\"kde\"\n",
    "    )"
   ]
  },
  {
   "cell_type": "markdown",
   "id": "32484e7a",
   "metadata": {},
   "source": [
    "Как вы думаете в какой стране больше старых вин? А в какой стране чаще встречаются вина с высоким рейтингом?"
   ]
  },
  {
   "cell_type": "markdown",
   "id": "72fdc212",
   "metadata": {},
   "source": [
    "Попробуем предсказать рост цены в зависимости от роста рейтинга для вина из разных стран. Здесь нам поможет линейная регрессия."
   ]
  },
  {
   "cell_type": "code",
   "execution_count": null,
   "id": "d8f193f4",
   "metadata": {},
   "outputs": [],
   "source": [
    "sns.lmplot(\n",
    "    data=top_country_wines,\n",
    "    x=\"Price\", y=\"Rating\", hue=\"Country\"\n",
    ")"
   ]
  },
  {
   "cell_type": "markdown",
   "id": "20aacc7d",
   "metadata": {},
   "source": [
    "Уже по этому графику мы можем сделать пару выводов:\n",
    "- Во всех странах цена растёт при увеличении рейтинга\n",
    "- Цена в испании растёт быстрее, чем в других странах при увеличении цены\n",
    "\n",
    "Кроме этих выводов мы можем сделать предположение о том, какой может быть цена в каждой стране даже для вина с рейтингом, которого не было в наших данных."
   ]
  },
  {
   "cell_type": "markdown",
   "id": "56bd44f4",
   "metadata": {},
   "source": [
    "Но на самом деле значение рейтинга не может расти бесконечно. Для более реалистичных предсказаний нам потребуется логарифмический тренд, который можно отобразить добавив всего один параметр."
   ]
  },
  {
   "cell_type": "code",
   "execution_count": null,
   "id": "31a2249d",
   "metadata": {},
   "outputs": [],
   "source": [
    "sns.lmplot(\n",
    "    data=top_country_wines,\n",
    "    x=\"Price\", y=\"Rating\", hue=\"Country\",\n",
    "    logx=True\n",
    ")"
   ]
  },
  {
   "cell_type": "markdown",
   "id": "597756b4",
   "metadata": {},
   "source": [
    "## Практика и домашнее задание\n",
    "\n",
    "Мы подготовили расширеный набор данных, в нём вина делятся по сортам. Они хранятся в файле **data/united_wines.csv**  \n",
    "Сейчас попробуем вместе найти что-то интересное в данных, используя новый столбец и пример графика по ссылке:\n",
    "https://seaborn.pydata.org/examples/paired_pointplots.html\n",
    "\n",
    "(Подробности про PairGrid можно найти тут: https://seaborn.pydata.org/generated/seaborn.PairGrid.html)"
   ]
  },
  {
   "cell_type": "code",
   "execution_count": null,
   "id": "383b5874",
   "metadata": {},
   "outputs": [],
   "source": [
    "# Напишите здесь свой код"
   ]
  },
  {
   "cell_type": "markdown",
   "id": "12ae3408",
   "metadata": {},
   "source": [
    "Дома попробуйте разобраться и с другими графиками из Seaborn. Красивые примеры можно найти здесь: https://seaborn.pydata.org/examples/index.html\n",
    "\n",
    "P.S. Обратите внимание на вот этот пример:  \n",
    "https://seaborn.pydata.org/examples/pair_grid_with_kde.html"
   ]
  }
 ],
 "metadata": {
  "kernelspec": {
   "display_name": "Python 3 (ipykernel)",
   "language": "python",
   "name": "python3"
  },
  "language_info": {
   "codemirror_mode": {
    "name": "ipython",
    "version": 3
   },
   "file_extension": ".py",
   "mimetype": "text/x-python",
   "name": "python",
   "nbconvert_exporter": "python",
   "pygments_lexer": "ipython3",
   "version": "3.9.13"
  }
 },
 "nbformat": 4,
 "nbformat_minor": 5
}
