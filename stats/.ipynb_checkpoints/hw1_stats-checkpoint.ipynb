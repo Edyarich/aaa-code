{
 "cells": [
  {
   "cell_type": "markdown",
   "metadata": {
    "id": "ix5mg3lvmi-0"
   },
   "source": [
    "# Прикладная статистика. ДЗ 1.\n",
    "# Академия Аналитиков Авито"
   ]
  },
  {
   "cell_type": "markdown",
   "metadata": {
    "id": "Ia8PT-uBmoxo"
   },
   "source": [
    "__Правила:__\n",
    "- Финальный дедлайн: **2022-11-30 23:59**. \n",
    "- После того как ваше решение проверят и ответят, вам дается неделя на исправление тех задач, о которых скажет проверяющий. Ответ и обсуждение решения — в телеграме.\n",
    "\n",
    "- Выполненную работу нужно отправить\n",
    "    - в чатик HW1-<ваше имя> через бота @AAA_stats23_bot\n",
    "    - или в личные сообщения боту.\n",
    "- В качестве решения нужно отправить файл ipynb. Ссылка на интернет-ресурсы не принимается. Не публикуйте решения в открытом доступе!\n",
    "- Для выполнения задания используйте этот ноутбук в качествие основы, ничего не удаляя из него. **При этом можно добавлять новые ячейки!**\n",
    "- в ячейках с комменарием `#Автопроверка` нужно заполнить содержимое функций и классов (если есть), которые будут уже объявлены в этой ячейке. При этом:\n",
    "    - Нельзя убрирать или переставять `#Автопроверка` в ячейке. \n",
    "    - Нельзя менять сигнатуру и возвращаемое значение функций. То есть добавлять любой код можно, но удалять, что уже написано - нельзя.\n",
    "    - Нельзя ничего импортировать в таких ячейках. Все доступные для использования библиотеки будут указаны заранее. Такие слова, как `import`, `globals`, `locals`, `eval`, `exec` также нельзя использовать внутри ячеек.\n",
    "    - Нельзя использовать библиотеки, кроме тех, что указаны в задании. Ваш код должен работать именно с эти набором библиотек без любого дополнительного импорта!\n",
    "    - Нельзя использовать код из других ячеек ноутбука (кроме ячейки с импортом, в которой указаны все доступные библиотеки). Единственное исключение - если вы проставите в начало такой ячейки слово `#Автопроверка`. Тогда вы можете использовать код из этой ячейки.\n",
    "    - В случае нарушения этого правила автопроверка будет провалена и вы не получите часть баллов за задачу. \n",
    "    - В случае, если есть несколько ячеек автопроверки, то в каждой такой ячейке можно использовать созданные вами функции (или классы) из других ячеек автопроверки."
   ]
  },
  {
   "cell_type": "code",
   "execution_count": 39,
   "metadata": {
    "id": "dKDxSJ9WS_tk"
   },
   "outputs": [],
   "source": [
    "from collections import namedtuple\n",
    "from scipy.stats import binom\n",
    "import math\n",
    "import numpy as np"
   ]
  },
  {
   "cell_type": "markdown",
   "metadata": {
    "id": "PJ-OUCn7atBd"
   },
   "source": [
    "# Общие замечания по задачам с автопроверкой\n",
    "\n",
    "Во всех задачах далее, где потребуется автопроверка, можно использовать только следующие библиотеки:\n",
    "\n",
    "```\n",
    "from collections import namedtuple\n",
    "from scipy.stats import binom\n",
    "import math\n",
    "import numpy as np\n",
    "```\n",
    "\n",
    "Еще раз обращаем внимание, что в ячейках автопроверки __не__ должны быть импортированы какие-либо библиотеки. В других ячейках импортировать библиотеки можно, но при проверке использованы будут только указанные."
   ]
  },
  {
   "cell_type": "markdown",
   "metadata": {
    "id": "ZCxtcEm9TK0j"
   },
   "source": [
    "## Задача 1. 3 балла\n",
    "\n",
    "[Осьминог Пауль](https://www.championat.com/football/article-3238881-samye-izvestnye-zhivotnye-predskazateli.html) 14 раз пробовал угадать победителя футбольного матча.\n",
    "12 раз он угадал правильно, 2 раза — ошибся. Мы хотим проверить гипотезу:\n",
    "\n",
    " - $H_0$: осьминог угадывает победителя матча с вероятностью 0.5\n",
    " - $H_1$: осьминог выбирает победителя  матча с вероятностью $\\neq$ 0.5\n",
    "\n",
    "#### Пункт А. 1 балл: \n",
    "\n",
    "### На зачет\n",
    "\n",
    "Вам нужно разработать статистический критерий для проверки этой гипотезы, а также посчитать p-value."
   ]
  },
  {
   "cell_type": "markdown",
   "metadata": {
    "executionInfo": {
     "elapsed": 4,
     "status": "ok",
     "timestamp": 1665948902721,
     "user": {
      "displayName": "Dmitriy Lunin",
      "userId": "12580797963137539995"
     },
     "user_tz": -180
    },
    "id": "XiS5n6kXSobS"
   },
   "source": [
    "$H_0: p = 0.5$  \n",
    "$H_1: p \\neq 0.5$  \n",
    "$S(X) = \\sum\\limits_{i=1}^n X_i \\sim Binom(n, 0.5)$ при верности гипотезы $H_0$  \n",
    "Критерий: $\\bigl\\{ S(X) \\gt u_{1-\\frac{\\alpha}{2}} \\bigr\\} \\cup \\bigl\\{ S(X) \\lt u_{\\frac{\\alpha}{2}} \\bigr\\}$, где $u_{\\beta}$ - критическое значение, равное $\\beta$-квантилю $Binom(n, 0.5)$,  \n",
    "Pvalue = $2 \\cdot \\text{min}\\bigl[P\\bigl( S(X) \\geqslant S_0 \\, | \\, H_0\\bigr), \\, P\\bigl( S(X) \\leqslant S_0 \\, | \\, H_0\\bigr) \\bigr]$, где $S_0$ - значение статистики от заданной выборки "
   ]
  },
  {
   "cell_type": "markdown",
   "metadata": {
    "id": "TA2pOET1UA19"
   },
   "source": [
    "Реализуйте критерий `check_paul_criterion(n, k, alpha)`, где \n",
    "- `n` &mdash; количество матчей;\n",
    "- `k` &mdash; количество верных предсказаний от осьминога;\n",
    "- `alpha` &mdash; уровень значимости критерия.\n",
    "\n",
    "Функция должна вернуть `PaulCheckResults` с полями\n",
    "- is_rejected: отверглась или нет гипотеза H_0 на уровне значимости alpha\n",
    "- pvalue\n"
   ]
  },
  {
   "cell_type": "code",
   "execution_count": 40,
   "metadata": {
    "id": "LwmVcAYhUAI1"
   },
   "outputs": [],
   "source": [
    "# Автопроверка\n",
    "\n",
    "PaulCheckResults = namedtuple('PaulCheckResults', ['is_rejected', 'pvalue'])\n",
    "\n",
    "def check_paul_criterion(n: int, k: int, alpha: float = 0.05):\n",
    "    \"\"\"\n",
    "    Параметры:\n",
    "    - n: количество матчей\n",
    "    - k: количество верных предсказаний от осьминога\n",
    "    - alpha: уровень значимости критерия.\n",
    "        \n",
    "    Возвращает:\n",
    "    - PaulCheckResults с полями:\n",
    "        - is_rejected: bool\n",
    "            - отверглась или нет гипотеза H_0 \n",
    "                       на уровне значимости alpha\n",
    "        - pvalue: float\n",
    "    \"\"\"\n",
    "\n",
    "    is_rejected = None\n",
    "    pvalue = None\n",
    "    p0 = 0.5\n",
    "\n",
    "    right_pvalue = 1 - binom(n, p0).cdf(k)\n",
    "    left_pvalue = binom(n, p0).cdf(k)\n",
    "    pvalue = 2 * min(left_pvalue, right_pvalue)\n",
    "    is_rejected = pvalue < alpha\n",
    "\n",
    "    return PaulCheckResults(is_rejected, pvalue)\n"
   ]
  },
  {
   "cell_type": "markdown",
   "metadata": {
    "id": "M86GBVKbSYR6"
   },
   "source": [
    "#### Пункт B. 2 балла: \n",
    "\n",
    "Какие выводы можно сделать из полученного результата?"
   ]
  },
  {
   "cell_type": "markdown",
   "metadata": {},
   "source": [
    "**Определение критической области кр-ия для заданного n**"
   ]
  },
  {
   "cell_type": "code",
   "execution_count": 41,
   "metadata": {},
   "outputs": [
    {
     "name": "stdout",
     "output_type": "stream",
     "text": [
      "PaulCheckResults(is_rejected=True, pvalue=0.0018310546875)\n",
      "S(X) > 11.0 or S(X) < 3.0 ==> Reject H_0\n"
     ]
    }
   ],
   "source": [
    "n = 14\n",
    "k = 12\n",
    "alpha = 0.05\n",
    "\n",
    "print(check_paul_criterion(n, k, alpha))\n",
    "low_critical_value = binom.ppf(alpha/2, n, 0.5)\n",
    "high_critical_value = binom.ppf(1 - alpha/2, n, 0.5)\n",
    "print(f\"S(X) > {high_critical_value} or S(X) < {low_critical_value} ==> Reject H_0\")"
   ]
  },
  {
   "cell_type": "markdown",
   "metadata": {},
   "source": [
    "**Вывод:**  \n",
    "1. На уровне значимости в 5% гипотеза о случайности рез-тов осьминога отвергается. (Этот осьминог всё же что-то знал...)  \n",
    "2. Критическая область для данных гипотезы, статистики и уровня значимости имеет вид: $\\bigl \\{ S(X) \\geqslant 11 \\bigr \\}$"
   ]
  },
  {
   "cell_type": "markdown",
   "metadata": {},
   "source": [
    "**Проверка корректности найденных критических значений**"
   ]
  },
  {
   "cell_type": "code",
   "execution_count": 42,
   "metadata": {},
   "outputs": [
    {
     "name": "stdout",
     "output_type": "stream",
     "text": [
      "0.012939453125 < 0.05\n",
      "0.057373046875 > 0.05\n"
     ]
    }
   ],
   "source": [
    "print(str(binom.cdf(2, n, 0.5) + 1 - binom.cdf(11, n, 0.5)) + f\" < {alpha}\")\n",
    "print(str(binom.cdf(3, n, 0.5) + 1 - binom.cdf(10, n, 0.5)) + f\" > {alpha}\")"
   ]
  },
  {
   "cell_type": "markdown",
   "metadata": {},
   "source": [
    "**Вывод:**  \n",
    "Фактический уровень значимости для найденных критических значений меньше, чем альфа.  \n",
    "В то время как для изменённых на единицу значений фактический уровень значимости больше, чем альфа.  \n",
    "Значит, полученные критические значения корректны с точки зрения лимита на ошибку 1го рода"
   ]
  },
  {
   "cell_type": "markdown",
   "metadata": {},
   "source": [
    "**Построение доверительного интервала**  \n",
    "Здесь я использую следующее определение доверительного интервала:  \n",
    "> Пусть есть статистика $Q$ и критерий $\\psi(Q)$ для проверки гипотезы $H_0: \\theta = m$ уровня значимости $\\alpha$.\n",
    ">\n",
    "> Тогда доверительный интервал для $\\theta$ уровня доверия $1 - \\alpha$: множество таких m, что критерий $\\psi(Q)$ не отвергает для них $H_0$."
   ]
  },
  {
   "cell_type": "code",
   "execution_count": 34,
   "metadata": {},
   "outputs": [
    {
     "name": "stdout",
     "output_type": "stream",
     "text": [
      "CI for p = (0.572, 0.982)\n"
     ]
    }
   ],
   "source": [
    "def check_criterion(n: int, k: int, alpha: float = 0.05, p0: float = 0.5):\n",
    "    \"\"\"\n",
    "    Параметры:\n",
    "    - n: количество матчей\n",
    "    - k: количество верных предсказаний от осьминога\n",
    "    - alpha: уровень значимости критерия\n",
    "    - p0: вероятность в нулевой гипотезе\n",
    "        \n",
    "    Возвращает:\n",
    "    - is_rejected: bool\n",
    "        - отверглась или нет гипотеза H_0 \n",
    "                   на уровне значимости alpha\n",
    "    \"\"\"\n",
    "    right_pvalue = 1 - binom(n, p0).cdf(k-1)\n",
    "    left_pvalue = binom(n, p0).cdf(k)\n",
    "    pvalue = 2 * min(left_pvalue, right_pvalue)\n",
    "    is_rejected = pvalue < alpha\n",
    "\n",
    "    return is_rejected\n",
    "\n",
    "\n",
    "p_arr = np.linspace(0, 1, 1001)\n",
    "left_border, right_border = None, None\n",
    "\n",
    "for p0 in p_arr:\n",
    "    is_rejected = check_criterion(n, k, alpha, p0)\n",
    "    \n",
    "    if is_rejected == False:\n",
    "        if left_border is None:\n",
    "            left_border = p0\n",
    "            \n",
    "        right_border = p0\n",
    "        \n",
    "print(f\"CI for p = ({round(left_border, 3)}, {round(right_border, 3)})\")"
   ]
  },
  {
   "cell_type": "markdown",
   "metadata": {},
   "source": [
    "**Вывод:**  \n",
    "Поскольку 0.5 не входит в 95% ДИ параметра $p$ (ввиду вычисленного ранее p-value 0.5 не войдёт и в 98.5% ДИ), то можно с уверенностью заявить, что осьминог является оракулом"
   ]
  },
  {
   "cell_type": "markdown",
   "metadata": {
    "id": "ukkQeXMzadSw"
   },
   "source": [
    "## Задача 2. 3 балла\n",
    "\n",
    "### На зачет\n",
    "\n",
    "Мы разработали новый дизайн нашего продукта. Вероятность, что он понравится случайному человеку — $p$, и она нам неизвестна. Мы хотим\n",
    "проверить $H_0: p = 1$ с помощью статистического критерия c уровнем значимости $\\alpha$. Предложить критерий для решения этой задачи."
   ]
  },
  {
   "cell_type": "markdown",
   "metadata": {
    "id": "oZx--5Giam5G"
   },
   "source": [
    "$H_0: p = 1$  \n",
    "$H_1: p < 1$  \n",
    "$S(X) = \\sum\\limits_{i=1}^n X_i \\sim Binom(n, 1)$ при верности гипотезы $H_0$  \n",
    "Критерий: $\\bigl\\{ S(X) \\leqslant u_{\\alpha} \\bigr\\}$, где $u_{\\alpha}$ - критическое значение, равное $\\alpha$-квантилю $Binom(n, 1)$, уменьшенному на 1  \n",
    "Pvalue = $P\\bigl( S(X) \\leqslant S_0 \\, | \\, H_0\\bigr)$, где $S_0$ - значение статистики от заданной выборки "
   ]
  },
  {
   "cell_type": "markdown",
   "metadata": {
    "id": "rcJ8DpM6anBh"
   },
   "source": [
    "Напишите функцию `calculate_number_of_users(alpha, beta, p)` — скольки людям нужно показать этот дизайн, чтобы добиться мощности `1 - beta` при заданном `p` и уровне значимости `alpha`.\n",
    "\n",
    "P.S. Утверждается, что на наших тестах ответ не будет превосходить 1000 человек."
   ]
  },
  {
   "cell_type": "markdown",
   "metadata": {},
   "source": [
    "Данная функция пробегается в цикле по $n$ - размеру выборки и проверяет, что мощность кр-ия при истинном значении параметра $p$ больше $1 - \\beta$.  \n",
    "В силу нулевой гипотезы критическое значение будет равно $n - 1$ вне зависимости от $\\alpha$"
   ]
  },
  {
   "cell_type": "code",
   "execution_count": 7,
   "metadata": {
    "id": "6MNoFCQTbCgy"
   },
   "outputs": [],
   "source": [
    "#Автопроверка\n",
    "\n",
    "def calculate_number_of_users(alpha: float, beta: float, p: float):\n",
    "    \"\"\"\n",
    "    Параметры:\n",
    "    - alpha: уровень значимости\n",
    "    - beta: инвертированная мощность критерия. мощность = 1 - beta.\n",
    "    - p: истинная вероятность того, что пользователю понравится дизайн.\n",
    "    Возвращает:\n",
    "    - number_of_users: int\n",
    "        - количество людей, которым надо показать дизайн.\n",
    "    \"\"\"\n",
    "    number_of_users = None\n",
    "    N_MAX = 1000\n",
    "    \n",
    "    for n in range(2, N_MAX+1):\n",
    "        critical_value = n - 1\n",
    "        power = binom.cdf(critical_value, n, p)\n",
    "        \n",
    "        if power >= 1 - beta:\n",
    "            number_of_users = n\n",
    "            break\n",
    "    else:\n",
    "        number_of_usres = N_MAX\n",
    "        \n",
    "    return number_of_users"
   ]
  },
  {
   "cell_type": "markdown",
   "metadata": {
    "id": "Gf5XkemMeYTe"
   },
   "source": [
    "## Задача 3."
   ]
  },
  {
   "cell_type": "markdown",
   "metadata": {
    "id": "T-BANkgVegpD"
   },
   "source": [
    "По недостоверной информации (вероятность, что она верна, считаем за 1%), в новой версии нашего сайта есть сложнодетектируемый баг. Мы могли бы попросить разработку его отыскать и починить, но на это уйдет много ресурсов.\n",
    "\n",
    "К счастью, у нас есть старый AB тест (новая версия сайта vs старая), который мы можем проанализировать и с некоторой вероятностью обнаружить наличие бага просто сравнением выборок. У нас есть три критерия для проверки гипотезы \"$H_0$: баги нет, $H_1$: баг есть\":\n",
    "- критерий `A`: $\\alpha = 0.02, 1-\\beta = 0.50$\n",
    "- критерий `B`: $\\alpha = 0.05, 1-\\beta = 0.60$\n",
    "- критерий `C`: $\\alpha = 0.10, 1-\\beta = 0.70$\n",
    "\n",
    "Если критерий находит баг, мы просим разработчиков потратить силы и починить. На это у них уйдет усилий на 1 М ₽ независимо от того, найдут они баг или нет.\n",
    "Если критерий не найдет баг, затраты разработчиков будут нулевыми, но из-за бага мы потеряем в конечном итоге 50 М ₽.\n",
    "\n",
    "#### Пункт А. 2 балла: \n",
    "\n",
    "Какой критерий стоит выбрать?"
   ]
  },
  {
   "cell_type": "markdown",
   "metadata": {
    "id": "B7msl2CpeXZG"
   },
   "source": [
    "<u>Введём обозначения</u>:\n",
    "\n",
    "$S_1$ - затраты на поиск и исправление бага  \n",
    "$S_2$ - издержки бага  \n",
    "$p_{bug}$ - вероятность наличия бага\n",
    "\n",
    "<u>Интерпретация ошибок 1го и 2го рода</u>:\n",
    "\n",
    "$\\alpha = P\\bigl( \\text{сказали, что баг есть} | \\text{бага нет} \\bigr)$  \n",
    "$\\beta = P\\bigl( \\text{сказали, что бага нету} | \\text{баг есть} \\bigr)$\n",
    "\n",
    "**Затраты критерия:**  \n",
    "$S_{cr} = p_{bug} \\cdot \\bigl[ \\beta S_2 + (1 - \\beta) S_1 \\bigr] + (1 - p_{bug}) \\cdot \\bigl[ \\alpha S_1 + (1 - \\alpha) \\cdot 0\\bigr]$"
   ]
  },
  {
   "cell_type": "code",
   "execution_count": 8,
   "metadata": {},
   "outputs": [
    {
     "name": "stdout",
     "output_type": "stream",
     "text": [
      "Стоимость критерия A равна 0.275 M ₽\n",
      "Стоимость критерия B равна 0.2555 M ₽\n",
      "Стоимость критерия C равна 0.256 M ₽\n"
     ]
    }
   ],
   "source": [
    "def criterion_cost(alpha, beta, p_bug, s1, s2):\n",
    "    first_summand = p_bug * (beta * s2 + (1 - beta) * s1)\n",
    "    second_summand = (1 - p_bug) * (alpha * s1)\n",
    "    \n",
    "    return first_summand + second_summand\n",
    "\n",
    "\n",
    "s1 = 1\n",
    "s2 = 50\n",
    "p_bug = 0.01\n",
    "\n",
    "cr_a_cost = criterion_cost(0.02, 1-0.5, p_bug, s1, s2)\n",
    "cr_b_cost = criterion_cost(0.05, 1-0.6, p_bug, s1, s2)\n",
    "cr_c_cost = criterion_cost(0.10, 1-0.7, p_bug, s1, s2)\n",
    "\n",
    "print(f\"Стоимость критерия A равна {round(cr_a_cost, 3)} M ₽\")\n",
    "print(f\"Стоимость критерия B равна {round(cr_b_cost, 4)} M ₽\")\n",
    "print(f\"Стоимость критерия C равна {round(cr_c_cost, 4)} M ₽\")"
   ]
  },
  {
   "cell_type": "markdown",
   "metadata": {},
   "source": [
    "**Ответ:** Следует выбрать критерий B"
   ]
  },
  {
   "cell_type": "markdown",
   "metadata": {
    "id": "OA9UO8ZHgPbi"
   },
   "source": [
    "#### Пункт B. 2 балла: \n",
    "Предложите оптимальную стратегию, если потери от ненайденного бага составят вместо 50М:\n",
    "- 20М рублей;\n",
    "- 3М рублей;\n",
    "- 300М рублей."
   ]
  },
  {
   "cell_type": "markdown",
   "metadata": {},
   "source": [
    "### 1. Стратегия = кр-ий с минимальными затратами"
   ]
  },
  {
   "cell_type": "code",
   "execution_count": 9,
   "metadata": {
    "id": "-ZjyRGlSlid1"
   },
   "outputs": [
    {
     "name": "stdout",
     "output_type": "stream",
     "text": [
      "Для стоимости бага, равной 20 M ₽, стоит выбрать кр-ий A\n",
      "Его стоимость составляет 0.12 M ₽\n",
      "\n",
      "Для стоимости бага, равной 3 M ₽, стоит выбрать кр-ий A\n",
      "Его стоимость составляет 0.04 M ₽\n",
      "\n",
      "Для стоимости бага, равной 300 M ₽, стоит выбрать кр-ий C\n",
      "Его стоимость составляет 1.01 M ₽\n",
      "\n"
     ]
    }
   ],
   "source": [
    "s2_arr = [20, 3, 300]\n",
    "cr_names = ['A', 'B', 'C']\n",
    "\n",
    "for s2 in s2_arr:\n",
    "    cr_a_cost = criterion_cost(0.02, 1-0.5, p_bug, s1, s2)\n",
    "    cr_b_cost = criterion_cost(0.05, 1-0.6, p_bug, s1, s2)\n",
    "    cr_c_cost = criterion_cost(0.10, 1-0.7, p_bug, s1, s2)\n",
    "    \n",
    "    cost_arr = (cr_a_cost, cr_b_cost, cr_c_cost)\n",
    "    best_criterion_ind = np.argmin(cost_arr)\n",
    "    best_cr_name = cr_names[best_criterion_ind]\n",
    "    best_cr_cost = cost_arr[best_criterion_ind]\n",
    "    \n",
    "    print(f\"Для стоимости бага, равной {s2} M ₽, стоит выбрать кр-ий {best_cr_name}\")\n",
    "    print(f\"Его стоимость составляет {round(best_cr_cost, 2)} M ₽\")\n",
    "    print()"
   ]
  },
  {
   "cell_type": "markdown",
   "metadata": {},
   "source": [
    "**Важно! Для остальных стратегий предполагается, что критерии слабо зависимы между собой, то есть плотность совместного распределение статистик у критериев близко к произведению плотностей**\n",
    "\n",
    "<u> Обозначения</u>:  \n",
    "\n",
    "$A$ - область кр-ия $A$  \n",
    "$B$ - область кр-ия $B$  \n",
    "$C$ - область кр-ия $C$  "
   ]
  },
  {
   "cell_type": "markdown",
   "metadata": {},
   "source": [
    "### 2. Стратегия = принцип большинства"
   ]
  },
  {
   "cell_type": "markdown",
   "metadata": {},
   "source": [
    " Стратегия заключается в том, что мы принимаем гипотезу $H_1$ о том, что баг есть, если хотя бы 2 критерия отвергли гипотезу $H_0$\n",
    "\n",
    "$\\widehat{\\alpha} = P\\bigl( \\text{сказали, что баг есть} | \\text{бага нет} \\bigr) = P\\bigl(AB \\cup BC \\cup AC | \\text{бага нет} \\bigr) = \n",
    "\\alpha_1 \\alpha_2 + \\alpha_2 \\alpha_3 + \\alpha_1 \\alpha_3 - 2 \\alpha_1 \\alpha_2 \\alpha_3$  \n",
    "$\\widehat{\\beta} = P\\bigl( \\text{сказали, что бага нету} | \\text{баг есть} \\bigr) = \\beta_1 \\beta_2 + \\beta_2 \\beta_3 + \\beta_1 \\beta_3 - 2 \\beta_1 \\beta_2 \\beta_3$"
   ]
  },
  {
   "cell_type": "code",
   "execution_count": 32,
   "metadata": {},
   "outputs": [
    {
     "name": "stdout",
     "output_type": "stream",
     "text": [
      "alpha_hat = 0.0078000000000000005\n",
      "beta_hat = 0.35\n",
      "Для стоимости бага, равной 20 M ₽, затраты данной стратегии составляют 0.08 M ₽\n",
      "Для стоимости бага, равной 3 M ₽, затраты данной стратегии составляют 0.02 M ₽\n",
      "Для стоимости бага, равной 300 M ₽, затраты данной стратегии составляют 1.06 M ₽\n"
     ]
    }
   ],
   "source": [
    "alpha_1, alpha_2, alpha_3 = 0.02, 0.05, 0.1\n",
    "beta_1, beta_2, beta_3 = 0.5, 0.4, 0.3\n",
    "\n",
    "alpha_hat = alpha_1 * alpha_2 + alpha_1 * alpha_3 + alpha_2 * alpha_3 - \\\n",
    "    2 * alpha_1 * alpha_2 * alpha_3\n",
    "beta_hat = beta_1 * beta_2 + beta_1 * beta_3 + beta_2 * beta_3 - \\\n",
    "    2 * beta_1 * beta_2 * beta_3\n",
    "\n",
    "print(f\"alpha_hat = {alpha_hat}\")\n",
    "print(f\"beta_hat = {beta_hat}\")\n",
    "\n",
    "for s2 in s2_arr:\n",
    "    cr_voting_cost = criterion_cost(alpha_hat, beta_hat, p_bug, s1, s2)\n",
    "    print(f\"Для стоимости бага, равной {s2} M ₽, затраты данной стратегии\", end=' ')\n",
    "    print(f\"составляют {round(cr_voting_cost, 2)} M ₽\")"
   ]
  },
  {
   "cell_type": "markdown",
   "metadata": {},
   "source": [
    "### 3. Стратегия = закон Мёрфи"
   ]
  },
  {
   "cell_type": "markdown",
   "metadata": {},
   "source": [
    "Стратегия заключается в том, что мы принимаем гипотезу $H_1$ о том, что баг есть, если хотя бы 1 критерий отверг гипотезу $H_0$\n",
    "\n",
    "$\\widehat{\\alpha} = P\\bigl( \\text{сказали, что баг есть} | \\text{бага нет} \\bigr) = P\\bigl(A \\cup B \\cup C | \\text{бага нет} \\bigr) = \\alpha_1 + \\alpha_2 + \\alpha_3 -\n",
    "\\alpha_1 \\alpha_2 - \\alpha_2 \\alpha_3 - \\alpha_1 \\alpha_3 + \\alpha_1 \\alpha_2 \\alpha_3$  \n",
    "$\\widehat{\\beta} = P\\bigl( \\text{сказали, что бага нету} | \\text{баг есть} \\bigr) = P\\bigl(\\overline{A} \\cap \\overline{B} \\cap \\overline{C} | \\text{бага нет} \\bigr) = \\beta_1 \\beta_2 \\beta_3$"
   ]
  },
  {
   "cell_type": "code",
   "execution_count": 33,
   "metadata": {},
   "outputs": [
    {
     "name": "stdout",
     "output_type": "stream",
     "text": [
      "alpha_hat = 0.1621\n",
      "beta_hat = 0.06\n",
      "Для стоимости бага, равной 20 M ₽, затраты данной стратегии составляют 0.18 M ₽\n",
      "Для стоимости бага, равной 3 M ₽, затраты данной стратегии составляют 0.17 M ₽\n",
      "Для стоимости бага, равной 300 M ₽, затраты данной стратегии составляют 0.35 M ₽\n"
     ]
    }
   ],
   "source": [
    "alpha_hat = alpha_1 + alpha_2 + alpha_3 - \\\n",
    "    alpha_1 * alpha_2 - alpha_1 * alpha_3 - alpha_2 * alpha_3 + \\\n",
    "    alpha_1 * alpha_2 * alpha_3\n",
    "beta_hat = beta_1 * beta_2 * beta_3\n",
    "\n",
    "print(f\"alpha_hat = {alpha_hat}\")\n",
    "print(f\"beta_hat = {beta_hat}\")\n",
    "\n",
    "for s2 in s2_arr:\n",
    "    cr_voting_cost = criterion_cost(alpha_hat, beta_hat, p_bug, s1, s2)\n",
    "    print(f\"Для стоимости бага, равной {s2} M ₽, затраты данной стратегии\", end=' ')\n",
    "    print(f\"составляют {round(cr_voting_cost, 2)} M ₽\")"
   ]
  },
  {
   "cell_type": "markdown",
   "metadata": {},
   "source": [
    "### 4. Стратегия = принцип ленивца"
   ]
  },
  {
   "cell_type": "markdown",
   "metadata": {},
   "source": [
    "Стратегия заключается в том, что мы принимаем гипотезу $H_1$ о том, что баг есть, если все 3 критерия отвергли гипотезу $H_0$\n",
    "\n",
    "$\\widehat{\\alpha} = P\\bigl( \\text{сказали, что баг есть} | \\text{бага нет} \\bigr) = P\\bigl(A \\cap B \\cap C | \\text{бага нет} \\bigr) = \\alpha_1 \\alpha_2 \\alpha_3$  \n",
    "$\\widehat{\\beta} = P\\bigl( \\text{сказали, что бага нету} | \\text{баг есть} \\bigr) = P\\bigl(\\overline{A} \\cup \\overline{B} \\cup \\overline{C} | \\text{бага нет} \\bigr) = \\beta_1 + \\beta_2 + \\beta_3 -\n",
    "\\beta_1 \\beta_2 - \\beta_2 \\beta_3 - \\beta_1 \\beta_3 + \\beta_1 \\beta_2 \\beta_3$"
   ]
  },
  {
   "cell_type": "code",
   "execution_count": 34,
   "metadata": {},
   "outputs": [
    {
     "name": "stdout",
     "output_type": "stream",
     "text": [
      "alpha_hat = 0.0001\n",
      "beta_hat = 0.79\n",
      "Для стоимости бага, равной 20 M ₽, затраты данной стратегии составляют 0.16 M ₽\n",
      "Для стоимости бага, равной 3 M ₽, затраты данной стратегии составляют 0.03 M ₽\n",
      "Для стоимости бага, равной 300 M ₽, затраты данной стратегии составляют 2.37 M ₽\n"
     ]
    }
   ],
   "source": [
    "alpha_hat = alpha_1 * alpha_2 * alpha_3\n",
    "beta_hat = beta_1 + beta_2 + beta_3 - \\\n",
    "    beta_1 * beta_2 - beta_1 * beta_3 - beta_2 * beta_3 + \\\n",
    "    beta_1 * beta_2 * beta_3\n",
    "\n",
    "print(f\"alpha_hat = {alpha_hat}\")\n",
    "print(f\"beta_hat = {beta_hat}\")\n",
    "\n",
    "for s2 in s2_arr:\n",
    "    cr_voting_cost = criterion_cost(alpha_hat, beta_hat, p_bug, s1, s2)\n",
    "    print(f\"Для стоимости бага, равной {s2} M ₽, затраты данной стратегии\", end=' ')\n",
    "    print(f\"составляют {round(cr_voting_cost, 2)} M ₽\")"
   ]
  },
  {
   "cell_type": "markdown",
   "metadata": {},
   "source": [
    "**Вывод:**  \n",
    "Для стоимости бага, равной 20 M ₽, стоит выбрать стратегию \"Принцип большинства\"  \n",
    "Его стоимость составляет 0.08 M ₽  \n",
    "\n",
    "Для стоимости бага, равной 3 M ₽, стоит выбрать стратегию \"Принцип большинства\"  \n",
    "Его стоимость составляет 0.02 M ₽  \n",
    "\n",
    "Для стоимости бага, равной 300 M ₽, стоит выбрать стратегию \"Закон Мёрфи\"  \n",
    "Его стоимость составляет 0.35 M ₽  "
   ]
  }
 ],
 "metadata": {
  "colab": {
   "collapsed_sections": [],
   "provenance": []
  },
  "kernelspec": {
   "display_name": "Python 3 (ipykernel)",
   "language": "python",
   "name": "python3"
  },
  "language_info": {
   "codemirror_mode": {
    "name": "ipython",
    "version": 3
   },
   "file_extension": ".py",
   "mimetype": "text/x-python",
   "name": "python",
   "nbconvert_exporter": "python",
   "pygments_lexer": "ipython3",
   "version": "3.9.16"
  }
 },
 "nbformat": 4,
 "nbformat_minor": 1
}
