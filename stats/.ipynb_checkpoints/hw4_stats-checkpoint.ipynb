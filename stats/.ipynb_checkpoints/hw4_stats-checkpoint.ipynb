{
 "cells": [
  {
   "cell_type": "markdown",
   "metadata": {
    "id": "0gvMpOBFJil4"
   },
   "source": [
    "# Прикладная статистика. ДЗ 4.\n",
    "# Академия Аналитиков Авито\n",
    "\n",
    "\n",
    "__Правила:__\n",
    "- Жесткий дедлайн: **2022-03-27 17:59:59**. \n",
    "- Ответ и обсуждение решения — в телеграме.\n",
    "\n",
    "- Выполненную работу нужно отправить\n",
    "    - в чатик HW4-<ваше имя> через бота @AAA_stats23_bot\n",
    "- В качестве решения нужно отправить файл ipynb. Ссылка на интернет-ресурсы не принимается. Не публикуйте решения в открытом доступе!\n",
    "- Для выполнения задания используйте этот ноутбук в качествие основы, ничего не удаляя из него. **При этом можно добавлять новые ячейки!**\n",
    "- в ячейках с комменарием `#Автопроверка` нужно заполнить содержимое функций и классов (если есть), которые будут уже объявлены в этой ячейке. При этом:\n",
    "    - Нельзя убрирать или переставять `#Автопроверка` в ячейке. \n",
    "    - Нельзя менять сигнатуру и возвращаемое значение функций. То есть добавлять любой код можно, но удалять, что уже написано - нельзя.\n",
    "    - Нельзя ничего импортировать в таких ячейках. Все доступные для использования библиотеки будут указаны заранее. Такие слова, как `import`, `globals`, `locals`, `eval`, `exec` также нельзя использовать внутри ячеек.\n",
    "    - Нельзя использовать библиотеки, кроме тех, что указаны в задании. Ваш код должен работать именно с эти набором библиотек без любого дополнительного импорта!\n",
    "    - Нельзя использовать код из других ячеек ноутбука (кроме ячейки с импортом, в которой указаны все доступные библиотеки). Единственное исключение - если вы проставите в начало такой ячейки слово `#Автопроверка`. Тогда вы можете использовать код из этой ячейки.\n",
    "    - В случае нарушения этого правила автопроверка будет провалена и вы не получите часть баллов за задачу. \n",
    "    - В случае, если есть несколько ячеек автопроверки, то в каждой такой ячейке можно использовать созданные вами функции (или классы) из других ячеек автопроверки."
   ]
  },
  {
   "cell_type": "markdown",
   "metadata": {
    "id": "xResAbODLSDZ"
   },
   "source": [
    "# 1 часть"
   ]
  },
  {
   "cell_type": "markdown",
   "metadata": {
    "id": "Zg0yqPWUJydC"
   },
   "source": [
    "## Задача 1 (3 балла)\n",
    "\n",
    "### На зачет\n",
    "\n",
    "\n",
    "Пусть дана выборка из непрерывной случайной величины $\\xi$.\n",
    "Разработать односторонний аналог критерия Манна-Уитни для проверки\n",
    "гипотезы:\n",
    "- $H_0$: медиана случайной величины $\\xi$ равна m0\n",
    "- $H_1$: медиана случайной величины $\\xi$ больше m0\n",
    "\n",
    "Критические области статистики этого критерия нужно определить с помощью формулы, Монте-Карло процесс для их нахождения не допускается.\n"
   ]
  },
  {
   "cell_type": "markdown",
   "metadata": {
    "id": "fcYSjZ70KZoe"
   },
   "source": [
    "Используемые библиотеки:\n",
    "\n",
    "```\n",
    "import numpy as np\n",
    "from collections import namedtuple\n",
    "from scipy.stats.binom import cdf\n",
    "from scipy.stats.norm import cdf\n",
    "from scipy.stats.t import cdf\n",
    "from scipy.stats.bernoulli import cdf\n",
    "```\n",
    "\n",
    "**При этом нельзя пользоваться функцией rvs!**"
   ]
  },
  {
   "cell_type": "code",
   "execution_count": 22,
   "metadata": {
    "id": "gmczXn_fJZOt"
   },
   "outputs": [],
   "source": [
    "import numpy as np\n",
    "from collections import namedtuple\n",
    "from scipy.stats import binom\n",
    "from scipy.stats import norm\n",
    "from scipy.stats import t\n",
    "from scipy.stats import bernoulli\n",
    "\n",
    "\n",
    "SEED = 2023"
   ]
  },
  {
   "cell_type": "markdown",
   "metadata": {
    "id": "nAqhrMCuKjmS"
   },
   "source": [
    "**Также, прежде чем приступить к написанию кода, распишите алгоритм и докажите корректность вашего критерия!**"
   ]
  },
  {
   "cell_type": "markdown",
   "metadata": {
    "id": "uRkyITZZKmNv"
   },
   "source": [
    "Статистика: $\\normalsize \\hat{F_n}(\\mu_0) = \\frac{1}{n} \\sum\\limits_{i=1}^n I(X_i \\leqslant \\mu_0)$  \n",
    "$\\normalsize \\mathbb{E}I(X_i \\leqslant \\mu_0) = 0.5, \\quad \\mathcal{D}I(X_i \\leqslant \\mu_0) = \\mathbb{E}I(X_i \\leqslant \\mu_0) - \\bigl( \\mathbb{E}I(X_i \\leqslant \\mu_0) \\bigr)^2 = 0.5 - 0.25 = 0.25$\n",
    "\n",
    "По ЦПТ: $\\normalsize 2\\sqrt{n} \\bigl( \\hat{F_n}(\\mu_0) - 0.5 \\bigr) \\rightarrow \\mathcal{N}(0, 1)$\n",
    "\n",
    "В случае верности альтернативы $F(\\mu_0) < 0.5$, где $F$ -- ФР $\\xi$\n",
    "\n",
    "Критическое множество: $\\biggl\\{ \\normalsize 2\\sqrt{n} \\left( \\hat{F_n}(\\mu_0) - 0.5 \\right) < z_{\\alpha} \\biggr\\}, \\; \\text{где } z_{\\alpha}$ -- соответствующий квантиль станд. норм. распределения"
   ]
  },
  {
   "cell_type": "markdown",
   "metadata": {
    "id": "R6cCbipbKmiT"
   },
   "source": [
    "Теперь переходите к реализации критерия:"
   ]
  },
  {
   "cell_type": "code",
   "execution_count": 18,
   "metadata": {
    "id": "2SXpwK0WKhjC"
   },
   "outputs": [],
   "source": [
    "#Автопроверка\n",
    "\n",
    "MyMedianTestResults = namedtuple('MyMedianTestResults', \n",
    "                                  ['is_rejected', 'pvalue'])\n",
    "\n",
    "def median_test(sample: list, mu_0: float, alpha: float = 0.05):\n",
    "    \"\"\"\n",
    "    Параметры:\n",
    "    - sample: текущая реализация выборки\n",
    "    - mu_0: медиана выборки при H_0\n",
    "    - alpha: уровень значимости критерия.\n",
    "        \n",
    "    Возвращает:\n",
    "    - MyMedianTestResults с полями:\n",
    "        - is_rejected: bool\n",
    "            - отверглась или нет гипотеза H_0 на уровне значимости alpha\n",
    "        - pvalue: float\n",
    "    \"\"\"\n",
    "\n",
    "    is_rejected = None\n",
    "    pvalue = None\n",
    "\n",
    "    sample_size = len(sample)\n",
    "    ecdf_at_mu0 = sum(elem <= mu_0 for elem in sample) / sample_size\n",
    "    stat = 2 * sample_size**0.5 * (ecdf_at_mu0 - 0.5)\n",
    "    \n",
    "    pvalue = norm.cdf(stat)\n",
    "    is_rejected = pvalue < alpha\n",
    "\n",
    "    return MyMedianTestResults(is_rejected, pvalue)\n"
   ]
  },
  {
   "cell_type": "markdown",
   "metadata": {
    "id": "0S3ADU8xJ6dk"
   },
   "source": [
    "Дополнительно: проверьте корректность вашего критерия) Здесь вы уже можете использовать любые библиотеки, какие вам нужны."
   ]
  },
  {
   "cell_type": "code",
   "execution_count": 19,
   "metadata": {
    "id": "xJoCUnzsJ_C-"
   },
   "outputs": [
    {
     "data": {
      "application/vnd.jupyter.widget-view+json": {
       "model_id": "aa8fe8c1f1e44781a0865147eee85963",
       "version_major": 2,
       "version_minor": 0
      },
      "text/plain": [
       "  0%|          | 0/50000 [00:00<?, ?it/s]"
      ]
     },
     "metadata": {},
     "output_type": "display_data"
    },
    {
     "name": "stdout",
     "output_type": "stream",
     "text": [
      "FPR = 0.05178\n",
      "CI =  {(0.04983777890169221, 0.053722221098307786)}\n"
     ]
    },
    {
     "data": {
      "application/vnd.jupyter.widget-view+json": {
       "model_id": "bbf828d309a5485a87c102cc079781ff",
       "version_major": 2,
       "version_minor": 0
      },
      "text/plain": [
       "  0%|          | 0/50000 [00:00<?, ?it/s]"
      ]
     },
     "metadata": {},
     "output_type": "display_data"
    },
    {
     "name": "stdout",
     "output_type": "stream",
     "text": [
      "FPR = 0.05342\n",
      "CI =  {(0.05144896792012856, 0.05539103207987144)}\n"
     ]
    },
    {
     "data": {
      "application/vnd.jupyter.widget-view+json": {
       "model_id": "d93d80ea2c5f4ee0bfa449c1fbd245c4",
       "version_major": 2,
       "version_minor": 0
      },
      "text/plain": [
       "  0%|          | 0/50000 [00:00<?, ?it/s]"
      ]
     },
     "metadata": {},
     "output_type": "display_data"
    },
    {
     "name": "stdout",
     "output_type": "stream",
     "text": [
      "FPR = 0.05128\n",
      "CI =  {(0.049346669398688994, 0.053213330601311004)}\n"
     ]
    }
   ],
   "source": [
    "import scipy.stats as sps\n",
    "from statsmodels.stats.proportion import proportion_confint\n",
    "from tqdm.notebook import tqdm\n",
    "\n",
    "\n",
    "np.random.seed(SEED)\n",
    "sample_size = 200\n",
    "k_experiments = 50000\n",
    "alpha = 0.05\n",
    "distributions = [sps.norm(5, 2), sps.expon(scale=4), sps.cauchy(loc=-3)]\n",
    "\n",
    "for distr in distributions:\n",
    "    FP = 0\n",
    "    \n",
    "    for _ in tqdm(range(k_experiments)):\n",
    "        sample = distr.rvs(sample_size)\n",
    "        is_rejected, _ = median_test(sample.tolist(), distr.median(), alpha)\n",
    "        FP += is_rejected\n",
    "        \n",
    "    FPR = FP / k_experiments\n",
    "    print('FPR =', FPR)\n",
    "    print('CI = ', {proportion_confint(FP, k_experiments, alpha)})"
   ]
  },
  {
   "cell_type": "markdown",
   "metadata": {},
   "source": [
    "**Вывод:** Критерий правильно реализован"
   ]
  },
  {
   "cell_type": "markdown",
   "metadata": {
    "id": "CD3elLjyJ_hi"
   },
   "source": [
    "## Задача 2 (5 баллов)\n",
    "\n",
    "На занятии мы обсуждали, что критерий Манна-Уитни (или логарифмирование метрики) часто применяют, чтобы не учитывать вклад от выбросов, которые портят результаты. Но мы также узнали, что это не лучший способ убирания выбросов, оба этих варианта легко ведут к неверным результатам.\n",
    "\n",
    "Но это не все методы, как справляются с выбросами в A/B-тесте. Иногда просто наиболее крупных пользователей просто выкидывают из теста. В этой задаче мы посмотрим на 2 таких метода.\n",
    "\n",
    "\n",
    "Для начала, давайте смоделируем искусственную задачу, на которой мы будем проверять критерии.\n",
    "\n",
    "- Представим, что ваша метрика в тесте и в контроле взята из экспоненциального распределения (например - выручка). `scale` - любой.\n",
    "- Пользователй в тесте и в контроле будет по 1000 человек.\n",
    "\n",
    "Далее полученные тестовые и контрольные выборки будут обозначаться как `test`, `control`.\n",
    "\n",
    "----\n",
    "**1 задача:** проверить, что для таких выборок можно использовать t-test."
   ]
  },
  {
   "cell_type": "code",
   "execution_count": 4,
   "metadata": {
    "id": "J26MZGqyKF4T"
   },
   "outputs": [
    {
     "data": {
      "application/vnd.jupyter.widget-view+json": {
       "model_id": "64df2d6dd55d4da5ab1809eed9ff19b7",
       "version_major": 2,
       "version_minor": 0
      },
      "text/plain": [
       "  0%|          | 0/50000 [00:00<?, ?it/s]"
      ]
     },
     "metadata": {},
     "output_type": "display_data"
    },
    {
     "name": "stdout",
     "output_type": "stream",
     "text": [
      "FPR = 0.05122\n",
      "CI =  {(0.04928773967519496, 0.053152260324805044)}\n"
     ]
    }
   ],
   "source": [
    "np.random.seed(SEED)\n",
    "\n",
    "test_size = 1000\n",
    "control_size = 1000\n",
    "k_experiments = 50000\n",
    "fp_count = 0\n",
    "alpha = 0.05\n",
    "scale = 500\n",
    "expon_distr = sps.expon(scale=scale)\n",
    "\n",
    "for _ in tqdm(range(k_experiments)):\n",
    "    control = expon_distr.rvs(control_size)\n",
    "    test = expon_distr.rvs(test_size)\n",
    "    \n",
    "    stat, pval = sps.ttest_ind(control, test, equal_var=True, alternative='less')\n",
    "    fp_count += int(pval < alpha)\n",
    "    \n",
    "fp_rate = fp_count / k_experiments\n",
    "print('FPR =', fp_rate)\n",
    "print('CI = ', {proportion_confint(fp_count, k_experiments, alpha)})"
   ]
  },
  {
   "cell_type": "markdown",
   "metadata": {},
   "source": [
    "**Вывод:** На выборках из распр-ий с тяжёлым хвостом t-test работает корректно"
   ]
  },
  {
   "cell_type": "markdown",
   "metadata": {
    "id": "6Kt4BadKKwQw"
   },
   "source": [
    "Теперь давайте перейдем к предлагаемым способам борьбы с выбросами. Для этого мы предлагаем следующие варианты: \n",
    "\n",
    "### Первый способ\n",
    "\n",
    "Подобрать квантиль для отсечения топ пользователей в тесте и в контроле, причем в каждом случае подобран свой порог. \n",
    "\n",
    "То есть, новый критерий состоит из 2 этапов:    \n",
    "1. Подобрать квантиль для отсечения в тесте и квантиль для отсечения в контроле.\n",
    "    - Например: \n",
    "    ```\n",
    "    outlier_control_filter = np.quantile(control, 0.99)\n",
    "    outlier_test_filter = np.quantile(test, 0.99)\n",
    "    \n",
    "    control = control[control < outlier_control_filter]\n",
    "    test    = test[test < outlier_test_filter]\n",
    "    ```\n",
    "2. Запустить на новых выборках t-test.\n",
    "\n",
    "Проверьте, корректный ли в таком случае будет критерий? Поясните полученный результат.\n"
   ]
  },
  {
   "cell_type": "code",
   "execution_count": 5,
   "metadata": {
    "id": "TNApVdUOKzk1"
   },
   "outputs": [
    {
     "data": {
      "application/vnd.jupyter.widget-view+json": {
       "model_id": "9f14e71892574f71a9fc7c02e4c62826",
       "version_major": 2,
       "version_minor": 0
      },
      "text/plain": [
       "  0%|          | 0/50000 [00:00<?, ?it/s]"
      ]
     },
     "metadata": {},
     "output_type": "display_data"
    },
    {
     "name": "stdout",
     "output_type": "stream",
     "text": [
      "FPR = 0.0631\n",
      "CI =  {(0.0609687991144393, 0.0652312008855607)}\n"
     ]
    }
   ],
   "source": [
    "np.random.seed(SEED)\n",
    "fp_count = 0\n",
    "\n",
    "for _ in tqdm(range(k_experiments)):\n",
    "    control = expon_distr.rvs(control_size)\n",
    "    test = expon_distr.rvs(test_size)\n",
    "    \n",
    "    _, old_pval = sps.ttest_ind(control, test, alternative='less')\n",
    "    \n",
    "    outlier_control_filter = np.quantile(control, 0.99)\n",
    "    outlier_test_filter = np.quantile(test, 0.99)\n",
    "    \n",
    "    control = control[control < outlier_control_filter]\n",
    "    test = test[test < outlier_test_filter]\n",
    "    \n",
    "    stat, pval = sps.ttest_ind(control, test, alternative='less')\n",
    "    fp_count += int(pval < alpha)\n",
    "    \n",
    "fp_rate = fp_count / k_experiments\n",
    "print('FPR =', fp_rate)\n",
    "print('CI = ', {proportion_confint(fp_count, k_experiments, alpha)})"
   ]
  },
  {
   "cell_type": "markdown",
   "metadata": {},
   "source": [
    "**Вывод:** Реализованный критерий некорректен, поскольку неверна следующая импликация\n",
    "\n",
    "$\\normalsize \\xi \\overset{d}{=} \\eta, \\; \\mathbb{E} \\xi = \\mathbb{E} \\eta \\nRightarrow \\mathbb{E} \\xi I \\left( \\xi < C_1 \\right) = \\mathbb{E} \\eta I \\left( \\eta < C_2 \\right)$"
   ]
  },
  {
   "cell_type": "markdown",
   "metadata": {
    "id": "O8gudSEpK5KE"
   },
   "source": [
    "### Второй способ:\n",
    "\n",
    "1. Подобрать одну общую квантиль для отсечения в тесте и в контроле.\n",
    "    - Например: \n",
    "    ```\n",
    "    outlier_filter = np.quantile(np.concatenate([control, test]), 0.99)\n",
    "    \n",
    "    control = control[control < outlier_filter]\n",
    "    test    = test[test < outlier_filter]\n",
    "    ```\n",
    "2. Запустить на новых выборках t-test.\n",
    "\n",
    "#### 1 проверка\n",
    "\n",
    "Проверьте, корректный ли в таком случае будет критерий? Поясните полученный результат.\n"
   ]
  },
  {
   "cell_type": "code",
   "execution_count": 6,
   "metadata": {
    "id": "Cn6RMDcSK7DW"
   },
   "outputs": [
    {
     "data": {
      "application/vnd.jupyter.widget-view+json": {
       "model_id": "0c62d3086b7d4e2cb25297d14f84095a",
       "version_major": 2,
       "version_minor": 0
      },
      "text/plain": [
       "  0%|          | 0/50000 [00:00<?, ?it/s]"
      ]
     },
     "metadata": {},
     "output_type": "display_data"
    },
    {
     "name": "stdout",
     "output_type": "stream",
     "text": [
      "FPR = 0.05098\n",
      "CI =  {(0.04905202815722961, 0.052907971842770386)}\n"
     ]
    }
   ],
   "source": [
    "np.random.seed(SEED)\n",
    "fp_count = 0\n",
    "\n",
    "for _ in tqdm(range(k_experiments)):\n",
    "    control = expon_distr.rvs(control_size)\n",
    "    test = expon_distr.rvs(test_size)\n",
    "    \n",
    "    outlier_filter = np.quantile(np.concatenate([control, test]), 0.99)\n",
    "\n",
    "    control = control[control < outlier_filter]\n",
    "    test = test[test < outlier_filter]\n",
    "    \n",
    "    stat, pval = sps.ttest_ind(control, test, alternative='less')\n",
    "    fp_count += int(pval < alpha)\n",
    "    \n",
    "fp_rate = fp_count / k_experiments\n",
    "print('FPR =', fp_rate)\n",
    "print('CI = ', {proportion_confint(fp_count, k_experiments, alpha)})"
   ]
  },
  {
   "cell_type": "markdown",
   "metadata": {},
   "source": [
    "В этом случае проблем нет, так как пороговое значение одно и то же для обеих выборок, в результате чего вышеупомянутая импликация выполняется."
   ]
  },
  {
   "cell_type": "markdown",
   "metadata": {
    "id": "vCX_cMphK8qi"
   },
   "source": [
    "#### 2 проверка\n",
    "\n",
    "Но и это еще не все. Теперь проверьте ваш критерий на симулированном A/B-тесте c эффектом, равным параметру `scale` в вашем распределении и проверьте гипотезу \n",
    "\n",
    "- $H_0: EA = EB$ + scale\n",
    "- $H_1: EA \\neq EB$ + scale\n",
    "\n",
    "Для этого добавьте к каждому элементу в выборке test параметр scale: \n",
    "```\n",
    "test = test + scale\n",
    "```\n",
    "\n",
    "1. Проверьте, что вы умеете с помощью ttest проверять заданную гипотезу. А точнее посмотрите, попадает ли в 95% процентах случаев в доверительный интервал истинный эффект `scale`?\n",
    "\n",
    "2. Работает ли в таком случае предложенный критерий убирания выбросов?\n",
    "\n",
    "3. Отличаются ли результаты у первой и у второй проверок? \n",
    "4. Сделайте вывод, можно ли использовать этот метод для убирания выбросов с точки зрения:\n",
    "    - Теории.\n",
    "    - Практики. Стали бы вы использовать в работе такой способ убирания выбросов?"
   ]
  },
  {
   "cell_type": "markdown",
   "metadata": {},
   "source": [
    "**t-test**"
   ]
  },
  {
   "cell_type": "code",
   "execution_count": 67,
   "metadata": {
    "id": "-H_uiF9EK-pG"
   },
   "outputs": [
    {
     "data": {
      "application/vnd.jupyter.widget-view+json": {
       "model_id": "cb12b734979748ebab64acffde70b771",
       "version_major": 2,
       "version_minor": 0
      },
      "text/plain": [
       "  0%|          | 0/50000 [00:00<?, ?it/s]"
      ]
     },
     "metadata": {},
     "output_type": "display_data"
    },
    {
     "name": "stdout",
     "output_type": "stream",
     "text": [
      "47542\n",
      "Scale in CI ratio = 0.95084\n",
      "CI =  {(0.9489449409477213, 0.9527350590522787)}\n"
     ]
    }
   ],
   "source": [
    "from statsmodels.stats.api import CompareMeans, DescrStatsW\n",
    "\n",
    "\n",
    "np.random.seed(SEED)\n",
    "scale_in_ci_counter = 0\n",
    "mean_diff = []\n",
    "\n",
    "for _ in tqdm(range(k_experiments)):\n",
    "    control = expon_distr.rvs(control_size)\n",
    "    test = expon_distr.rvs(test_size)\n",
    "    test += scale\n",
    "    \n",
    "    mean_diff.append(test.mean() - control.mean())\n",
    "    \n",
    "    cm = CompareMeans(DescrStatsW(test), DescrStatsW(control))\n",
    "    left_border, right_border = cm.tconfint_diff(alpha)\n",
    "    scale_in_ci_counter += left_border < scale < right_border\n",
    "    \n",
    "print(scale_in_ci_counter)\n",
    "print('Scale in CI ratio =', scale_in_ci_counter / k_experiments)\n",
    "print('CI = ', proportion_confint(scale_in_ci_counter, k_experiments, alpha))"
   ]
  },
  {
   "cell_type": "markdown",
   "metadata": {},
   "source": [
    "В $\\approx95 \\%$ случаев scale попадает в доверительный интервал"
   ]
  },
  {
   "cell_type": "markdown",
   "metadata": {},
   "source": [
    "**t-test without outliers**"
   ]
  },
  {
   "cell_type": "code",
   "execution_count": 68,
   "metadata": {},
   "outputs": [
    {
     "data": {
      "application/vnd.jupyter.widget-view+json": {
       "model_id": "572a86a80fe34c5088b07d91e1599f34",
       "version_major": 2,
       "version_minor": 0
      },
      "text/plain": [
       "  0%|          | 0/50000 [00:00<?, ?it/s]"
      ]
     },
     "metadata": {},
     "output_type": "display_data"
    },
    {
     "name": "stdout",
     "output_type": "stream",
     "text": [
      "Counter = 42980\n",
      "Scale in CI ratio = 0.8596\n",
      "CI =  (0.8565549470693647, 0.8626450529306353)\n"
     ]
    }
   ],
   "source": [
    "from statsmodels.stats.api import CompareMeans, DescrStatsW\n",
    "\n",
    "\n",
    "np.random.seed(SEED)\n",
    "scale_in_ci_counter = 0\n",
    "mean_no_outliers_diff = []\n",
    "\n",
    "for _ in tqdm(range(k_experiments)):\n",
    "    control = expon_distr.rvs(control_size)\n",
    "    test = expon_distr.rvs(test_size)\n",
    "    test += scale\n",
    "    \n",
    "    outlier_filter = np.quantile(np.concatenate([control, test]), 0.99)\n",
    "\n",
    "    control = control[control < outlier_filter]\n",
    "    test = test[test < outlier_filter]\n",
    "    \n",
    "    mean_no_outliers_diff.append(test.mean() - control.mean())\n",
    "    \n",
    "    cm = CompareMeans(DescrStatsW(test), DescrStatsW(control))\n",
    "    left_border, right_border = cm.tconfint_diff(alpha)\n",
    "    \n",
    "    scale_in_ci_counter += left_border < scale < right_border\n",
    "\n",
    "print('Counter =', scale_in_ci_counter)\n",
    "print('Scale in CI ratio =', scale_in_ci_counter / k_experiments)\n",
    "print('CI = ', proportion_confint(scale_in_ci_counter, k_experiments, alpha))\n"
   ]
  },
  {
   "cell_type": "markdown",
   "metadata": {},
   "source": [
    "Для данного критерия scale попадает в ДИ в $< 95 \\%$ случаев.  \n",
    "\n",
    "Связано это с тем, что все отсекаемые значения принадлежат тестовой группе, из-за чего эффект занижается"
   ]
  },
  {
   "cell_type": "markdown",
   "metadata": {},
   "source": [
    "**Распределение статистик**"
   ]
  },
  {
   "cell_type": "code",
   "execution_count": 59,
   "metadata": {},
   "outputs": [
    {
     "data": {
      "image/png": "[encoded data removed]",
      "text/plain": [
       "<Figure size 1008x576 with 1 Axes>"
      ]
     },
     "metadata": {
      "needs_background": "light"
     },
     "output_type": "display_data"
    }
   ],
   "source": [
    "import matplotlib.pyplot as plt\n",
    "\n",
    "\n",
    "plt.figure(figsize=(14, 8))\n",
    "plt.hist(mean_diff, bins=15, alpha=0.75, label='ttest with outliers')\n",
    "plt.hist(mean_no_outliers_diff, bins=15, alpha=0.75, label='ttest without outliers')\n",
    "\n",
    "plt.title(\n",
    "    'Распределение $\\\\overline{T} - \\\\overline{C}$', \n",
    "    fontdict={'fontsize': 24}\n",
    ")\n",
    "plt.grid(True)\n",
    "plt.legend(fontsize=14)\n",
    "plt.show()"
   ]
  },
  {
   "cell_type": "markdown",
   "metadata": {},
   "source": [
    "**Вывод:**  \n",
    "С теоретической точки зрения критерий вполне рабочий, но с практической точки зрения его нежелательно использовать, так как он занижает мощность (в случае малого эффекта) или оценку эффекта (в случае значительного эффекта)"
   ]
  },
  {
   "cell_type": "markdown",
   "metadata": {
    "id": "jrv-xfgBLb4E"
   },
   "source": [
    "# Часть 2"
   ]
  },
  {
   "cell_type": "markdown",
   "metadata": {
    "id": "klpN-iSkLeTj"
   },
   "source": [
    "## Задача 3 (2 балла)\n",
    "\n",
    "### На зачет\n",
    "\n",
    "Пусть нам нужно оценить $\\mu$ — матожидание некой случайной величины, и у нас\n",
    "есть выборка из нее размером 1000. С помощью бутстрапа соберем 1000 бутстрап-выборок, для каждой посчитаем среднее, получим 1000 средних. Это выборка из\n",
    "1000 объектов, к ней можно применить критерий Стьюдента. Применим, построим\n",
    "доверительный интервал для 𝜇.\n",
    "\n",
    "Почему так делать нельзя?"
   ]
  },
  {
   "cell_type": "markdown",
   "metadata": {
    "id": "wvC8tud1LA44"
   },
   "source": [
    "**Ответ:**  \n",
    "Потому что получится оценка матожа эмпирической ФР, построенной по выборке, а не оценка истинного матожа случайной величины.\n",
    "\n",
    "**Пояснение:**  \n",
    "Пусть $\\mu_1^*, \\ldots, \\mu_{1000}^*$ -- средние значения бутстрап выборок. \n",
    "В силу ЦПТ можно считать, что $\\mu_i \\sim \\mathcal{N}(EF_n^*, DF_n^*)$, где $F_n^*$ -- эмпирическое распределение. Но тогда после применения кр-ия Стьюдента, мы получим на выходе ДИ для $EF_n^* \\neq \\mu$"
   ]
  },
  {
   "cell_type": "markdown",
   "metadata": {
    "id": "CpRHZecLLqNl"
   },
   "source": [
    "## Задача 4 (3 балла)\n",
    "\n",
    "\n",
    "Пусть $X_1,\\ \\cdots, X_n$ &mdash; некоторая выборка и $X_1^*,\\ \\cdots, X_n^*$ &mdash; построенная по ней бутстрап-выборка.\n",
    "\n",
    "- С какой вероятностью элемент $X_i$ попадет в бутстрап-выборку?\n",
    "- Посчитайте среднее число уникальных элементов в бутстрап-выборке, если в исходной выборке все элементы различны."
   ]
  },
  {
   "cell_type": "markdown",
   "metadata": {
    "id": "FZh-O_0ANDgz"
   },
   "source": [
    "**Пункт 1:**  \n",
    "\n",
    "$\\normalsize P(X_1 \\text{ попадёт в бутстрап-выборку}) = 1 - P(X_1 \\text{ не попадёт в бутстрап-выборку}) = 1 - \\left( 1 - \\frac{1}{n} \\right)^n \\underset{n \\rightarrow +\\infty}{\\longrightarrow} 1 - e^{-1}$ \n",
    "\n",
    "**Пункт 2:**  \n",
    "Среднее число разл. элементов в бутстрап-выборке равняется $n \\cdot (1 - \\dfrac{1}{e}) \\approx 0.632n$"
   ]
  },
  {
   "cell_type": "markdown",
   "metadata": {
    "id": "xLYkRd5cNEII"
   },
   "source": [
    "## Задача 5 (4 балла)\n",
    "\n",
    "### На зачет\n",
    "\n",
    "Пусть у вас выборка из неизвестного распределения (но все элементы больше 0) и вы хотите проверить гипотезу:\n",
    "$$\n",
    "\\begin{align}\n",
    "&H_0: E \\left[\\dfrac{median(X)}{\\overline{X}} \\right] = \\theta_0\\ vs.\\\\\n",
    "&H_1: E \\left[\\dfrac{median(X)}{\\overline{X}} \\right] \\neq \\theta_0\n",
    "\\end{align}\n",
    "$$\n",
    "* черточка означает среднее по выборке.\n",
    "\n",
    "С помощью бутстрапа постройте критерий уровня значимости $\\alpha$ для проверки этой гипотезы.\n",
    "\n",
    "Для этого вам надо:\n",
    "- Показать, в каких случаях вы отвергаете $H_0$\n",
    "- Как посчитать p-value.\n",
    "\n",
    "Для начала теоретически поясните ваш алгоритм действий."
   ]
  },
  {
   "cell_type": "markdown",
   "metadata": {
    "id": "CX7XhxSpNYdR"
   },
   "source": [
    "$\\normalsize CI_{1-\\alpha} = (\\theta^*_{[\\alpha/2]}, \\theta^*_{[1 - \\alpha/2]})$\n",
    "\n",
    "По определению, если $H_0$ -- верна, то $P(\\theta_0 \\in CI_{1-\\alpha} ) \\geqslant 1 - \\alpha \\Longrightarrow FPR \\leqslant \\alpha$\n",
    "\n",
    "Для вычисления pvalue необходимо знать распределение статистики.  \n",
    "Но поскольку его нет, то мы предполагаем, что эмпирич. распр-ие, построенное по $\\theta_1^*, \\ldots, \\theta_B^*$, близко к истинному распр-ию статистики $\\dfrac{X_{(0.5n)}}{\\overline{X}}$.  \n",
    "В таком случае, pvalue = $\\min \\bigl\\{ \\alpha: \\theta_0 \\in CI_{1-\\alpha} \\bigr\\}$\n",
    "\n",
    "Таким образом, общий алгоритм таков:  \n",
    "1. Сэмплируем B бутстрапных выборок из эмпирического распределения и вычисляем требуемую статистику для каждой выборки  \n",
    "2. Строим процентильный доверительный интервал уровня доверия $1 - \\alpha$  \n",
    "3. Если $\\theta_0 \\in CI_{1-\\alpha}$, то не отвергаем гипотезу, иначе -- отвергаем  \n",
    "4. Вычисляем pvalue по формуле: $\\min \\bigl\\{ \\alpha: \\theta_0 \\in CI_{1-\\alpha} \\bigr\\}$"
   ]
  },
  {
   "cell_type": "markdown",
   "metadata": {
    "id": "5Bu9cofHNbsP"
   },
   "source": [
    "Теперь перйдем к практике:\n",
    "\n",
    "Какими библиотеками вы можете пользоваться:\n",
    "```\n",
    "import numpy as np\n",
    "from collections import namedtuple\n",
    "from scipy.stats.binom\n",
    "from scipy.stats.norm\n",
    "from scipy.stats.t\n",
    "from scipy.stats.bernoulli\n",
    "```"
   ]
  },
  {
   "cell_type": "code",
   "execution_count": 9,
   "metadata": {
    "id": "EwwCG-MBNb7c"
   },
   "outputs": [],
   "source": [
    "import numpy as np\n",
    "from collections import namedtuple\n",
    "from scipy.stats import binom\n",
    "from scipy.stats import norm\n",
    "from scipy.stats import t\n",
    "from scipy.stats import bernoulli"
   ]
  },
  {
   "cell_type": "markdown",
   "metadata": {
    "id": "DpmsxdMLNpDz"
   },
   "source": [
    "**Чтобы код прошел автопроверку, используйте процентильный доверительный интервал!**"
   ]
  },
  {
   "cell_type": "code",
   "execution_count": 10,
   "metadata": {
    "id": "29uBzveyNdiT"
   },
   "outputs": [],
   "source": [
    "#Автопроверка\n",
    "\n",
    "MyStrangeStatResults = namedtuple('MyStrangeStatResults', \n",
    "                                  ['is_rejected', 'pvalue'])\n",
    "\n",
    "\n",
    "def my_quantile(sample: np.ndarray, q: float) -> float:\n",
    "    \"\"\"\n",
    "    Compute the q-th quantile using linear interpolation\n",
    "    See https://numpy.org/doc/stable/reference/generated/numpy.quantile.html\n",
    "    \n",
    "    Parameters:\n",
    "    - sample: sorted array\n",
    "    - q: quantile to compute\n",
    "    \n",
    "    Returns:\n",
    "    - quantile: float\n",
    "    \"\"\"\n",
    "    alpha = 1\n",
    "    beta = 1\n",
    "    n = len(sample)\n",
    "    \n",
    "    if q == 0:\n",
    "        return sample[0]\n",
    "    elif q == 1:\n",
    "        return sample[-1]\n",
    "    \n",
    "    virtual_ind = q * (n - alpha - beta + 1) + alpha - 1\n",
    "    i = int(round(virtual_ind))\n",
    "    r = virtual_ind - i\n",
    "    \n",
    "    return sample[i] + (sample[i+1] - sample[i]) * r\n",
    "\n",
    "\n",
    "def my_inv_quantile(sample: np.ndarray, num: float) -> float:\n",
    "    \"\"\"\n",
    "    Returns quantile q, such that my_quantile(sample, q) = num\n",
    "    \n",
    "    1. Find i, such that a[i] <= num < a[i + 1]\n",
    "    2. Find r by solving an equation:\n",
    "        a[i] + r * (a[i + 1] - a[i]) = num\n",
    "        r = (num - a[i]) / (a[i + 1] - a[i])\n",
    "    3. Find q by solving an equation:\n",
    "        i + r = q * (n - 1)\n",
    "        q = (i + r) / (n - 1)\n",
    "    \"\"\"\n",
    "    if num < sample[0]:\n",
    "        return 0.0\n",
    "    elif num >= sample[-1]:\n",
    "        return 1.0\n",
    "    \n",
    "    n = len(sample)\n",
    "    i = sum(num >= elem for elem in sample) - 1\n",
    "    r = (num - sample[i]) / (sample[i+1] - sample[i])\n",
    "    \n",
    "    return (i + r) / (n - 1)\n",
    "\n",
    "\n",
    "def bootstrap_strange_stat_checker(sample: list, mu_0: float, alpha: float = 0.05):\n",
    "    \"\"\"\n",
    "    Параметры:\n",
    "    - sample: текущая реализация выборки\n",
    "    - mu_0: значение странной синусной статистики при H_0\n",
    "    - alpha: уровень значимости критерия.\n",
    "        \n",
    "    Возвращает:\n",
    "    - MyStrangeStatResults с полями:\n",
    "        - is_rejected: bool\n",
    "            - отверглась или нет гипотеза H_0 на уровне значимости alpha\n",
    "        - pvalue: float\n",
    "    \"\"\"\n",
    "    boot_samples_size = 1000\n",
    "    is_rejected = None\n",
    "    pvalue = None\n",
    "    bs_total_size = boot_samples_size * len(sample)\n",
    "    \n",
    "    sample = np.array(sample)\n",
    "    bs_elem_indices = np.random.randint(0, len(sample), bs_total_size)\n",
    "    big_bs_sample = sample[bs_elem_indices]\n",
    "    \n",
    "    bs_samples = big_bs_sample.reshape(boot_samples_size, len(sample))\n",
    "    bs_stats = np.median(bs_samples, axis=1) / np.mean(bs_samples, axis=1)\n",
    "    bs_stats = sorted(bs_stats)\n",
    "    \n",
    "    left_border = my_quantile(bs_stats, alpha/2)\n",
    "    right_border = my_quantile(bs_stats, 1-alpha/2)\n",
    "    is_rejected = not (left_border < mu_0 < right_border)\n",
    "    \n",
    "    inv_quantile = my_inv_quantile(bs_stats, mu_0)\n",
    "    pvalue = 2 * min(inv_quantile, 1 - inv_quantile)\n",
    "\n",
    "    return MyStrangeStatResults(is_rejected, pvalue)"
   ]
  },
  {
   "cell_type": "markdown",
   "metadata": {
    "id": "_D_o0zihN3PL"
   },
   "source": [
    "Теперь проверим на время ваш код"
   ]
  },
  {
   "cell_type": "code",
   "execution_count": 11,
   "metadata": {
    "id": "UvuP0iMdN3gr"
   },
   "outputs": [],
   "source": [
    "import scipy.stats as sps\n",
    "from tqdm.notebook import tqdm"
   ]
  },
  {
   "cell_type": "code",
   "execution_count": 12,
   "metadata": {
    "id": "6gDmjN0zN5P0"
   },
   "outputs": [
    {
     "data": {
      "application/vnd.jupyter.widget-view+json": {
       "model_id": "fa1806ce73fe469dace33b47838b4fbd",
       "version_major": 2,
       "version_minor": 0
      },
      "text/plain": [
       "  0%|          | 0/1000 [00:00<?, ?it/s]"
      ]
     },
     "metadata": {},
     "output_type": "display_data"
    }
   ],
   "source": [
    "# Этот код на сервере академии должен выполняться не более 2 минут,\n",
    "# иначе он не пройдет проверку по времени\n",
    "for i in tqdm(range(1000)):\n",
    "    sample = sps.expon(loc=1, scale=1000).rvs(1000)\n",
    "    bootstrap_strange_stat_checker(sample, mu_0=10, alpha=0.05)"
   ]
  },
  {
   "cell_type": "markdown",
   "metadata": {},
   "source": [
    "Тестируем критерий с помощью Монте-Карло"
   ]
  },
  {
   "cell_type": "code",
   "execution_count": 13,
   "metadata": {},
   "outputs": [
    {
     "name": "stdout",
     "output_type": "stream",
     "text": [
      "mu_0 = 1.0\n"
     ]
    },
    {
     "data": {
      "application/vnd.jupyter.widget-view+json": {
       "model_id": "be443f934c5749858bda1f73de492a87",
       "version_major": 2,
       "version_minor": 0
      },
      "text/plain": [
       "  0%|          | 0/5000 [00:00<?, ?it/s]"
      ]
     },
     "metadata": {},
     "output_type": "display_data"
    },
    {
     "name": "stdout",
     "output_type": "stream",
     "text": [
      "FPR = 0.0252\n",
      "CI =  {(0.02085568688347632, 0.02954431311652368)}\n",
      "mu_0 = 0.6931471805599453\n"
     ]
    },
    {
     "data": {
      "application/vnd.jupyter.widget-view+json": {
       "model_id": "3213ebe1607d4f3ebe09fa2bf3aa5b1f",
       "version_major": 2,
       "version_minor": 0
      },
      "text/plain": [
       "  0%|          | 0/5000 [00:00<?, ?it/s]"
      ]
     },
     "metadata": {},
     "output_type": "display_data"
    },
    {
     "name": "stdout",
     "output_type": "stream",
     "text": [
      "Error\n",
      "FPR = 0.0338\n",
      "CI =  {(0.028790954743180136, 0.03880904525681986)}\n",
      "mu_0 = 0.8391734950083306\n"
     ]
    },
    {
     "data": {
      "application/vnd.jupyter.widget-view+json": {
       "model_id": "8579b748ac184ee5a3f0df8b6d1d7bdc",
       "version_major": 2,
       "version_minor": 0
      },
      "text/plain": [
       "  0%|          | 0/5000 [00:00<?, ?it/s]"
      ]
     },
     "metadata": {},
     "output_type": "display_data"
    },
    {
     "name": "stdout",
     "output_type": "stream",
     "text": [
      "FPR = 0.0294\n",
      "CI =  {(0.024717725211349677, 0.03408227478865032)}\n"
     ]
    }
   ],
   "source": [
    "from statsmodels.stats.proportion import proportion_confint\n",
    "\n",
    "\n",
    "np.random.seed(SEED)\n",
    "sample_size = 200\n",
    "k_experiments = 5000\n",
    "alpha = 0.05\n",
    "distributions = [sps.norm(5, 2), sps.expon(scale=4), sps.gamma(a=2, scale=4)]\n",
    "\n",
    "for distr in distributions:\n",
    "    FP = 0\n",
    "    mu_0 = distr.median() / distr.mean()\n",
    "    \n",
    "    print(f'{mu_0 = }')\n",
    "    \n",
    "    for _ in tqdm(range(k_experiments)):\n",
    "        sample = distr.rvs(sample_size)\n",
    "        is_rejected, pvalue = bootstrap_strange_stat_checker(sample.tolist(), mu_0, alpha)\n",
    "        FP += is_rejected\n",
    "        \n",
    "        if (pvalue < alpha) != is_rejected:\n",
    "            print('Error')\n",
    "        \n",
    "    FPR = FP / k_experiments\n",
    "    print('FPR =', FPR)\n",
    "    print('CI = ', proportion_confint(FP, k_experiments, alpha))"
   ]
  },
  {
   "cell_type": "markdown",
   "metadata": {
    "id": "lBrR5UDvN7DN"
   },
   "source": [
    "## Задача 6 (2 балла)\n",
    "\n",
    "Эту задачу стоит решать только после второй задачи из домашки.\n",
    "\n",
    "Пусть мы подозреваем, что в AB-тесте в тестовой группе увеличилась дисперсия по сравнению с контрольной группой. Сформулировать это предположение на языке статистики и\n",
    "реализовать его проверку с помощью бутстрапа.\n",
    "\n",
    "**Ваши теоретические выкладки**\n"
   ]
  },
  {
   "cell_type": "markdown",
   "metadata": {
    "id": "YC-aMUfNN_71"
   },
   "source": [
    "Пусть $T$ -- случайная величина, из которой просэмплирована тестовая выборка, $C$ -- случайная величина, из которой просэмплирована контрольная выборка.\n",
    "\n",
    "$\\normalsize H_0: \\mathbb{E} \\bigl[ S_T^2 - S_C^2 \\bigr] = 0$\n",
    "\n",
    "$\\normalsize H_1: \\mathbb{E} \\bigl[ S_T^2 - S_C^2 \\bigr] > 0$\n",
    "\n",
    "Алгоритм вкратце:  \n",
    "1. Строим ДИ уровня доверия $1 - \\alpha$ для статистики $S_T^2 - S_C^2$ с помощью бутстрапа  \n",
    "2. Если $0 \\in CI_{1-\\alpha}$, то $H_0$ не отвергается, иначе отвергается  \n",
    "3. Как и в предыдущей задаче, pvalue = $\\min \\bigl\\{ \\alpha: 0 \\in CI_{1-\\alpha} \\bigr\\}$"
   ]
  },
  {
   "cell_type": "markdown",
   "metadata": {
    "id": "j5Hz-FkHODEw"
   },
   "source": [
    "Теперь перйдем к практике:\n",
    "\n",
    "Какими библиотеками вы можете пользоваться:\n",
    "```\n",
    "import numpy as np\n",
    "from collections import namedtuple\n",
    "from scipy.stats.binom\n",
    "from scipy.stats.norm\n",
    "from scipy.stats.t\n",
    "from scipy.stats.bernoulli\n",
    "```"
   ]
  },
  {
   "cell_type": "code",
   "execution_count": 2,
   "metadata": {
    "id": "iwYnOxcsODSS"
   },
   "outputs": [],
   "source": [
    "import numpy as np\n",
    "from collections import namedtuple\n",
    "from scipy.stats import binom\n",
    "from scipy.stats import norm\n",
    "from scipy.stats import t\n",
    "from scipy.stats import bernoulli"
   ]
  },
  {
   "cell_type": "code",
   "execution_count": 23,
   "metadata": {
    "id": "wExgylYkOFJE"
   },
   "outputs": [],
   "source": [
    "#Автопроверка\n",
    "\n",
    "CompareVarianceResults = namedtuple('CompareVarianceResults', \n",
    "                                  ['is_rejected', 'pvalue'])\n",
    "\n",
    "\n",
    "def my_quantile(sample: np.ndarray, q: float) -> float:\n",
    "    \"\"\"\n",
    "    Compute the q-th quantile using linear interpolation\n",
    "    See https://numpy.org/doc/stable/reference/generated/numpy.quantile.html\n",
    "    \n",
    "    Parameters:\n",
    "    - sample: sorted array\n",
    "    - q: quantile to compute\n",
    "    \n",
    "    Returns:\n",
    "    - quantile: float\n",
    "    \"\"\"\n",
    "    alpha = 1\n",
    "    beta = 1\n",
    "    n = len(sample)\n",
    "    \n",
    "    if q == 0:\n",
    "        return sample[0]\n",
    "    elif q == 1:\n",
    "        return sample[-1]\n",
    "    \n",
    "    virtual_ind = q * (n - alpha - beta + 1) + alpha - 1\n",
    "    i = int(round(virtual_ind))\n",
    "    r = virtual_ind - i\n",
    "    \n",
    "    return sample[i] + (sample[i+1] - sample[i]) * r\n",
    "\n",
    "\n",
    "def my_inv_quantile(sample: np.ndarray, num: float) -> float:\n",
    "    \"\"\"\n",
    "    Returns quantile q, such that my_quantile(sample, q) = num\n",
    "    \n",
    "    1. Find i, such that a[i] <= num < a[i + 1]\n",
    "    2. Find r by solving an equation:\n",
    "        a[i] + r * (a[i + 1] - a[i]) = num\n",
    "        r = (num - a[i]) / (a[i + 1] - a[i])\n",
    "    3. Find q by solving an equation:\n",
    "        i + r = q * (n - 1)\n",
    "        q = (i + r) / (n - 1)\n",
    "    \"\"\"\n",
    "    if num < sample[0]:\n",
    "        return 0.0\n",
    "    elif num >= sample[-1]:\n",
    "        return 1.0\n",
    "    \n",
    "    n = len(sample)\n",
    "    i = sum(num >= elem for elem in sample) - 1\n",
    "    r = (num - sample[i]) / (sample[i+1] - sample[i])\n",
    "    \n",
    "    return (i + r) / (n - 1)\n",
    "\n",
    "\n",
    "def variance_ab_checker(control: list, test: list, alpha: float = 0.05):\n",
    "    \"\"\"\n",
    "    Параметры:\n",
    "    - control: контрольная группа\n",
    "    - test: тестовая группа\n",
    "    - alpha: уровень значимости критерия.\n",
    "        \n",
    "    Возвращает:\n",
    "    - CompareVarianceResults с полями:\n",
    "        - is_rejected: bool\n",
    "            - отверглась или нет гипотеза H_0 на уровне значимости alpha\n",
    "        - pvalue: float\n",
    "    \"\"\"\n",
    "    boot_samples_size = 1000\n",
    "    is_rejected = None\n",
    "    pvalue = None\n",
    "    left_bound = None\n",
    "    right_bound = None\n",
    "    \n",
    "    control = np.array(control)\n",
    "    bs_control_total = boot_samples_size * len(control)\n",
    "    \n",
    "    test = np.array(test)\n",
    "    bs_test_total = boot_samples_size * len(test)\n",
    "    \n",
    "    control_bs_indices = np.random.randint(0, len(control), bs_control_total)\n",
    "    control_bs_samples = control[control_bs_indices].reshape(-1, len(control))\n",
    "    \n",
    "    test_bs_indices = np.random.randint(0, len(test), bs_test_total)\n",
    "    test_bs_samples = test[test_bs_indices].reshape(-1, len(test))\n",
    "    \n",
    "    control_rss = np.sum(np.square(control_bs_samples - control.mean()), axis=1)\n",
    "    test_rss = np.sum(np.square(test_bs_samples - test.mean()), axis=1)\n",
    "    bs_stats = test_rss / len(test) - control_rss / len(control)\n",
    "    bs_stats = sorted(bs_stats)\n",
    "    \n",
    "    left_bound = my_quantile(bs_stats, alpha/2)\n",
    "    right_bound = my_quantile(bs_stats, 1-alpha/2)\n",
    "    is_rejected = not (left_bound < 0 < right_bound)\n",
    "    \n",
    "    inv_quantile = my_inv_quantile(bs_stats, 0)\n",
    "    pvalue = 2 * min(inv_quantile, 1 - inv_quantile)\n",
    "    \n",
    "    return CompareVarianceResults(is_rejected, pvalue)"
   ]
  },
  {
   "cell_type": "code",
   "execution_count": 20,
   "metadata": {
    "id": "dp7apAUoONCL"
   },
   "outputs": [],
   "source": [
    "import scipy.stats as sps\n",
    "from tqdm.notebook import tqdm"
   ]
  },
  {
   "cell_type": "code",
   "execution_count": 5,
   "metadata": {
    "id": "LPviyX2vONa5"
   },
   "outputs": [
    {
     "data": {
      "application/vnd.jupyter.widget-view+json": {
       "model_id": "e9b82d1c75484d708677c66a5bb9325b",
       "version_major": 2,
       "version_minor": 0
      },
      "text/plain": [
       "  0%|          | 0/1000 [00:00<?, ?it/s]"
      ]
     },
     "metadata": {},
     "output_type": "display_data"
    }
   ],
   "source": [
    "# Этот код на сервере академии должен выполняться не более 10 минут,\n",
    "# иначе он не пройдет проверку по времени\n",
    "for i in tqdm(range(1000)):\n",
    "    test = sps.expon(loc=1, scale=1000).rvs(1000)\n",
    "    control = sps.expon(loc=1, scale=1000).rvs(1000)\n",
    "    variance_ab_checker(test, control, alpha=0.05)"
   ]
  },
  {
   "cell_type": "markdown",
   "metadata": {},
   "source": [
    "Тестируем критерий с помощью Монте-Карло"
   ]
  },
  {
   "cell_type": "code",
   "execution_count": 21,
   "metadata": {},
   "outputs": [
    {
     "data": {
      "application/vnd.jupyter.widget-view+json": {
       "model_id": "06b729779a5841319bb4b8cfad24241b",
       "version_major": 2,
       "version_minor": 0
      },
      "text/plain": [
       "  0%|          | 0/5000 [00:00<?, ?it/s]"
      ]
     },
     "metadata": {},
     "output_type": "display_data"
    },
    {
     "name": "stdout",
     "output_type": "stream",
     "text": [
      "Error\n",
      "FPR = 0.0588\n",
      "CI =  (0.05227932265371466, 0.06532067734628534)\n"
     ]
    },
    {
     "data": {
      "application/vnd.jupyter.widget-view+json": {
       "model_id": "7175ba6221864af59fb3728905e197d2",
       "version_major": 2,
       "version_minor": 0
      },
      "text/plain": [
       "  0%|          | 0/5000 [00:00<?, ?it/s]"
      ]
     },
     "metadata": {},
     "output_type": "display_data"
    },
    {
     "name": "stdout",
     "output_type": "stream",
     "text": [
      "Error\n",
      "FPR = 0.0842\n",
      "CI =  (0.07650303601945677, 0.09189696398054323)\n"
     ]
    },
    {
     "data": {
      "application/vnd.jupyter.widget-view+json": {
       "model_id": "12492eef674a4c2893fbbb930240efa4",
       "version_major": 2,
       "version_minor": 0
      },
      "text/plain": [
       "  0%|          | 0/5000 [00:00<?, ?it/s]"
      ]
     },
     "metadata": {},
     "output_type": "display_data"
    },
    {
     "ename": "KeyboardInterrupt",
     "evalue": "",
     "output_type": "error",
     "traceback": [
      "\u001b[0;31m---------------------------------------------------------------------------\u001b[0m",
      "\u001b[0;31mKeyboardInterrupt\u001b[0m                         Traceback (most recent call last)",
      "\u001b[0;32m/tmp/ipykernel_79630/871430634.py\u001b[0m in \u001b[0;36m<module>\u001b[0;34m\u001b[0m\n\u001b[1;32m     16\u001b[0m     \u001b[0mFP\u001b[0m \u001b[0;34m=\u001b[0m \u001b[0;36m0\u001b[0m\u001b[0;34m\u001b[0m\u001b[0;34m\u001b[0m\u001b[0m\n\u001b[1;32m     17\u001b[0m \u001b[0;34m\u001b[0m\u001b[0m\n\u001b[0;32m---> 18\u001b[0;31m     \u001b[0;32mfor\u001b[0m \u001b[0m_\u001b[0m \u001b[0;32min\u001b[0m \u001b[0mtqdm\u001b[0m\u001b[0;34m(\u001b[0m\u001b[0mrange\u001b[0m\u001b[0;34m(\u001b[0m\u001b[0mk_experiments\u001b[0m\u001b[0;34m)\u001b[0m\u001b[0;34m)\u001b[0m\u001b[0;34m:\u001b[0m\u001b[0;34m\u001b[0m\u001b[0;34m\u001b[0m\u001b[0m\n\u001b[0m\u001b[1;32m     19\u001b[0m         \u001b[0mtest\u001b[0m \u001b[0;34m=\u001b[0m \u001b[0mdistr_test\u001b[0m\u001b[0;34m.\u001b[0m\u001b[0mrvs\u001b[0m\u001b[0;34m(\u001b[0m\u001b[0mtest_size\u001b[0m\u001b[0;34m)\u001b[0m\u001b[0;34m\u001b[0m\u001b[0;34m\u001b[0m\u001b[0m\n\u001b[1;32m     20\u001b[0m         \u001b[0mcontrol\u001b[0m \u001b[0;34m=\u001b[0m \u001b[0mdistr_control\u001b[0m\u001b[0;34m.\u001b[0m\u001b[0mrvs\u001b[0m\u001b[0;34m(\u001b[0m\u001b[0mcontrol_size\u001b[0m\u001b[0;34m)\u001b[0m\u001b[0;34m\u001b[0m\u001b[0;34m\u001b[0m\u001b[0m\n",
      "\u001b[0;32m~/anaconda3/envs/python/lib/python3.9/site-packages/tqdm/notebook.py\u001b[0m in \u001b[0;36m__iter__\u001b[0;34m(self)\u001b[0m\n\u001b[1;32m    255\u001b[0m     \u001b[0;32mdef\u001b[0m \u001b[0m__iter__\u001b[0m\u001b[0;34m(\u001b[0m\u001b[0mself\u001b[0m\u001b[0;34m)\u001b[0m\u001b[0;34m:\u001b[0m\u001b[0;34m\u001b[0m\u001b[0;34m\u001b[0m\u001b[0m\n\u001b[1;32m    256\u001b[0m         \u001b[0;32mtry\u001b[0m\u001b[0;34m:\u001b[0m\u001b[0;34m\u001b[0m\u001b[0;34m\u001b[0m\u001b[0m\n\u001b[0;32m--> 257\u001b[0;31m             \u001b[0;32mfor\u001b[0m \u001b[0mobj\u001b[0m \u001b[0;32min\u001b[0m \u001b[0msuper\u001b[0m\u001b[0;34m(\u001b[0m\u001b[0mtqdm_notebook\u001b[0m\u001b[0;34m,\u001b[0m \u001b[0mself\u001b[0m\u001b[0;34m)\u001b[0m\u001b[0;34m.\u001b[0m\u001b[0m__iter__\u001b[0m\u001b[0;34m(\u001b[0m\u001b[0;34m)\u001b[0m\u001b[0;34m:\u001b[0m\u001b[0;34m\u001b[0m\u001b[0;34m\u001b[0m\u001b[0m\n\u001b[0m\u001b[1;32m    258\u001b[0m                 \u001b[0;31m# return super(tqdm...) will not catch exception\u001b[0m\u001b[0;34m\u001b[0m\u001b[0;34m\u001b[0m\u001b[0m\n\u001b[1;32m    259\u001b[0m                 \u001b[0;32myield\u001b[0m \u001b[0mobj\u001b[0m\u001b[0;34m\u001b[0m\u001b[0;34m\u001b[0m\u001b[0m\n",
      "\u001b[0;32m~/anaconda3/envs/python/lib/python3.9/site-packages/tqdm/std.py\u001b[0m in \u001b[0;36m__iter__\u001b[0;34m(self)\u001b[0m\n\u001b[1;32m   1188\u001b[0m                     \u001b[0mdt\u001b[0m \u001b[0;34m=\u001b[0m \u001b[0mcur_t\u001b[0m \u001b[0;34m-\u001b[0m \u001b[0mlast_print_t\u001b[0m\u001b[0;34m\u001b[0m\u001b[0;34m\u001b[0m\u001b[0m\n\u001b[1;32m   1189\u001b[0m                     \u001b[0;32mif\u001b[0m \u001b[0mdt\u001b[0m \u001b[0;34m>=\u001b[0m \u001b[0mmininterval\u001b[0m \u001b[0;32mand\u001b[0m \u001b[0mcur_t\u001b[0m \u001b[0;34m>=\u001b[0m \u001b[0mmin_start_t\u001b[0m\u001b[0;34m:\u001b[0m\u001b[0;34m\u001b[0m\u001b[0;34m\u001b[0m\u001b[0m\n\u001b[0;32m-> 1190\u001b[0;31m                         \u001b[0mself\u001b[0m\u001b[0;34m.\u001b[0m\u001b[0mupdate\u001b[0m\u001b[0;34m(\u001b[0m\u001b[0mn\u001b[0m \u001b[0;34m-\u001b[0m \u001b[0mlast_print_n\u001b[0m\u001b[0;34m)\u001b[0m\u001b[0;34m\u001b[0m\u001b[0;34m\u001b[0m\u001b[0m\n\u001b[0m\u001b[1;32m   1191\u001b[0m                         \u001b[0mlast_print_n\u001b[0m \u001b[0;34m=\u001b[0m \u001b[0mself\u001b[0m\u001b[0;34m.\u001b[0m\u001b[0mlast_print_n\u001b[0m\u001b[0;34m\u001b[0m\u001b[0;34m\u001b[0m\u001b[0m\n\u001b[1;32m   1192\u001b[0m                         \u001b[0mlast_print_t\u001b[0m \u001b[0;34m=\u001b[0m \u001b[0mself\u001b[0m\u001b[0;34m.\u001b[0m\u001b[0mlast_print_t\u001b[0m\u001b[0;34m\u001b[0m\u001b[0;34m\u001b[0m\u001b[0m\n",
      "\u001b[0;32m~/anaconda3/envs/python/lib/python3.9/site-packages/tqdm/notebook.py\u001b[0m in \u001b[0;36mupdate\u001b[0;34m(self, n)\u001b[0m\n\u001b[1;32m    267\u001b[0m     \u001b[0;32mdef\u001b[0m \u001b[0mupdate\u001b[0m\u001b[0;34m(\u001b[0m\u001b[0mself\u001b[0m\u001b[0;34m,\u001b[0m \u001b[0mn\u001b[0m\u001b[0;34m=\u001b[0m\u001b[0;36m1\u001b[0m\u001b[0;34m)\u001b[0m\u001b[0;34m:\u001b[0m\u001b[0;34m\u001b[0m\u001b[0;34m\u001b[0m\u001b[0m\n\u001b[1;32m    268\u001b[0m         \u001b[0;32mtry\u001b[0m\u001b[0;34m:\u001b[0m\u001b[0;34m\u001b[0m\u001b[0;34m\u001b[0m\u001b[0m\n\u001b[0;32m--> 269\u001b[0;31m             \u001b[0;32mreturn\u001b[0m \u001b[0msuper\u001b[0m\u001b[0;34m(\u001b[0m\u001b[0mtqdm_notebook\u001b[0m\u001b[0;34m,\u001b[0m \u001b[0mself\u001b[0m\u001b[0;34m)\u001b[0m\u001b[0;34m.\u001b[0m\u001b[0mupdate\u001b[0m\u001b[0;34m(\u001b[0m\u001b[0mn\u001b[0m\u001b[0;34m=\u001b[0m\u001b[0mn\u001b[0m\u001b[0;34m)\u001b[0m\u001b[0;34m\u001b[0m\u001b[0;34m\u001b[0m\u001b[0m\n\u001b[0m\u001b[1;32m    270\u001b[0m         \u001b[0;31m# NB: except ... [ as ...] breaks IPython async KeyboardInterrupt\u001b[0m\u001b[0;34m\u001b[0m\u001b[0;34m\u001b[0m\u001b[0m\n\u001b[1;32m    271\u001b[0m         \u001b[0;32mexcept\u001b[0m\u001b[0;34m:\u001b[0m  \u001b[0;31m# NOQA\u001b[0m\u001b[0;34m\u001b[0m\u001b[0;34m\u001b[0m\u001b[0m\n",
      "\u001b[0;32m~/anaconda3/envs/python/lib/python3.9/site-packages/tqdm/std.py\u001b[0m in \u001b[0;36mupdate\u001b[0;34m(self, n)\u001b[0m\n\u001b[1;32m   1239\u001b[0m                     \u001b[0mself\u001b[0m\u001b[0;34m.\u001b[0m\u001b[0m_ema_dn\u001b[0m\u001b[0;34m(\u001b[0m\u001b[0mdn\u001b[0m\u001b[0;34m)\u001b[0m\u001b[0;34m\u001b[0m\u001b[0;34m\u001b[0m\u001b[0m\n\u001b[1;32m   1240\u001b[0m                     \u001b[0mself\u001b[0m\u001b[0;34m.\u001b[0m\u001b[0m_ema_dt\u001b[0m\u001b[0;34m(\u001b[0m\u001b[0mdt\u001b[0m\u001b[0;34m)\u001b[0m\u001b[0;34m\u001b[0m\u001b[0;34m\u001b[0m\u001b[0m\n\u001b[0;32m-> 1241\u001b[0;31m                 \u001b[0mself\u001b[0m\u001b[0;34m.\u001b[0m\u001b[0mrefresh\u001b[0m\u001b[0;34m(\u001b[0m\u001b[0mlock_args\u001b[0m\u001b[0;34m=\u001b[0m\u001b[0mself\u001b[0m\u001b[0;34m.\u001b[0m\u001b[0mlock_args\u001b[0m\u001b[0;34m)\u001b[0m\u001b[0;34m\u001b[0m\u001b[0;34m\u001b[0m\u001b[0m\n\u001b[0m\u001b[1;32m   1242\u001b[0m                 \u001b[0;32mif\u001b[0m \u001b[0mself\u001b[0m\u001b[0;34m.\u001b[0m\u001b[0mdynamic_miniters\u001b[0m\u001b[0;34m:\u001b[0m\u001b[0;34m\u001b[0m\u001b[0;34m\u001b[0m\u001b[0m\n\u001b[1;32m   1243\u001b[0m                     \u001b[0;31m# If no `miniters` was specified, adjust automatically to the\u001b[0m\u001b[0;34m\u001b[0m\u001b[0;34m\u001b[0m\u001b[0m\n",
      "\u001b[0;32m~/anaconda3/envs/python/lib/python3.9/site-packages/tqdm/std.py\u001b[0m in \u001b[0;36mrefresh\u001b[0;34m(self, nolock, lock_args)\u001b[0m\n\u001b[1;32m   1344\u001b[0m             \u001b[0;32melse\u001b[0m\u001b[0;34m:\u001b[0m\u001b[0;34m\u001b[0m\u001b[0;34m\u001b[0m\u001b[0m\n\u001b[1;32m   1345\u001b[0m                 \u001b[0mself\u001b[0m\u001b[0;34m.\u001b[0m\u001b[0m_lock\u001b[0m\u001b[0;34m.\u001b[0m\u001b[0macquire\u001b[0m\u001b[0;34m(\u001b[0m\u001b[0;34m)\u001b[0m\u001b[0;34m\u001b[0m\u001b[0;34m\u001b[0m\u001b[0m\n\u001b[0;32m-> 1346\u001b[0;31m         \u001b[0mself\u001b[0m\u001b[0;34m.\u001b[0m\u001b[0mdisplay\u001b[0m\u001b[0;34m(\u001b[0m\u001b[0;34m)\u001b[0m\u001b[0;34m\u001b[0m\u001b[0;34m\u001b[0m\u001b[0m\n\u001b[0m\u001b[1;32m   1347\u001b[0m         \u001b[0;32mif\u001b[0m \u001b[0;32mnot\u001b[0m \u001b[0mnolock\u001b[0m\u001b[0;34m:\u001b[0m\u001b[0;34m\u001b[0m\u001b[0;34m\u001b[0m\u001b[0m\n\u001b[1;32m   1348\u001b[0m             \u001b[0mself\u001b[0m\u001b[0;34m.\u001b[0m\u001b[0m_lock\u001b[0m\u001b[0;34m.\u001b[0m\u001b[0mrelease\u001b[0m\u001b[0;34m(\u001b[0m\u001b[0;34m)\u001b[0m\u001b[0;34m\u001b[0m\u001b[0;34m\u001b[0m\u001b[0m\n",
      "\u001b[0;32m~/anaconda3/envs/python/lib/python3.9/site-packages/tqdm/notebook.py\u001b[0m in \u001b[0;36mdisplay\u001b[0;34m(self, msg, pos, close, bar_style, check_delay)\u001b[0m\n\u001b[1;32m    178\u001b[0m             \u001b[0;31m# never clear the bar (signal: msg='')\u001b[0m\u001b[0;34m\u001b[0m\u001b[0;34m\u001b[0m\u001b[0m\n\u001b[1;32m    179\u001b[0m             \u001b[0;32mif\u001b[0m \u001b[0mright\u001b[0m\u001b[0;34m:\u001b[0m\u001b[0;34m\u001b[0m\u001b[0;34m\u001b[0m\u001b[0m\n\u001b[0;32m--> 180\u001b[0;31m                 \u001b[0mrtext\u001b[0m\u001b[0;34m.\u001b[0m\u001b[0mvalue\u001b[0m \u001b[0;34m=\u001b[0m \u001b[0mright\u001b[0m\u001b[0;34m\u001b[0m\u001b[0;34m\u001b[0m\u001b[0m\n\u001b[0m\u001b[1;32m    181\u001b[0m \u001b[0;34m\u001b[0m\u001b[0m\n\u001b[1;32m    182\u001b[0m         \u001b[0;31m# Change bar style\u001b[0m\u001b[0;34m\u001b[0m\u001b[0;34m\u001b[0m\u001b[0m\n",
      "\u001b[0;32m~/anaconda3/envs/python/lib/python3.9/site-packages/traitlets/traitlets.py\u001b[0m in \u001b[0;36m__set__\u001b[0;34m(self, obj, value)\u001b[0m\n\u001b[1;32m    604\u001b[0m             \u001b[0;32mraise\u001b[0m \u001b[0mTraitError\u001b[0m\u001b[0;34m(\u001b[0m\u001b[0;34m'The \"%s\" trait is read-only.'\u001b[0m \u001b[0;34m%\u001b[0m \u001b[0mself\u001b[0m\u001b[0;34m.\u001b[0m\u001b[0mname\u001b[0m\u001b[0;34m)\u001b[0m\u001b[0;34m\u001b[0m\u001b[0;34m\u001b[0m\u001b[0m\n\u001b[1;32m    605\u001b[0m         \u001b[0;32melse\u001b[0m\u001b[0;34m:\u001b[0m\u001b[0;34m\u001b[0m\u001b[0;34m\u001b[0m\u001b[0m\n\u001b[0;32m--> 606\u001b[0;31m             \u001b[0mself\u001b[0m\u001b[0;34m.\u001b[0m\u001b[0mset\u001b[0m\u001b[0;34m(\u001b[0m\u001b[0mobj\u001b[0m\u001b[0;34m,\u001b[0m \u001b[0mvalue\u001b[0m\u001b[0;34m)\u001b[0m\u001b[0;34m\u001b[0m\u001b[0;34m\u001b[0m\u001b[0m\n\u001b[0m\u001b[1;32m    607\u001b[0m \u001b[0;34m\u001b[0m\u001b[0m\n\u001b[1;32m    608\u001b[0m     \u001b[0;32mdef\u001b[0m \u001b[0m_validate\u001b[0m\u001b[0;34m(\u001b[0m\u001b[0mself\u001b[0m\u001b[0;34m,\u001b[0m \u001b[0mobj\u001b[0m\u001b[0;34m,\u001b[0m \u001b[0mvalue\u001b[0m\u001b[0;34m)\u001b[0m\u001b[0;34m:\u001b[0m\u001b[0;34m\u001b[0m\u001b[0;34m\u001b[0m\u001b[0m\n",
      "\u001b[0;32m~/anaconda3/envs/python/lib/python3.9/site-packages/traitlets/traitlets.py\u001b[0m in \u001b[0;36mset\u001b[0;34m(self, obj, value)\u001b[0m\n\u001b[1;32m    593\u001b[0m             \u001b[0;31m# we explicitly compare silent to True just in case the equality\u001b[0m\u001b[0;34m\u001b[0m\u001b[0;34m\u001b[0m\u001b[0m\n\u001b[1;32m    594\u001b[0m             \u001b[0;31m# comparison above returns something other than True/False\u001b[0m\u001b[0;34m\u001b[0m\u001b[0;34m\u001b[0m\u001b[0m\n\u001b[0;32m--> 595\u001b[0;31m             \u001b[0mobj\u001b[0m\u001b[0;34m.\u001b[0m\u001b[0m_notify_trait\u001b[0m\u001b[0;34m(\u001b[0m\u001b[0mself\u001b[0m\u001b[0;34m.\u001b[0m\u001b[0mname\u001b[0m\u001b[0;34m,\u001b[0m \u001b[0mold_value\u001b[0m\u001b[0;34m,\u001b[0m \u001b[0mnew_value\u001b[0m\u001b[0;34m)\u001b[0m\u001b[0;34m\u001b[0m\u001b[0;34m\u001b[0m\u001b[0m\n\u001b[0m\u001b[1;32m    596\u001b[0m \u001b[0;34m\u001b[0m\u001b[0m\n\u001b[1;32m    597\u001b[0m     \u001b[0;32mdef\u001b[0m \u001b[0m__set__\u001b[0m\u001b[0;34m(\u001b[0m\u001b[0mself\u001b[0m\u001b[0;34m,\u001b[0m \u001b[0mobj\u001b[0m\u001b[0;34m,\u001b[0m \u001b[0mvalue\u001b[0m\u001b[0;34m)\u001b[0m\u001b[0;34m:\u001b[0m\u001b[0;34m\u001b[0m\u001b[0;34m\u001b[0m\u001b[0m\n",
      "\u001b[0;32m~/anaconda3/envs/python/lib/python3.9/site-packages/traitlets/traitlets.py\u001b[0m in \u001b[0;36m_notify_trait\u001b[0;34m(self, name, old_value, new_value)\u001b[0m\n\u001b[1;32m   1217\u001b[0m \u001b[0;34m\u001b[0m\u001b[0m\n\u001b[1;32m   1218\u001b[0m     \u001b[0;32mdef\u001b[0m \u001b[0m_notify_trait\u001b[0m\u001b[0;34m(\u001b[0m\u001b[0mself\u001b[0m\u001b[0;34m,\u001b[0m \u001b[0mname\u001b[0m\u001b[0;34m,\u001b[0m \u001b[0mold_value\u001b[0m\u001b[0;34m,\u001b[0m \u001b[0mnew_value\u001b[0m\u001b[0;34m)\u001b[0m\u001b[0;34m:\u001b[0m\u001b[0;34m\u001b[0m\u001b[0;34m\u001b[0m\u001b[0m\n\u001b[0;32m-> 1219\u001b[0;31m         self.notify_change(Bunch(\n\u001b[0m\u001b[1;32m   1220\u001b[0m             \u001b[0mname\u001b[0m\u001b[0;34m=\u001b[0m\u001b[0mname\u001b[0m\u001b[0;34m,\u001b[0m\u001b[0;34m\u001b[0m\u001b[0;34m\u001b[0m\u001b[0m\n\u001b[1;32m   1221\u001b[0m             \u001b[0mold\u001b[0m\u001b[0;34m=\u001b[0m\u001b[0mold_value\u001b[0m\u001b[0;34m,\u001b[0m\u001b[0;34m\u001b[0m\u001b[0;34m\u001b[0m\u001b[0m\n",
      "\u001b[0;32m~/anaconda3/envs/python/lib/python3.9/site-packages/ipywidgets/widgets/widget.py\u001b[0m in \u001b[0;36mnotify_change\u001b[0;34m(self, change)\u001b[0m\n\u001b[1;32m    603\u001b[0m             \u001b[0;32mif\u001b[0m \u001b[0mname\u001b[0m \u001b[0;32min\u001b[0m \u001b[0mself\u001b[0m\u001b[0;34m.\u001b[0m\u001b[0mkeys\u001b[0m \u001b[0;32mand\u001b[0m \u001b[0mself\u001b[0m\u001b[0;34m.\u001b[0m\u001b[0m_should_send_property\u001b[0m\u001b[0;34m(\u001b[0m\u001b[0mname\u001b[0m\u001b[0;34m,\u001b[0m \u001b[0mgetattr\u001b[0m\u001b[0;34m(\u001b[0m\u001b[0mself\u001b[0m\u001b[0;34m,\u001b[0m \u001b[0mname\u001b[0m\u001b[0;34m)\u001b[0m\u001b[0;34m)\u001b[0m\u001b[0;34m:\u001b[0m\u001b[0;34m\u001b[0m\u001b[0;34m\u001b[0m\u001b[0m\n\u001b[1;32m    604\u001b[0m                 \u001b[0;31m# Send new state to front-end\u001b[0m\u001b[0;34m\u001b[0m\u001b[0;34m\u001b[0m\u001b[0m\n\u001b[0;32m--> 605\u001b[0;31m                 \u001b[0mself\u001b[0m\u001b[0;34m.\u001b[0m\u001b[0msend_state\u001b[0m\u001b[0;34m(\u001b[0m\u001b[0mkey\u001b[0m\u001b[0;34m=\u001b[0m\u001b[0mname\u001b[0m\u001b[0;34m)\u001b[0m\u001b[0;34m\u001b[0m\u001b[0;34m\u001b[0m\u001b[0m\n\u001b[0m\u001b[1;32m    606\u001b[0m         \u001b[0msuper\u001b[0m\u001b[0;34m(\u001b[0m\u001b[0mWidget\u001b[0m\u001b[0;34m,\u001b[0m \u001b[0mself\u001b[0m\u001b[0;34m)\u001b[0m\u001b[0;34m.\u001b[0m\u001b[0mnotify_change\u001b[0m\u001b[0;34m(\u001b[0m\u001b[0mchange\u001b[0m\u001b[0;34m)\u001b[0m\u001b[0;34m\u001b[0m\u001b[0;34m\u001b[0m\u001b[0m\n\u001b[1;32m    607\u001b[0m \u001b[0;34m\u001b[0m\u001b[0m\n",
      "\u001b[0;32m~/anaconda3/envs/python/lib/python3.9/site-packages/ipywidgets/widgets/widget.py\u001b[0m in \u001b[0;36msend_state\u001b[0;34m(self, key)\u001b[0m\n\u001b[1;32m    479\u001b[0m             \u001b[0mA\u001b[0m \u001b[0msingle\u001b[0m \u001b[0mproperty\u001b[0m\u001b[0;31m'\u001b[0m\u001b[0ms\u001b[0m \u001b[0mname\u001b[0m \u001b[0;32mor\u001b[0m \u001b[0miterable\u001b[0m \u001b[0mof\u001b[0m \u001b[0mproperty\u001b[0m \u001b[0mnames\u001b[0m \u001b[0mto\u001b[0m \u001b[0msync\u001b[0m \u001b[0;32mwith\u001b[0m \u001b[0mthe\u001b[0m \u001b[0mfront\u001b[0m\u001b[0;34m-\u001b[0m\u001b[0mend\u001b[0m\u001b[0;34m.\u001b[0m\u001b[0;34m\u001b[0m\u001b[0;34m\u001b[0m\u001b[0m\n\u001b[1;32m    480\u001b[0m         \"\"\"\n\u001b[0;32m--> 481\u001b[0;31m         \u001b[0mstate\u001b[0m \u001b[0;34m=\u001b[0m \u001b[0mself\u001b[0m\u001b[0;34m.\u001b[0m\u001b[0mget_state\u001b[0m\u001b[0;34m(\u001b[0m\u001b[0mkey\u001b[0m\u001b[0;34m=\u001b[0m\u001b[0mkey\u001b[0m\u001b[0;34m)\u001b[0m\u001b[0;34m\u001b[0m\u001b[0;34m\u001b[0m\u001b[0m\n\u001b[0m\u001b[1;32m    482\u001b[0m         \u001b[0;32mif\u001b[0m \u001b[0mlen\u001b[0m\u001b[0;34m(\u001b[0m\u001b[0mstate\u001b[0m\u001b[0;34m)\u001b[0m \u001b[0;34m>\u001b[0m \u001b[0;36m0\u001b[0m\u001b[0;34m:\u001b[0m\u001b[0;34m\u001b[0m\u001b[0;34m\u001b[0m\u001b[0m\n\u001b[1;32m    483\u001b[0m             \u001b[0;32mif\u001b[0m \u001b[0mself\u001b[0m\u001b[0;34m.\u001b[0m\u001b[0m_property_lock\u001b[0m\u001b[0;34m:\u001b[0m  \u001b[0;31m# we need to keep this dict up to date with the front-end values\u001b[0m\u001b[0;34m\u001b[0m\u001b[0;34m\u001b[0m\u001b[0m\n",
      "\u001b[0;32m~/anaconda3/envs/python/lib/python3.9/site-packages/ipywidgets/widgets/widget.py\u001b[0m in \u001b[0;36mget_state\u001b[0;34m(self, key, drop_defaults)\u001b[0m\n\u001b[1;32m    513\u001b[0m             \u001b[0;32mraise\u001b[0m \u001b[0mValueError\u001b[0m\u001b[0;34m(\u001b[0m\u001b[0;34m\"key must be a string, an iterable of keys, or None\"\u001b[0m\u001b[0;34m)\u001b[0m\u001b[0;34m\u001b[0m\u001b[0;34m\u001b[0m\u001b[0m\n\u001b[1;32m    514\u001b[0m         \u001b[0mstate\u001b[0m \u001b[0;34m=\u001b[0m \u001b[0;34m{\u001b[0m\u001b[0;34m}\u001b[0m\u001b[0;34m\u001b[0m\u001b[0;34m\u001b[0m\u001b[0m\n\u001b[0;32m--> 515\u001b[0;31m         \u001b[0mtraits\u001b[0m \u001b[0;34m=\u001b[0m \u001b[0mself\u001b[0m\u001b[0;34m.\u001b[0m\u001b[0mtraits\u001b[0m\u001b[0;34m(\u001b[0m\u001b[0;34m)\u001b[0m\u001b[0;34m\u001b[0m\u001b[0;34m\u001b[0m\u001b[0m\n\u001b[0m\u001b[1;32m    516\u001b[0m         \u001b[0;32mfor\u001b[0m \u001b[0mk\u001b[0m \u001b[0;32min\u001b[0m \u001b[0mkeys\u001b[0m\u001b[0;34m:\u001b[0m\u001b[0;34m\u001b[0m\u001b[0;34m\u001b[0m\u001b[0m\n\u001b[1;32m    517\u001b[0m             \u001b[0mto_json\u001b[0m \u001b[0;34m=\u001b[0m \u001b[0mself\u001b[0m\u001b[0;34m.\u001b[0m\u001b[0mtrait_metadata\u001b[0m\u001b[0;34m(\u001b[0m\u001b[0mk\u001b[0m\u001b[0;34m,\u001b[0m \u001b[0;34m'to_json'\u001b[0m\u001b[0;34m,\u001b[0m \u001b[0mself\u001b[0m\u001b[0;34m.\u001b[0m\u001b[0m_trait_to_json\u001b[0m\u001b[0;34m)\u001b[0m\u001b[0;34m\u001b[0m\u001b[0;34m\u001b[0m\u001b[0m\n",
      "\u001b[0;32m~/anaconda3/envs/python/lib/python3.9/site-packages/traitlets/traitlets.py\u001b[0m in \u001b[0;36mtraits\u001b[0;34m(self, **metadata)\u001b[0m\n\u001b[1;32m   1606\u001b[0m         \u001b[0mto\u001b[0m \u001b[0mthe\u001b[0m \u001b[0mfunction\u001b[0m\u001b[0;34m.\u001b[0m\u001b[0;34m\u001b[0m\u001b[0;34m\u001b[0m\u001b[0m\n\u001b[1;32m   1607\u001b[0m         \"\"\"\n\u001b[0;32m-> 1608\u001b[0;31m         traits = dict([memb for memb in getmembers(self.__class__) if\n\u001b[0m\u001b[1;32m   1609\u001b[0m                      isinstance(memb[1], TraitType)])\n\u001b[1;32m   1610\u001b[0m \u001b[0;34m\u001b[0m\u001b[0m\n",
      "\u001b[0;32m~/anaconda3/envs/python/lib/python3.9/site-packages/traitlets/traitlets.py\u001b[0m in \u001b[0;36mgetmembers\u001b[0;34m(object, predicate)\u001b[0m\n\u001b[1;32m    232\u001b[0m         \u001b[0;32melse\u001b[0m\u001b[0;34m:\u001b[0m\u001b[0;34m\u001b[0m\u001b[0;34m\u001b[0m\u001b[0m\n\u001b[1;32m    233\u001b[0m             \u001b[0;32mif\u001b[0m \u001b[0;32mnot\u001b[0m \u001b[0mpredicate\u001b[0m \u001b[0;32mor\u001b[0m \u001b[0mpredicate\u001b[0m\u001b[0;34m(\u001b[0m\u001b[0mvalue\u001b[0m\u001b[0;34m)\u001b[0m\u001b[0;34m:\u001b[0m\u001b[0;34m\u001b[0m\u001b[0;34m\u001b[0m\u001b[0m\n\u001b[0;32m--> 234\u001b[0;31m                 \u001b[0mresults\u001b[0m\u001b[0;34m.\u001b[0m\u001b[0mappend\u001b[0m\u001b[0;34m(\u001b[0m\u001b[0;34m(\u001b[0m\u001b[0mkey\u001b[0m\u001b[0;34m,\u001b[0m \u001b[0mvalue\u001b[0m\u001b[0;34m)\u001b[0m\u001b[0;34m)\u001b[0m\u001b[0;34m\u001b[0m\u001b[0;34m\u001b[0m\u001b[0m\n\u001b[0m\u001b[1;32m    235\u001b[0m     \u001b[0mresults\u001b[0m\u001b[0;34m.\u001b[0m\u001b[0msort\u001b[0m\u001b[0;34m(\u001b[0m\u001b[0;34m)\u001b[0m\u001b[0;34m\u001b[0m\u001b[0;34m\u001b[0m\u001b[0m\n\u001b[1;32m    236\u001b[0m     \u001b[0;32mreturn\u001b[0m \u001b[0mresults\u001b[0m\u001b[0;34m\u001b[0m\u001b[0;34m\u001b[0m\u001b[0m\n",
      "\u001b[0;31mKeyboardInterrupt\u001b[0m: "
     ]
    }
   ],
   "source": [
    "from statsmodels.stats.proportion import proportion_confint\n",
    "import scipy.stats as sps\n",
    "\n",
    "\n",
    "np.random.seed(SEED)\n",
    "test_size = 250\n",
    "control_size = 500\n",
    "k_experiments = 5000\n",
    "alpha = 0.05\n",
    "distributions = [\n",
    "    (sps.norm(scale=10), sps.uniform(scale=20*3**0.5)),\n",
    "    (sps.expon(scale=4), sps.binom(64, 0.5)),\n",
    "    (sps.poisson(mu=100), sps.norm(scale=10)),\n",
    "]\n",
    "\n",
    "for distr_test, distr_control in distributions:\n",
    "    FP = 0\n",
    "    \n",
    "    for _ in tqdm(range(k_experiments)):\n",
    "        test = distr_test.rvs(test_size)\n",
    "        control = distr_control.rvs(control_size)\n",
    "        \n",
    "        is_rejected, pvalue = variance_ab_checker(control.tolist(), test.tolist(), alpha)\n",
    "        FP += is_rejected\n",
    "        \n",
    "        if (pvalue < alpha) != is_rejected:\n",
    "            print('Error')\n",
    "        \n",
    "    FPR = FP / k_experiments\n",
    "    print('FPR =', FPR)\n",
    "    print('CI = ', proportion_confint(FP, k_experiments, alpha))"
   ]
  }
 ],
 "metadata": {
  "colab": {
   "provenance": []
  },
  "kernelspec": {
   "display_name": "Python 3 (ipykernel)",
   "language": "python",
   "name": "python3"
  },
  "language_info": {
   "codemirror_mode": {
    "name": "ipython",
    "version": 3
   },
   "file_extension": ".py",
   "mimetype": "text/x-python",
   "name": "python",
   "nbconvert_exporter": "python",
   "pygments_lexer": "ipython3",
   "version": "3.9.13"
  }
 },
 "nbformat": 4,
 "nbformat_minor": 1
}
