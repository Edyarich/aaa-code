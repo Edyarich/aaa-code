{
 "cells": [
  {
   "cell_type": "markdown",
   "metadata": {
    "id": "5GqlI13cbP0V"
   },
   "source": [
    "# Прикладная статистика. ДЗ 2.\n",
    "# Академия Аналитиков Авито"
   ]
  },
  {
   "cell_type": "markdown",
   "metadata": {
    "id": "gV2RaO4_bVGa"
   },
   "source": [
    "__Правила:__\n",
    "- Жесткий дедлайн: **2022-12-31 23:59**. \n",
    "- Ответ и обсуждение решения — в телеграме.\n",
    "\n",
    "- Выполненную работу нужно отправить\n",
    "    - в чатик HW2-<ваше имя> через бота @AAA_stats23_bot\n",
    "- В качестве решения нужно отправить файл ipynb. Ссылка на интернет-ресурсы не принимается. Не публикуйте решения в открытом доступе!\n",
    "- Для выполнения задания используйте этот ноутбук в качествие основы, ничего не удаляя из него. **При этом можно добавлять новые ячейки!**\n",
    "- в ячейках с комменарием `#Автопроверка` нужно заполнить содержимое функций и классов (если есть), которые будут уже объявлены в этой ячейке. При этом:\n",
    "    - Нельзя убрирать или переставять `#Автопроверка` в ячейке. \n",
    "    - Нельзя менять сигнатуру и возвращаемое значение функций. То есть добавлять любой код можно, но удалять, что уже написано - нельзя.\n",
    "    - Нельзя ничего импортировать в таких ячейках. Все доступные для использования библиотеки будут указаны заранее. Такие слова, как `import`, `globals`, `locals`, `eval`, `exec` также нельзя использовать внутри ячеек.\n",
    "    - Нельзя использовать библиотеки, кроме тех, что указаны в задании. Ваш код должен работать именно с эти набором библиотек без любого дополнительного импорта!\n",
    "    - Нельзя использовать код из других ячеек ноутбука (кроме ячейки с импортом, в которой указаны все доступные библиотеки). Единственное исключение - если вы проставите в начало такой ячейки слово `#Автопроверка`. Тогда вы можете использовать код из этой ячейки.\n",
    "    - В случае нарушения этого правила автопроверка будет провалена и вы не получите часть баллов за задачу. \n",
    "    - В случае, если есть несколько ячеек автопроверки, то в каждой такой ячейке можно использовать созданные вами функции (или классы) из других ячеек автопроверки."
   ]
  },
  {
   "cell_type": "markdown",
   "metadata": {
    "id": "hbimwWZvfqpS"
   },
   "source": [
    "## Задача 1 (1 балл)\n",
    "\n",
    "### На зачет\n",
    "\n",
    "Пусть $x_1, ... x_N$ — реализация выборки $\\xi_1, ... \\xi_N \\sim \\mathcal{N}(\\mu,\\sigma)$. Мы хотим проверить гипотезу:\n",
    "- $H_0: \\mu = \\mu_0$\n",
    "- $H_1: \\mu \\neq \\mu_0$\n",
    "\n",
    "Реализовать критерий Стьюдента — функцию `simple_my_t_test(sample, mu_0, alpha)`. Функция должна вернуть `SimpleMyTtestResults` с полями\n",
    "- is_rejected: отверглась или нет гипотеза H_0 на уровне значимости alpha\n",
    "- pvalue\n",
    "\n",
    "Какие библиотеки можно использовать:\n",
    "\n",
    "```\n",
    "import numpy as np\n",
    "from collections import namedtuple\n",
    "import math\n",
    "from scipy.stats import t\n",
    "```"
   ]
  },
  {
   "cell_type": "code",
   "execution_count": 3,
   "metadata": {
    "id": "DRgV8e-enTmT"
   },
   "outputs": [],
   "source": [
    "import numpy as np\n",
    "from collections import namedtuple\n",
    "import math\n",
    "from scipy.stats import t\n",
    "\n",
    "\n",
    "SEED = 616"
   ]
  },
  {
   "cell_type": "markdown",
   "metadata": {
    "id": "shJrIYcMwirU"
   },
   "source": [
    "**Важно:** что ее решение надо объяснить! Можно не вдаваться в детали, но ваш алгоритм надо описать текстом."
   ]
  },
  {
   "cell_type": "markdown",
   "metadata": {},
   "source": [
    "1. Вычислить статистику $T(X) = \\sqrt{n}\\dfrac{\\overline X - \\mu_0}{\\sqrt{S^2}} \\sim t_{n - 1}$. (переменная `stat`)\n",
    "2. Вычислить границы двустороннего критерия: $\\left\\{T(X) \\geq t_{n-1, 1 - \\frac{\\alpha}{2}} \\right\\} \\bigcup \\left\\{T(X) \\leq t_{n-1, \\frac{\\alpha}{2}} \\right\\} $ (переменные `right_crit_border` и `left_crit_border` соответственно)\n",
    "3. p-value = $2\\cdot \\min \\left[{\\tau_{n-1}(z), 1 - \\tau_{n-1}(z)} \\right]$, где z &mdash; реализация статистики $T(X)$"
   ]
  },
  {
   "cell_type": "code",
   "execution_count": 5,
   "metadata": {
    "id": "tNBOaEe7jT2l"
   },
   "outputs": [],
   "source": [
    "# Автопроверка\n",
    "\n",
    "MySimpleTtestResults = namedtuple('MySimpleTtestResults', \n",
    "                                  ['is_rejected', 'pvalue'])\n",
    "\n",
    "def my_simple_t_test(sample: list, mu_0: float, alpha: float = 0.05):\n",
    "    \"\"\"\n",
    "    Параметры:\n",
    "    - sample: текущая реализация выборки\n",
    "    - mu_0: мат. ожидание выборки при H_0\n",
    "    - alpha: уровень значимости критерия.\n",
    "        \n",
    "    Возвращает:\n",
    "    - MySimpleTtestResults с полями:\n",
    "        - is_rejected: bool\n",
    "            - отверглась или нет гипотеза H_0 на уровне значимости alpha\n",
    "        - pvalue: float\n",
    "    \"\"\"\n",
    "\n",
    "    is_rejected = None\n",
    "    pvalue = None\n",
    "    distr = t(len(sample)-1)\n",
    "\n",
    "    np_sample = np.array(sample)\n",
    "    stat_numerator = np_sample.mean() - mu_0\n",
    "    stat_denominator = np_sample.std(ddof=1) / np_sample.size**0.5\n",
    "    stat = stat_numerator / stat_denominator\n",
    "    \n",
    "    left_crit_border = distr.ppf(alpha/2)\n",
    "    right_crit_border = distr.ppf(1-alpha/2)\n",
    "    is_rejected = not (left_crit_border <= stat <= right_crit_border)\n",
    "    pvalue = 2*min(distr.cdf(stat), 1-distr.cdf(stat))\n",
    "\n",
    "    return MySimpleTtestResults(is_rejected, pvalue)"
   ]
  },
  {
   "cell_type": "markdown",
   "metadata": {},
   "source": [
    "**Тесты**"
   ]
  },
  {
   "cell_type": "code",
   "execution_count": 4,
   "metadata": {},
   "outputs": [
    {
     "name": "stdout",
     "output_type": "stream",
     "text": [
      "True\n",
      "True\n",
      "True\n"
     ]
    }
   ],
   "source": [
    "from scipy.stats import ttest_1samp\n",
    "\n",
    "\n",
    "arr1 = np.array([2, 4])\n",
    "right_ttest_res = ttest_1samp(arr1, 3)\n",
    "my_ttest_res = my_simple_t_test(arr1, 3)\n",
    "print(abs(right_ttest_res.pvalue - my_ttest_res.pvalue) < 1e-6)\n",
    "\n",
    "arr2 = np.random.randn(1000) + 1\n",
    "right_ttest_res = ttest_1samp(arr2, 1)\n",
    "my_ttest_res = my_simple_t_test(arr2, 1)\n",
    "print(abs(right_ttest_res.pvalue - my_ttest_res.pvalue) < 1e-6)\n",
    "\n",
    "right_ttest_res = ttest_1samp(arr2, 0.8)\n",
    "my_ttest_res = my_simple_t_test(arr2, 0.8)\n",
    "print(abs(right_ttest_res.pvalue - my_ttest_res.pvalue) < 1e-6)"
   ]
  },
  {
   "cell_type": "markdown",
   "metadata": {
    "id": "vmoq7G0hmvkX"
   },
   "source": [
    "## Задача 2 (4 балла)\n",
    "\n",
    "Решить прошлую задачу без использования распределения Стьюдента,\n",
    "**пользуясь следующими библиотеками**\n",
    "\n",
    "```\n",
    "from numpy import mean\n",
    "from numpy import std\n",
    "from numpy import percentile\n",
    "from numpy.random import seed\n",
    "from numpy.random import rand\n",
    "from numpy import pi\n",
    "from numpy import log\n",
    "from numpy import sin\n",
    "from numpy import cos\n",
    "``` "
   ]
  },
  {
   "cell_type": "code",
   "execution_count": null,
   "metadata": {
    "id": "uvVpiY7DqK4J"
   },
   "outputs": [],
   "source": [
    "from numpy import mean\n",
    "from numpy import std\n",
    "from numpy import percentile\n",
    "from numpy.random import seed\n",
    "from numpy.random import rand # равномерное распределение на [0,1)\n",
    "from numpy import pi\n",
    "from numpy import log\n",
    "from numpy import sin\n",
    "from numpy import cos"
   ]
  },
  {
   "cell_type": "code",
   "execution_count": null,
   "metadata": {
    "id": "xy9HvQYxqLkq"
   },
   "outputs": [],
   "source": [
    "# Автопроверка\n",
    "\n",
    "MyTtestResults = namedtuple('MyTtestResults', ['is_rejected', 'pvalue'])\n",
    "\n",
    "def my_t_test(sample: list, mu_0: float, alpha: float = 0.05):\n",
    "    \"\"\"\n",
    "    Параметры:\n",
    "    - sample: текущая реализация выборки\n",
    "    - mu_0: мат. ожидание выборки при H_0\n",
    "    - alpha: уровень значимости критерия.\n",
    "        \n",
    "    Возвращает:\n",
    "    - MyTtestResults с полями:\n",
    "        - is_rejected: bool\n",
    "            - отверглась или нет гипотеза H_0 на уровне значимости alpha\n",
    "    \"\"\"\n",
    "\n",
    "    is_rejected = None\n",
    "    pvalue = None\n",
    "\n",
    "    #<Ваш код>\n",
    "\n",
    "    return MyTtestResults(is_rejected, pvalue)"
   ]
  },
  {
   "cell_type": "markdown",
   "metadata": {
    "id": "k2XNlLeI3aRt"
   },
   "source": [
    "- Для получения полного балла, p-value вашего критерия не должно отличаться от p-value `scipy.stats.ttest_1samp` больше, чем на 10^-3.\n",
    "- Если ваш код для одного теста работает больше минуты - он не засчитывается."
   ]
  },
  {
   "cell_type": "code",
   "execution_count": null,
   "metadata": {
    "id": "AYmOClX5szv9"
   },
   "outputs": [],
   "source": []
  },
  {
   "cell_type": "markdown",
   "metadata": {
    "id": "2K5E08oIygr1"
   },
   "source": [
    "## Задача 3 (4 балла)\n",
    "\n",
    "### На зачет\n",
    "\n",
    "**1. (0.5 баллов)**\n",
    "\n",
    "Написать код для проверки критерия при корректности $H_0$:\n",
    "\n",
    "- Зафиксировать $\\mu = 0,\\ \\mu_0 = 0$ ($H_0$ справедлива)\n",
    "- Зафиксировать $n, \\sigma, \\alpha$ на ваше усмотрение\n",
    "- 10000 раз повторить:\n",
    "    \n",
    "    –сгенереровать выборку $x_1,..., x_n$ из $\\mathcal{N}(\\mu, \\sigma)$\n",
    "    \n",
    "    –вызвать для нее `my_simple_t_test(sample, mu_0, alpha)`\n",
    "    \n",
    "    –на основании выдачи функции принять или не принять $H_1$\n",
    "- замерить долю ошибок первого рода (False Positive Rate)\n",
    "- Проверить, стат значимо или нет на уровне 5% отличается полученный процент ошибок от теоретического $\\alpha$.\n",
    "\n",
    "\n",
    "**2. (1.5 балла)**\n",
    "\n",
    "Провести эксперимент 1 с разными параметрами $n, \\sigma, \\alpha$.\n",
    "Оформить отчет о результатах c графиками, комментариями и выводами.\n",
    "\n",
    "--- \n",
    "**3. (0.5 баллов)**\n",
    "\n",
    "Написать код для проверки критерия при корректности $H_1$:\n",
    "\n",
    "- Зафиксировать $\\mu \\neq 0,\\ \\mu_0 = 0$ ($H_1$ справедлива)\n",
    "- Зафиксировать $n, \\sigma, \\alpha$ на ваше усмотрение\n",
    "- 10000 раз повторить:\n",
    "    \n",
    "    –сгенереровать выборку $x_1,..., x_n$ из $\\mathcal{N}(\\mu, \\sigma)$\n",
    "    \n",
    "    –вызвать для нее `my_simple_t_test(sample, mu_0, alpha)`\n",
    "    \n",
    "    –на основании выдачи функции принять или не принять $H_1$\n",
    "- замерить долю ошибок второго рода (False Negative Rate)\n",
    "- Построить доверительный интервал для мощности критерия при заданном $\\mu$.\n",
    "\n",
    "**2. (1.5 балла)**\n",
    "\n",
    "Провести предыдущий эксперимент с разными параметрами $\\mu, n, \\sigma, \\alpha$.\n",
    "Оформить отчет о результатах c графиками, комментариями и выводами."
   ]
  },
  {
   "cell_type": "markdown",
   "metadata": {},
   "source": [
    "**Проверка корректности критерия для n = 1000, $\\alpha$ = 0.03, $\\sigma$ = 5**"
   ]
  },
  {
   "cell_type": "code",
   "execution_count": 6,
   "metadata": {
    "id": "ORG3irdynEKp"
   },
   "outputs": [
    {
     "data": {
      "application/vnd.jupyter.widget-view+json": {
       "model_id": "66c32af11359436da3fd97daf8673251",
       "version_major": 2,
       "version_minor": 0
      },
      "text/plain": [
       "  0%|          | 0/10000 [00:00<?, ?it/s]"
      ]
     },
     "metadata": {},
     "output_type": "display_data"
    },
    {
     "name": "stdout",
     "output_type": "stream",
     "text": [
      "FPR = 0.03\n",
      "CI for FPR = (0.026656551904362814, 0.03334344809563718)\n"
     ]
    }
   ],
   "source": [
    "import numpy as np\n",
    "from statsmodels.stats.proportion import proportion_confint\n",
    "from tqdm.notebook import tqdm\n",
    "\n",
    "np.random.seed(SEED)\n",
    "\n",
    "N = 10000\n",
    "n = 1000\n",
    "alpha = 0.03\n",
    "sigma = 5\n",
    "bad_cnter = 0\n",
    "\n",
    "for _ in tqdm(range(N)):\n",
    "    sample = np.random.randn(n) * sigma\n",
    "    is_rejected, _ = my_simple_t_test(sample, 0, alpha)\n",
    "    \n",
    "    if is_rejected:\n",
    "        bad_cnter += 1\n",
    "\n",
    "print('FPR =', round(bad_cnter / N, 4))\n",
    "print('CI for FPR =', proportion_confint(bad_cnter, N))"
   ]
  },
  {
   "cell_type": "markdown",
   "metadata": {},
   "source": [
    "**Вывод:**  \n",
    "$\\alpha$ попадает в 95% ДИ, построенный по FPR, тут всё ОК"
   ]
  },
  {
   "cell_type": "markdown",
   "metadata": {},
   "source": [
    "**Проверка корректности критерия для n $\\in$ [10, 50, 100, 500, 1000, 5000], $\\alpha \\in$ [0.01, 0.03, 0.05], $\\sigma \\in$ [1, 5, 10, 50]**"
   ]
  },
  {
   "cell_type": "code",
   "execution_count": 12,
   "metadata": {},
   "outputs": [
    {
     "data": {
      "application/vnd.jupyter.widget-view+json": {
       "model_id": "5d5575d3b5e8460598f9f5ea79c0f4a0",
       "version_major": 2,
       "version_minor": 0
      },
      "text/plain": [
       "  0%|          | 0/72 [00:00<?, ?it/s]"
      ]
     },
     "metadata": {},
     "output_type": "display_data"
    }
   ],
   "source": [
    "import itertools\n",
    "\n",
    "np.random.seed(SEED)\n",
    "\n",
    "N = 10000\n",
    "\n",
    "param_grid = {  \n",
    "    'n_arr': [10, 50, 100, 500, 1000, 5000],\n",
    "    'alpha_arr': [0.01, 0.03, 0.05],\n",
    "    'sigma_arr': [1, 5, 10, 50]\n",
    "}\n",
    "\n",
    "all_params = [dict(zip(param_grid.keys(), v)) for v in itertools.product(*param_grid.values())]\n",
    "fpr_arr = []\n",
    "n_arr = []\n",
    "\n",
    "for params in tqdm(all_params):\n",
    "    n = params['n_arr']\n",
    "    alpha = params['alpha_arr']\n",
    "    sigma = params['sigma_arr']\n",
    "    bad_cnter = 0\n",
    "    \n",
    "    for _ in range(N):\n",
    "        sample = np.random.randn(n) * sigma\n",
    "        is_rejected, _ = my_simple_t_test(sample, 0, alpha)\n",
    "\n",
    "        if is_rejected:\n",
    "            bad_cnter += 1\n",
    "            \n",
    "    fpr_arr.append(bad_cnter / N)\n",
    "    n_arr.append(n)"
   ]
  },
  {
   "cell_type": "code",
   "execution_count": 55,
   "metadata": {},
   "outputs": [
    {
     "data": {
      "text/plain": [
       "array([[[0.0094, 0.0114, 0.0086, 0.0077],\n",
       "        [0.0331, 0.0309, 0.034 , 0.0294],\n",
       "        [0.0504, 0.0532, 0.0503, 0.0503]],\n",
       "\n",
       "       [[0.0103, 0.0104, 0.0107, 0.01  ],\n",
       "        [0.0301, 0.0296, 0.0301, 0.032 ],\n",
       "        [0.0509, 0.0531, 0.0537, 0.0502]],\n",
       "\n",
       "       [[0.0116, 0.0103, 0.0097, 0.0111],\n",
       "        [0.0317, 0.0288, 0.0302, 0.0296],\n",
       "        [0.0462, 0.0504, 0.0501, 0.0472]],\n",
       "\n",
       "       [[0.0114, 0.0089, 0.0099, 0.0097],\n",
       "        [0.0305, 0.0286, 0.0315, 0.0271],\n",
       "        [0.0487, 0.0493, 0.0521, 0.0497]],\n",
       "\n",
       "       [[0.0086, 0.009 , 0.0116, 0.0102],\n",
       "        [0.0311, 0.0296, 0.0284, 0.0301],\n",
       "        [0.0497, 0.0533, 0.0468, 0.0479]],\n",
       "\n",
       "       [[0.0091, 0.0096, 0.0077, 0.0102],\n",
       "        [0.0291, 0.0303, 0.0289, 0.0321],\n",
       "        [0.0471, 0.0472, 0.0506, 0.0502]]])"
      ]
     },
     "execution_count": 55,
     "metadata": {},
     "output_type": "execute_result"
    }
   ],
   "source": [
    "fpr_arr_gr = np.array(fpr_arr).reshape(len(param_grid['n_arr']), len(param_grid['alpha_arr']), len(param_grid['sigma_arr']))\n",
    "fp_counts = fpr_arr * N\n",
    "fpr_arr_gr"
   ]
  },
  {
   "cell_type": "markdown",
   "metadata": {},
   "source": [
    "**3D-картинка**"
   ]
  },
  {
   "cell_type": "code",
   "execution_count": 56,
   "metadata": {},
   "outputs": [
    {
     "data": {
      "text/html": [
       "        <script type=\"text/javascript\">\n",
       "        window.PlotlyConfig = {MathJaxConfig: 'local'};\n",
       "        if (window.MathJax && window.MathJax.Hub && window.MathJax.Hub.Config) {window.MathJax.Hub.Config({SVG: {font: \"STIX-Web\"}});}\n",
       "        if (typeof require !== 'undefined') {\n",
       "        require.undef(\"plotly\");\n",
       "        requirejs.config({\n",
       "            paths: {\n",
       "                'plotly': ['https://cdn.plot.ly/plotly-2.20.0.min']\n",
       "            }\n",
       "        });\n",
       "        require(['plotly'], function(Plotly) {\n",
       "            window._Plotly = Plotly;\n",
       "        });\n",
       "        }\n",
       "        </script>\n",
       "        "
      ]
     },
     "metadata": {},
     "output_type": "display_data"
    },
    {
     "data": {
      "text/html": [
       "<div>                            <div id=\"37871385-7205-473d-a822-10da5ea35fbd\" class=\"plotly-graph-div\" style=\"height:525px; width:100%;\"></div>            <script type=\"text/javascript\">                require([\"plotly\"], function(Plotly) {                    window.PLOTLYENV=window.PLOTLYENV || {};                                    if (document.getElementById(\"37871385-7205-473d-a822-10da5ea35fbd\")) {                    Plotly.newPlot(                        \"37871385-7205-473d-a822-10da5ea35fbd\",                        [{\"hovertemplate\":\"n:%{x}, alpha: %{y}, sigma: %{z}\",\"marker\":{\"color\":[0.0094,0.0114,0.0086,0.0077,0.0331,0.0309,0.034,0.0294,0.0504,0.0532,0.0503,0.0503,0.0103,0.0104,0.0107,0.01,0.0301,0.0296,0.0301,0.032,0.0509,0.0531,0.0537,0.0502,0.0116,0.0103,0.0097,0.0111,0.0317,0.0288,0.0302,0.0296,0.0462,0.0504,0.0501,0.0472,0.0114,0.0089,0.0099,0.0097,0.0305,0.0286,0.0315,0.0271,0.0487,0.0493,0.0521,0.0497,0.0086,0.009,0.0116,0.0102,0.0311,0.0296,0.0284,0.0301,0.0497,0.0533,0.0468,0.0479,0.0091,0.0096,0.0077,0.0102,0.0291,0.0303,0.0289,0.0321,0.0471,0.0472,0.0506,0.0502],\"colorbar\":{\"title\":{\"text\":\"FPR\"}},\"colorscale\":[[0.0,\"#440154\"],[0.1111111111111111,\"#482878\"],[0.2222222222222222,\"#3e4989\"],[0.3333333333333333,\"#31688e\"],[0.4444444444444444,\"#26828e\"],[0.5555555555555556,\"#1f9e89\"],[0.6666666666666666,\"#35b779\"],[0.7777777777777778,\"#6ece58\"],[0.8888888888888888,\"#b5de2b\"],[1.0,\"#fde725\"]],\"size\":5},\"mode\":\"markers\",\"x\":[0,0,0,0,0,0,0,0,0,0,0,0,1,1,1,1,1,1,1,1,1,1,1,1,2,2,2,2,2,2,2,2,2,2,2,2,3,3,3,3,3,3,3,3,3,3,3,3,4,4,4,4,4,4,4,4,4,4,4,4,5,5,5,5,5,5,5,5,5,5,5,5],\"y\":[0,0,0,0,1,1,1,1,2,2,2,2,0,0,0,0,1,1,1,1,2,2,2,2,0,0,0,0,1,1,1,1,2,2,2,2,0,0,0,0,1,1,1,1,2,2,2,2,0,0,0,0,1,1,1,1,2,2,2,2,0,0,0,0,1,1,1,1,2,2,2,2],\"z\":[0,1,2,3,0,1,2,3,0,1,2,3,0,1,2,3,0,1,2,3,0,1,2,3,0,1,2,3,0,1,2,3,0,1,2,3,0,1,2,3,0,1,2,3,0,1,2,3,0,1,2,3,0,1,2,3,0,1,2,3,0,1,2,3,0,1,2,3,0,1,2,3],\"type\":\"scatter3d\"}],                        {\"scene\":{\"xaxis\":{\"ticktext\":[\"10\",\"50\",\"100\",\"500\",\"1000\",\"5000\"],\"tickvals\":[0,1,2,3,4,5],\"title\":{\"text\":\"n\"}},\"yaxis\":{\"ticktext\":[\"0.01\",\"0.03\",\"0.05\"],\"tickvals\":[0,1,2],\"title\":{\"text\":\"alpha\"}},\"zaxis\":{\"ticktext\":[\"1\",\"5\",\"10\",\"50\"],\"tickvals\":[0,1,2,3],\"title\":{\"text\":\"sigma\"}}},\"template\":{\"data\":{\"histogram2dcontour\":[{\"type\":\"histogram2dcontour\",\"colorbar\":{\"outlinewidth\":0,\"ticks\":\"\"},\"colorscale\":[[0.0,\"#0d0887\"],[0.1111111111111111,\"#46039f\"],[0.2222222222222222,\"#7201a8\"],[0.3333333333333333,\"#9c179e\"],[0.4444444444444444,\"#bd3786\"],[0.5555555555555556,\"#d8576b\"],[0.6666666666666666,\"#ed7953\"],[0.7777777777777778,\"#fb9f3a\"],[0.8888888888888888,\"#fdca26\"],[1.0,\"#f0f921\"]]}],\"choropleth\":[{\"type\":\"choropleth\",\"colorbar\":{\"outlinewidth\":0,\"ticks\":\"\"}}],\"histogram2d\":[{\"type\":\"histogram2d\",\"colorbar\":{\"outlinewidth\":0,\"ticks\":\"\"},\"colorscale\":[[0.0,\"#0d0887\"],[0.1111111111111111,\"#46039f\"],[0.2222222222222222,\"#7201a8\"],[0.3333333333333333,\"#9c179e\"],[0.4444444444444444,\"#bd3786\"],[0.5555555555555556,\"#d8576b\"],[0.6666666666666666,\"#ed7953\"],[0.7777777777777778,\"#fb9f3a\"],[0.8888888888888888,\"#fdca26\"],[1.0,\"#f0f921\"]]}],\"heatmap\":[{\"type\":\"heatmap\",\"colorbar\":{\"outlinewidth\":0,\"ticks\":\"\"},\"colorscale\":[[0.0,\"#0d0887\"],[0.1111111111111111,\"#46039f\"],[0.2222222222222222,\"#7201a8\"],[0.3333333333333333,\"#9c179e\"],[0.4444444444444444,\"#bd3786\"],[0.5555555555555556,\"#d8576b\"],[0.6666666666666666,\"#ed7953\"],[0.7777777777777778,\"#fb9f3a\"],[0.8888888888888888,\"#fdca26\"],[1.0,\"#f0f921\"]]}],\"heatmapgl\":[{\"type\":\"heatmapgl\",\"colorbar\":{\"outlinewidth\":0,\"ticks\":\"\"},\"colorscale\":[[0.0,\"#0d0887\"],[0.1111111111111111,\"#46039f\"],[0.2222222222222222,\"#7201a8\"],[0.3333333333333333,\"#9c179e\"],[0.4444444444444444,\"#bd3786\"],[0.5555555555555556,\"#d8576b\"],[0.6666666666666666,\"#ed7953\"],[0.7777777777777778,\"#fb9f3a\"],[0.8888888888888888,\"#fdca26\"],[1.0,\"#f0f921\"]]}],\"contourcarpet\":[{\"type\":\"contourcarpet\",\"colorbar\":{\"outlinewidth\":0,\"ticks\":\"\"}}],\"contour\":[{\"type\":\"contour\",\"colorbar\":{\"outlinewidth\":0,\"ticks\":\"\"},\"colorscale\":[[0.0,\"#0d0887\"],[0.1111111111111111,\"#46039f\"],[0.2222222222222222,\"#7201a8\"],[0.3333333333333333,\"#9c179e\"],[0.4444444444444444,\"#bd3786\"],[0.5555555555555556,\"#d8576b\"],[0.6666666666666666,\"#ed7953\"],[0.7777777777777778,\"#fb9f3a\"],[0.8888888888888888,\"#fdca26\"],[1.0,\"#f0f921\"]]}],\"surface\":[{\"type\":\"surface\",\"colorbar\":{\"outlinewidth\":0,\"ticks\":\"\"},\"colorscale\":[[0.0,\"#0d0887\"],[0.1111111111111111,\"#46039f\"],[0.2222222222222222,\"#7201a8\"],[0.3333333333333333,\"#9c179e\"],[0.4444444444444444,\"#bd3786\"],[0.5555555555555556,\"#d8576b\"],[0.6666666666666666,\"#ed7953\"],[0.7777777777777778,\"#fb9f3a\"],[0.8888888888888888,\"#fdca26\"],[1.0,\"#f0f921\"]]}],\"mesh3d\":[{\"type\":\"mesh3d\",\"colorbar\":{\"outlinewidth\":0,\"ticks\":\"\"}}],\"scatter\":[{\"fillpattern\":{\"fillmode\":\"overlay\",\"size\":10,\"solidity\":0.2},\"type\":\"scatter\"}],\"parcoords\":[{\"type\":\"parcoords\",\"line\":{\"colorbar\":{\"outlinewidth\":0,\"ticks\":\"\"}}}],\"scatterpolargl\":[{\"type\":\"scatterpolargl\",\"marker\":{\"colorbar\":{\"outlinewidth\":0,\"ticks\":\"\"}}}],\"bar\":[{\"error_x\":{\"color\":\"#2a3f5f\"},\"error_y\":{\"color\":\"#2a3f5f\"},\"marker\":{\"line\":{\"color\":\"#E5ECF6\",\"width\":0.5},\"pattern\":{\"fillmode\":\"overlay\",\"size\":10,\"solidity\":0.2}},\"type\":\"bar\"}],\"scattergeo\":[{\"type\":\"scattergeo\",\"marker\":{\"colorbar\":{\"outlinewidth\":0,\"ticks\":\"\"}}}],\"scatterpolar\":[{\"type\":\"scatterpolar\",\"marker\":{\"colorbar\":{\"outlinewidth\":0,\"ticks\":\"\"}}}],\"histogram\":[{\"marker\":{\"pattern\":{\"fillmode\":\"overlay\",\"size\":10,\"solidity\":0.2}},\"type\":\"histogram\"}],\"scattergl\":[{\"type\":\"scattergl\",\"marker\":{\"colorbar\":{\"outlinewidth\":0,\"ticks\":\"\"}}}],\"scatter3d\":[{\"type\":\"scatter3d\",\"line\":{\"colorbar\":{\"outlinewidth\":0,\"ticks\":\"\"}},\"marker\":{\"colorbar\":{\"outlinewidth\":0,\"ticks\":\"\"}}}],\"scattermapbox\":[{\"type\":\"scattermapbox\",\"marker\":{\"colorbar\":{\"outlinewidth\":0,\"ticks\":\"\"}}}],\"scatterternary\":[{\"type\":\"scatterternary\",\"marker\":{\"colorbar\":{\"outlinewidth\":0,\"ticks\":\"\"}}}],\"scattercarpet\":[{\"type\":\"scattercarpet\",\"marker\":{\"colorbar\":{\"outlinewidth\":0,\"ticks\":\"\"}}}],\"carpet\":[{\"aaxis\":{\"endlinecolor\":\"#2a3f5f\",\"gridcolor\":\"white\",\"linecolor\":\"white\",\"minorgridcolor\":\"white\",\"startlinecolor\":\"#2a3f5f\"},\"baxis\":{\"endlinecolor\":\"#2a3f5f\",\"gridcolor\":\"white\",\"linecolor\":\"white\",\"minorgridcolor\":\"white\",\"startlinecolor\":\"#2a3f5f\"},\"type\":\"carpet\"}],\"table\":[{\"cells\":{\"fill\":{\"color\":\"#EBF0F8\"},\"line\":{\"color\":\"white\"}},\"header\":{\"fill\":{\"color\":\"#C8D4E3\"},\"line\":{\"color\":\"white\"}},\"type\":\"table\"}],\"barpolar\":[{\"marker\":{\"line\":{\"color\":\"#E5ECF6\",\"width\":0.5},\"pattern\":{\"fillmode\":\"overlay\",\"size\":10,\"solidity\":0.2}},\"type\":\"barpolar\"}],\"pie\":[{\"automargin\":true,\"type\":\"pie\"}]},\"layout\":{\"autotypenumbers\":\"strict\",\"colorway\":[\"#636efa\",\"#EF553B\",\"#00cc96\",\"#ab63fa\",\"#FFA15A\",\"#19d3f3\",\"#FF6692\",\"#B6E880\",\"#FF97FF\",\"#FECB52\"],\"font\":{\"color\":\"#2a3f5f\"},\"hovermode\":\"closest\",\"hoverlabel\":{\"align\":\"left\"},\"paper_bgcolor\":\"white\",\"plot_bgcolor\":\"#E5ECF6\",\"polar\":{\"bgcolor\":\"#E5ECF6\",\"angularaxis\":{\"gridcolor\":\"white\",\"linecolor\":\"white\",\"ticks\":\"\"},\"radialaxis\":{\"gridcolor\":\"white\",\"linecolor\":\"white\",\"ticks\":\"\"}},\"ternary\":{\"bgcolor\":\"#E5ECF6\",\"aaxis\":{\"gridcolor\":\"white\",\"linecolor\":\"white\",\"ticks\":\"\"},\"baxis\":{\"gridcolor\":\"white\",\"linecolor\":\"white\",\"ticks\":\"\"},\"caxis\":{\"gridcolor\":\"white\",\"linecolor\":\"white\",\"ticks\":\"\"}},\"coloraxis\":{\"colorbar\":{\"outlinewidth\":0,\"ticks\":\"\"}},\"colorscale\":{\"sequential\":[[0.0,\"#0d0887\"],[0.1111111111111111,\"#46039f\"],[0.2222222222222222,\"#7201a8\"],[0.3333333333333333,\"#9c179e\"],[0.4444444444444444,\"#bd3786\"],[0.5555555555555556,\"#d8576b\"],[0.6666666666666666,\"#ed7953\"],[0.7777777777777778,\"#fb9f3a\"],[0.8888888888888888,\"#fdca26\"],[1.0,\"#f0f921\"]],\"sequentialminus\":[[0.0,\"#0d0887\"],[0.1111111111111111,\"#46039f\"],[0.2222222222222222,\"#7201a8\"],[0.3333333333333333,\"#9c179e\"],[0.4444444444444444,\"#bd3786\"],[0.5555555555555556,\"#d8576b\"],[0.6666666666666666,\"#ed7953\"],[0.7777777777777778,\"#fb9f3a\"],[0.8888888888888888,\"#fdca26\"],[1.0,\"#f0f921\"]],\"diverging\":[[0,\"#8e0152\"],[0.1,\"#c51b7d\"],[0.2,\"#de77ae\"],[0.3,\"#f1b6da\"],[0.4,\"#fde0ef\"],[0.5,\"#f7f7f7\"],[0.6,\"#e6f5d0\"],[0.7,\"#b8e186\"],[0.8,\"#7fbc41\"],[0.9,\"#4d9221\"],[1,\"#276419\"]]},\"xaxis\":{\"gridcolor\":\"white\",\"linecolor\":\"white\",\"ticks\":\"\",\"title\":{\"standoff\":15},\"zerolinecolor\":\"white\",\"automargin\":true,\"zerolinewidth\":2},\"yaxis\":{\"gridcolor\":\"white\",\"linecolor\":\"white\",\"ticks\":\"\",\"title\":{\"standoff\":15},\"zerolinecolor\":\"white\",\"automargin\":true,\"zerolinewidth\":2},\"scene\":{\"xaxis\":{\"backgroundcolor\":\"#E5ECF6\",\"gridcolor\":\"white\",\"linecolor\":\"white\",\"showbackground\":true,\"ticks\":\"\",\"zerolinecolor\":\"white\",\"gridwidth\":2},\"yaxis\":{\"backgroundcolor\":\"#E5ECF6\",\"gridcolor\":\"white\",\"linecolor\":\"white\",\"showbackground\":true,\"ticks\":\"\",\"zerolinecolor\":\"white\",\"gridwidth\":2},\"zaxis\":{\"backgroundcolor\":\"#E5ECF6\",\"gridcolor\":\"white\",\"linecolor\":\"white\",\"showbackground\":true,\"ticks\":\"\",\"zerolinecolor\":\"white\",\"gridwidth\":2}},\"shapedefaults\":{\"line\":{\"color\":\"#2a3f5f\"}},\"annotationdefaults\":{\"arrowcolor\":\"#2a3f5f\",\"arrowhead\":0,\"arrowwidth\":1},\"geo\":{\"bgcolor\":\"white\",\"landcolor\":\"#E5ECF6\",\"subunitcolor\":\"white\",\"showland\":true,\"showlakes\":true,\"lakecolor\":\"white\"},\"title\":{\"x\":0.05},\"mapbox\":{\"style\":\"light\"}}}},                        {\"responsive\": true}                    ).then(function(){\n",
       "                            \n",
       "var gd = document.getElementById('37871385-7205-473d-a822-10da5ea35fbd');\n",
       "var x = new MutationObserver(function (mutations, observer) {{\n",
       "        var display = window.getComputedStyle(gd).display;\n",
       "        if (!display || display === 'none') {{\n",
       "            console.log([gd, 'removed!']);\n",
       "            Plotly.purge(gd);\n",
       "            observer.disconnect();\n",
       "        }}\n",
       "}});\n",
       "\n",
       "// Listen for the removal of the full notebook cells\n",
       "var notebookContainer = gd.closest('#notebook-container');\n",
       "if (notebookContainer) {{\n",
       "    x.observe(notebookContainer, {childList: true});\n",
       "}}\n",
       "\n",
       "// Listen for the clearing of the current output cell\n",
       "var outputEl = gd.closest('.output');\n",
       "if (outputEl) {{\n",
       "    x.observe(outputEl, {childList: true});\n",
       "}}\n",
       "\n",
       "                        })                };                });            </script>        </div>"
      ]
     },
     "metadata": {},
     "output_type": "display_data"
    }
   ],
   "source": [
    "import numpy as np\n",
    "import plotly.graph_objects as go\n",
    "import plotly.io as pio\n",
    "pio.renderers.default = \"notebook_connected\"\n",
    "\n",
    "\n",
    "# Reshape the data into a flat array\n",
    "x, y, z = fpr_arr_gr.nonzero()\n",
    "values = fpr_arr_gr[x, y, z]\n",
    "\n",
    "# Create the scatterplot\n",
    "scatter = go.Scatter3d(\n",
    "    x=x,\n",
    "    y=y,\n",
    "    z=z,\n",
    "    mode='markers',\n",
    "    hovertemplate=\"n:%{x}, alpha: %{y}, sigma: %{z}\",\n",
    "    marker=dict(\n",
    "        size=5,\n",
    "        color=values,\n",
    "        colorscale='Viridis',\n",
    "        colorbar=dict(title='FPR')\n",
    "    )\n",
    ")\n",
    "\n",
    "layout = go.Layout(\n",
    "    scene=dict(\n",
    "        xaxis_title='n',\n",
    "        yaxis_title='alpha',\n",
    "        zaxis_title='sigma',\n",
    "        xaxis=dict(\n",
    "            tickvals=np.arange(len(param_grid['n_arr'])),\n",
    "            ticktext=[str(x) for x in param_grid['n_arr']]\n",
    "        ),\n",
    "        yaxis=dict(\n",
    "            tickvals=np.arange(len(param_grid['alpha_arr'])),\n",
    "            ticktext=[str(x) for x in param_grid['alpha_arr']]\n",
    "        ),\n",
    "        zaxis=dict(\n",
    "            tickvals=np.arange(len(param_grid['sigma_arr'])),\n",
    "            ticktext=[str(x) for x in param_grid['sigma_arr']]\n",
    "        ),\n",
    "    )\n",
    ")\n",
    "\n",
    "fig = go.Figure(data=[scatter], layout=layout)\n",
    "\n",
    "fig.show()"
   ]
  },
  {
   "cell_type": "markdown",
   "metadata": {},
   "source": [
    "**2D-проекции**"
   ]
  },
  {
   "cell_type": "code",
   "execution_count": 30,
   "metadata": {},
   "outputs": [],
   "source": [
    "import seaborn as sns\n",
    "import matplotlib.pyplot as plt\n",
    "from matplotlib.cm import ScalarMappable\n",
    "\n",
    "sns.set(font_scale=1.2, palette='Set2')\n",
    "\n",
    "plt.rcParams['font.family'] = 'DejaVu Serif'\n",
    "plt.rcParams['lines.linewidth'] = 2\n",
    "plt.rcParams['lines.markersize'] = 12\n",
    "plt.rcParams['xtick.labelsize'] = 16\n",
    "plt.rcParams['ytick.labelsize'] = 24\n",
    "plt.rcParams['legend.fontsize'] = 24\n",
    "plt.rcParams['axes.titlesize'] = 30\n",
    "plt.rcParams['axes.labelsize'] = 24\n",
    "plt.rcParams[\"figure.figsize\"] = (14, 8)"
   ]
  },
  {
   "cell_type": "code",
   "execution_count": 59,
   "metadata": {},
   "outputs": [
    {
     "name": "stdout",
     "output_type": "stream",
     "text": [
      "[0.0094 0.0114 0.0086 0.0077 0.0331 0.0309 0.034  0.0294 0.0504 0.0532\n",
      " 0.0503 0.0503]\n",
      "[0.0103 0.0104 0.0107 0.01   0.0301 0.0296 0.0301 0.032  0.0509 0.0531\n",
      " 0.0537 0.0502]\n",
      "[0.0116 0.0103 0.0097 0.0111 0.0317 0.0288 0.0302 0.0296 0.0462 0.0504\n",
      " 0.0501 0.0472]\n",
      "[0.0114 0.0089 0.0099 0.0097 0.0305 0.0286 0.0315 0.0271 0.0487 0.0493\n",
      " 0.0521 0.0497]\n",
      "[0.0086 0.009  0.0116 0.0102 0.0311 0.0296 0.0284 0.0301 0.0497 0.0533\n",
      " 0.0468 0.0479]\n",
      "[0.0091 0.0096 0.0077 0.0102 0.0291 0.0303 0.0289 0.0321 0.0471 0.0472\n",
      " 0.0506 0.0502]\n"
     ]
    },
    {
     "data": {
      "image/png": "[encoded data removed]",
      "text/plain": [
       "<Figure size 2000x1200 with 7 Axes>"
      ]
     },
     "metadata": {},
     "output_type": "display_data"
    }
   ],
   "source": [
    "from mpl_toolkits.axes_grid1 import make_axes_locatable\n",
    "\n",
    "\n",
    "fig, axes = plt.subplots(2, 3, figsize=(20, 12))\n",
    "\n",
    "for ind in range(len(param_grid['n_arr'])):\n",
    "    i, j = divmod(ind, 3)\n",
    "    \n",
    "    x, y = fpr_arr_gr[ind].nonzero()\n",
    "    values = fpr_arr_gr[ind, x, y]\n",
    "    print(values)\n",
    "    \n",
    "    axes[i, j].scatter(x=np.tile([0, 1, 2, 3], 3), y=np.repeat([0, 1, 2], 4), c=values)\n",
    "    axes[i, j].set_title(f\"Sample size = {param_grid['n_arr'][ind]}\")\n",
    "    \n",
    "    axes[i, j].set_xlabel('sigma')\n",
    "    axes[i, j].set_ylabel('alpha')\n",
    "    \n",
    "    axes[i, j].set_xticks(range(4), list(map(str, param_grid['sigma_arr'])))\n",
    "    axes[i, j].set_yticks(range(3), list(map(str, param_grid['alpha_arr'])))\n",
    "    \n",
    "sm = ScalarMappable()\n",
    "sm.set_array([min(fpr_arr), max(fpr_arr)])  # Set empty array\n",
    "\n",
    "cax = fig.add_axes([0.92, 0.15, 0.03, 0.7])\n",
    "cbar = fig.colorbar(sm, cax=cax, orientation='vertical')\n",
    "\n",
    "cbar.set_label('FPR')\n",
    "\n",
    "plt.show()"
   ]
  },
  {
   "cell_type": "markdown",
   "metadata": {},
   "source": [
    "**Вывод:**  \n",
    "В каждом случае FPR близок к истинному $\\alpha$, погрешность составляет не более трёх тысячных.  \n",
    "В эксперименте использовались разные размеры выборок и их дисперсии.  \n",
    "Исходя из этого, можно заключить следующее: для выборок из нормального распределения ttest работает, даже для маленьких выборок (размера 10) и выборок с большой дисперсией (2500)"
   ]
  },
  {
   "cell_type": "markdown",
   "metadata": {},
   "source": [
    "**Замерка мощности критерия для n = 1000, $\\mu$ = 1, $\\alpha$ = 0.03, $\\sigma$ = 20**"
   ]
  },
  {
   "cell_type": "code",
   "execution_count": 62,
   "metadata": {},
   "outputs": [
    {
     "data": {
      "application/vnd.jupyter.widget-view+json": {
       "model_id": "a2c66f567e294af5be8c9bc86656792d",
       "version_major": 2,
       "version_minor": 0
      },
      "text/plain": [
       "  0%|          | 0/10000 [00:00<?, ?it/s]"
      ]
     },
     "metadata": {},
     "output_type": "display_data"
    },
    {
     "name": "stdout",
     "output_type": "stream",
     "text": [
      "TPR = 0.284\n",
      "CI for TPR = (0.275558050034715, 0.29324194996528496)\n"
     ]
    }
   ],
   "source": [
    "from statsmodels.stats.proportion import proportion_confint\n",
    "from tqdm.notebook import tqdm\n",
    "\n",
    "np.random.seed(SEED)\n",
    "\n",
    "N = 10000\n",
    "n = 1000\n",
    "alpha = 0.03\n",
    "sigma = 20\n",
    "mu = 1\n",
    "bad_cnter = 0\n",
    "\n",
    "for _ in tqdm(range(N)):\n",
    "    sample = np.random.randn(n) * sigma + mu\n",
    "    is_rejected, _ = my_simple_t_test(sample, 0, alpha)\n",
    "    \n",
    "    if is_rejected:\n",
    "        bad_cnter += 1\n",
    "\n",
    "print('TPR =', round(bad_cnter / N, 3))\n",
    "print('CI for TPR =', proportion_confint(bad_cnter, N))"
   ]
  },
  {
   "cell_type": "markdown",
   "metadata": {
    "id": "45_mv16Fx2Ex"
   },
   "source": [
    "## Задача 4 (2 балла)\n",
    "\n",
    "### На зачет\n",
    "\n",
    "Петя скачал себе новую игру себе на телефон. Чтобы начать в нее играть, она должна загрузиться от 0% до 100%, где каждый процент игры загружается независимо ни от чего, и время загрузки каждого процента подчиняется экспоненциальному распределению со средним в 2 сек. Но вот незадача: через 3 минуты Пете надо бежать на автобус к бабушке в деревню, а в дороге Петя хочет уже поиграть( Но игра может скачаться только при подключенном домашнем WI-FI, то есть только только в течение этих 3 минут. С какой вероятностью игра успеет загрузиться и Петя сможет поиграть в дороге? В ответе можно использовать следующие функции распределения:\n",
    "\n",
    "- Экспоненциальное\n",
    "- Нормальное\n",
    "- Равномерное\n",
    "\n"
   ]
  },
  {
   "cell_type": "markdown",
   "metadata": {
    "id": "2q3ks8QEx-je"
   },
   "source": [
    "**Условие задачи в теорверской постановке:**\n",
    "\n",
    "$\\xi_i \\sim \\text{Exp}(2) = \\Gamma(2, 1)$\n",
    "\n",
    "$P(\\xi_1 + \\ldots + \\xi_{100} \\leqslant 180) = \\; ?$\n",
    "\n",
    "**Решение задачи:**\n",
    "\n",
    "$\\xi_1 + \\ldots + \\xi_{100} \\sim \\Gamma(2, 100)$, но поскольку не разрешается пользоваться гамма-распределением, то воспользуемся следующей аппроксимацией [ссылка](https://ru.wikipedia.org/wiki/%D0%93%D0%B0%D0%BC%D0%BC%D0%B0-%D1%80%D0%B0%D1%81%D0%BF%D1%80%D0%B5%D0%B4%D0%B5%D0%BB%D0%B5%D0%BD%D0%B8%D0%B5):  \n",
    "\n",
    "$\\Gamma(2, 100) \\approx \\mathcal{N}(\\dfrac{100}{2}, \\dfrac{100}{4}) = \\mathcal{N}(50, 25)$  \n",
    "\n",
    "Итоговый ответ: $F_{\\mathcal{N}(50, 25)}(180)$"
   ]
  },
  {
   "cell_type": "code",
   "execution_count": 67,
   "metadata": {},
   "outputs": [
    {
     "data": {
      "text/plain": [
       "1.0"
      ]
     },
     "execution_count": 67,
     "metadata": {},
     "output_type": "execute_result"
    }
   ],
   "source": [
    "answer = sps.norm(50, 25**0.5).cdf(180)\n",
    "answer"
   ]
  },
  {
   "cell_type": "markdown",
   "metadata": {},
   "source": [
    "Сравним аппроксимационный ответ с истинным"
   ]
  },
  {
   "cell_type": "code",
   "execution_count": 70,
   "metadata": {},
   "outputs": [
    {
     "data": {
      "text/plain": [
       "1.0"
      ]
     },
     "execution_count": 70,
     "metadata": {},
     "output_type": "execute_result"
    }
   ],
   "source": [
    "true_answer = sps.gamma(a=100, scale=0.5).cdf(180)\n",
    "true_answer"
   ]
  },
  {
   "cell_type": "markdown",
   "metadata": {},
   "source": [
    "Пасьянс сошёлся"
   ]
  },
  {
   "cell_type": "markdown",
   "metadata": {
    "id": "dI18aIgVfjLR"
   },
   "source": [
    "## Задача 5 (3 балла)\n",
    "\n",
    "### На зачет\n",
    "\n",
    "Пусть есть равные группы A и B. По результатам теста выручка от одного пользователя в среднем в условиях A оценивается Стьдентом как 50 ± 3 руб, а в условиях B как 56 ± 4 руб. Аналитик, увидев такие результаты, говорит, что эффект составил 6 ± 7 руб, а значит результат AB-теста не стат. значим. Все ли корректно в этих рассуждениях? Любой ответ должен быть аргументирован. В случае, еcли в рассуждениях есть ошибка, то надо также посчитать корректно доверительный интервал.\n"
   ]
  },
  {
   "cell_type": "markdown",
   "metadata": {
    "id": "kGW6EgLw35Wq"
   },
   "source": [
    "**Обозначения:**\n",
    "- $S_A, S_B$ -- выборочные дисперсии выборок $A$ и $B$ соответственно  \n",
    "- $n, m$ -- размеры выборок $A$ и $B$ соответственно\n",
    "- $z_\\theta$ -- $\\theta$-квантиль $\\mathcal{N}(0, 1)$\n",
    "- $t_N^\\theta$ -- $\\theta$-квантиль распр-ия Стьюдента, при большом $N$ совпадает с $z_\\theta$\n",
    "\n",
    "ДИ группы A: $\\overline{A} \\pm t_{n-1}^{1-\\alpha/2} \\sqrt{\\dfrac{S_A^2}{n}}$\n",
    "\n",
    "ДИ группы B: $\\overline{B} \\pm t_{m-1}^{1-\\alpha/2} \\sqrt{\\dfrac{S_B^2}{m}}$\n",
    "\n",
    "Сумма ДИ: $\\overline{B} - \\overline{A} \\pm \\biggl( t_{n-1}^{1-\\alpha/2} \\sqrt{\\dfrac{S_A^2}{n}} + t_{m-1}^{1-\\alpha/2} \\sqrt{\\dfrac{S_B^2}{m}} \\biggr)$\n",
    "\n",
    "Корректный ДИ: $\\overline{B} - \\overline{A} \\pm t_{n+m-2}^{1-\\alpha/2} \\sqrt{\\dfrac{S_A^2}{n} + \\dfrac{S_B^2}{m}}$\n",
    "\n",
    "**Итог:**  \n",
    "Даже если положить, что $n$ и $m$ велики (в рез-те все квантили равны), всё равно данное размышление неверно, ибо $\\sqrt{x} + \\sqrt{y} \\neq \\sqrt{x+y}$"
   ]
  },
  {
   "cell_type": "markdown",
   "metadata": {
    "id": "tT77on75fBaX"
   },
   "source": [
    "## Задача 6\n",
    "\n",
    "### Пункт А. 1 балл: \n",
    "#### На зачет\n",
    "\n",
    "Какая связь между MDE и шириной доверительного интервала в t-test уровня значимости $\\alpha$? Точнее, между MDE и `CI length / 2` (шириной дов. интервала пополам).\n",
    "\n",
    "При каких параметрах ($\\alpha,\\ \\beta$) они будут равны?\n",
    "\n"
   ]
  },
  {
   "cell_type": "markdown",
   "metadata": {},
   "source": [
    "**Примечание:**\n",
    "- В MDE используется $1-\\alpha/2$ вместо $1-\\alpha$, так как рассматривается двусторонняя альтернатива. И соответственно, доверительный интервал тоже будет двусторонним, иначе его длина не определена\n",
    "- $S_X, S_Y$ -- выборочные дисперсии выборок $X$ и $Y$ соответственно  \n",
    "- $n, m$ -- размеры выборок $X$ и $Y$ соответственно\n",
    "- $z_\\theta$ -- $\\theta$-квантиль $\\mathcal{N}(0, 1)$\n",
    "- $t_N^\\theta$ -- $\\theta$-квантиль распр-ия Стьюдента, при большом $N$ совпадает с $z_\\theta$\n",
    "\n",
    "MDE = $\\sqrt{\\dfrac{S_X^2}{n} + \\dfrac{S_Y^2}{m}} \\cdot (z_{1-\\alpha/2} + z_{1-\\beta})$\n",
    "\n",
    "|CI|/2 = $t_{n+m-2}^{1-\\alpha/2} \\sqrt{\\dfrac{S_X^2}{n} + \\dfrac{S_Y^2}{m}}$\n",
    "\n",
    "$$ MDE \\; \\text{ vs } \\; \\dfrac{|CI|}{2}$$\n",
    "\n",
    "$$(z_{1-\\alpha/2} + z_{1-\\beta}) \\; \\text{ vs } \\; t_{n+m-2}^{1-\\alpha/2}$$\n",
    "\n",
    "$$(z_{1-\\alpha/2} + z_{1-\\beta}) \\; \\text{ vs } \\; z_{1-\\alpha/2}$$\n",
    "\n",
    "$$z_{1-\\beta} \\; \\text{ vs } \\; 0$$\n",
    "\n",
    "**Итог**:  \n",
    "$MDE \\geqslant |CI|/2 \\Longleftrightarrow z_{1-\\beta} \\geqslant 0 \\Longleftrightarrow 1 - \\beta \\geqslant 0.5 \\Longleftrightarrow \\beta \\leqslant 0.5$.  \n",
    "Так как последнее условие выполняется почти всегда, то можно считать, что MDE есть верхняя оценка на полдлины доверительного интервала"
   ]
  },
  {
   "cell_type": "markdown",
   "metadata": {
    "id": "0e0A90Yfh7Ir"
   },
   "source": [
    "### Пункт B. 2 балла: \n",
    "\n",
    "Допустим, вам дан критерий $\\Psi$ для провекри гипотезы $H_0: D \\overline X = \\sigma^2$. Статистика критерия &mdash; $S^2$, а сам критерий является черным ящиком. Можно ли найти такие параметры $\\alpha$, $\\beta$, чтобы значение MDE равнялась `CI length / 2` уровня значимости $\\alpha$? При этом вы не знаете распределения $S^2$?\n",
    "\n",
    "Какого свойства распределения статистики вам не хватает, чтобы можно было без знания самого распределения приравнять MDE и половину ширины дов. интервала?"
   ]
  },
  {
   "cell_type": "code",
   "execution_count": null,
   "metadata": {
    "id": "rhZlaOCim8FP"
   },
   "outputs": [],
   "source": []
  },
  {
   "cell_type": "markdown",
   "metadata": {
    "id": "m9SBi2eum9U4"
   },
   "source": [
    "## Задача 7 (1 балл)\n",
    "\n",
    "### Пункт А. 1 балл:\n",
    "\n",
    "Пусть даны независимые выборки $A, B$ равного размера. То есть у вас есть выборки $A_1, A_2, \\dots A_N$ и $B_1, B_2, \\dots B_N$, N большое.\n",
    "\n",
    "Докажите теоретически, что в этом случае вы можете точно также использовать `T'-test`. То есть:\n",
    "\n",
    "$T(A, B) = \\dfrac{\\overline A - \\overline B}{\\sqrt{S^2/N}} \\overset{H_0}{\\sim} \\mathcal{N}(0, 1)$, \n",
    "Где $S^2$ &mdash; статистика S^2 для некоторой выборки\n",
    "\n"
   ]
  },
  {
   "cell_type": "code",
   "execution_count": null,
   "metadata": {
    "id": "NnIMYpactX0j"
   },
   "outputs": [],
   "source": []
  },
  {
   "cell_type": "markdown",
   "metadata": {
    "id": "M6pGAhQ5tX--"
   },
   "source": [
    "### Пункт B* 2 балла:\n",
    "\n",
    "Докажите что в этом случае\n",
    "\n",
    "- $T(A, B) = \\dfrac{\\overline A - \\overline B}{\\sqrt{S^2_{A}/N + S^2_{B}/N}} \\overset{H_0}{\\sim} \\mathcal{N}(0, 1)$\n"
   ]
  },
  {
   "cell_type": "code",
   "execution_count": null,
   "metadata": {
    "id": "9hmqRzNYyI4M"
   },
   "outputs": [],
   "source": []
  },
  {
   "cell_type": "markdown",
   "metadata": {
    "id": "Kcc2WAQ44rT3"
   },
   "source": [
    "## Задача 8* (3 балла)\n",
    "\n",
    "На занятии мы увидели, почему большой размер выборки помогает точнее получить оценку для матожидания случайной величины. Используя аппарат математической статистики, покажите, какому товару стоит доверять больше. Возможно, вам придётся использовать допущения, но такова жизнь.\n",
    "\n",
    "Согласны ли вы с автором поста? Есть ли дополнительные (не связанные с математикой) причины доверять правому товару больше чем левому?\n",
    "\n",
    "![](https://i.redd.it/g5dt76g55sa71.jpg)"
   ]
  }
 ],
 "metadata": {
  "colab": {
   "provenance": []
  },
  "kernelspec": {
   "display_name": "Python 3 (ipykernel)",
   "language": "python",
   "name": "python3"
  },
  "language_info": {
   "codemirror_mode": {
    "name": "ipython",
    "version": 3
   },
   "file_extension": ".py",
   "mimetype": "text/x-python",
   "name": "python",
   "nbconvert_exporter": "python",
   "pygments_lexer": "ipython3",
   "version": "3.9.16"
  }
 },
 "nbformat": 4,
 "nbformat_minor": 1
}
